{
 "cells": [
  {
   "cell_type": "markdown",
   "metadata": {},
   "source": [
    "Copyright (C) 2023 Pablo Castells y Alejandro Bellogín\n",
    "\n",
    "El código que contine este notebook se ha implementado para la realización de las prácticas de la asignatura \"Búsqueda y minería de información\" de 4º del Grado en Ingeniería Informática, impartido en la Escuela Politécnica Superior de la Universidad Autónoma de Madrid. El fin del mismo, así como su uso, se ciñe a las actividades docentes de dicha asignatura."
   ]
  },
  {
   "cell_type": "markdown",
   "metadata": {
    "id": "--pSxv2vpvUg"
   },
   "source": [
    "### **Búsqueda y Minería de Información 2022-23**\n",
    "### Universidad Autónoma de Madrid, Escuela Politécnica Superior\n",
    "### Grado en Ingeniería Informática, 4º curso\n",
    "\n",
    "# Bloque 2 - Análisis de redes sociales\n",
    "\n",
    "Fechas:\n",
    "\n",
    "* Comienzo: martes 28 / jueves 30 de marzo.\n",
    "* Entrega: lunes 8 de mayo, 23:59.\n",
    "\n",
    "## Objetivos\n",
    "\n",
    "Este segundo bloque de la práctica tiene por objetivo la implementación de funcionalidades de análisis de redes sociales. En este bloque se desarrollarán:\n",
    "\n",
    "* Métricas que se utilizan en el análisis de redes sociales.\n",
    "* Otras funcionalidades a elección opcional del estudiante, tales como más métricas, la detección de comunidades, la generación aleatoria de redes sociales, o la recomendación de contactos.\n",
    "\n",
    "## Material proporcionado\n",
    "\n",
    "Se proporcionan software y datos para la realización de la práctica:\n",
    "\n",
    "* Un esqueleto de clases y funciones donde el estudiante desarrollará sus implementaciones. De modo similar a las prácticas anteriores, se proporciona una celda de prueba al final, que deberá funcionar con el código implementado por el estudiante.\n",
    "* Redes sociales de prueba:\n",
    "  - Tres redes pequeñas de prueba.\n",
    "  - Redes reales: la red disponible en [SNAP (facebook_combined)](https://snap.stanford.edu/data/egonets-Facebook.html), y <ins>twitter.csv</ins> obtenida mediante una descarga de Twitter (unos 10 mil usuarios con medio millón de relaciones follow).\n",
    "  - Al conjunto de redes de prueba, el estudiante añadirá dos redes más, simuladas, en el ejercicio 5.\n",
    "  \n",
    "Los esqueletos de código que se proporcionan aquí son a modo de guía: el estudiante puede modificarlo todo libremente, siempre que la celda de prueba funcione correctamente **sin cambios**.\n",
    "\n",
    "## Calificación\n",
    "\n",
    "El peso de esta práctica (recomendación + redes sociales) en la nota final de prácticas es del **40%**.\n",
    "\n",
    "La calificación se basará en el **número** de ejercicios realizados y la **calidad** de los mismos. La puntuación que se indica en cada apartado es orientativa, en principio se aplicará tal cual se refleja pero podrá matizarse por criterios de buen sentido si se da el caso.\n",
    "\n",
    "Para dar por válida la realización de un ejercicio, el código deberá funcionar (a la primera) integrado con las clases que se facilitan. El profesor comprobará este aspecto ejecutando la celda de prueba y otras adicionales.\n",
    "\n",
    "La corrección de las implementaciones se observará por la **coherencia de los resultados**, y se valorará la eficiencia en tiempo de ejecución.\n",
    "\n",
    "## Entrega\n",
    "\n",
    "La entrega consistirá en dos ficheros tipo *notebook* (uno para recomendación y otro para redes sociales) donde se incluirán todas las **implementaciones** solicitadas en cada ejercicio, así como una explicación de cada uno a modo de **memoria**.\n",
    "\n",
    "## Indicaciones\n",
    "\n",
    "La realización de los ejercicios conducirá en muchos casos a la implementación de funciones y/o clases adicionales a las que se indican en el enunciado. Algunas vendrán dadas por su aparición en los propias celdas de prueba, y otras por conveniencia a criterio del estudiante.\n",
    "\n",
    "Igual que en prácticas anteriores, no deberán editarse las celdas de prueba. Estas celdas deberán ejecutar sin errores a la primera con el código entregado por el estudiante (naturalmente con salvedad de los ejercicios que no se hayan implementado."
   ]
  },
  {
   "cell_type": "markdown",
   "metadata": {
    "id": "7lOWgbqZpV01"
   },
   "source": [
    "## Ejercicio 5: Preliminares (1.5pt)\n",
    "\n",
    "Generar dos **redes sociales simuladas** siguiendo los modelos de Barabási-Albert y Erdös-Rényi. El tamaño y densidad de los grafos se deja a elección propia. Se puede utilizar para ello cualquier herramienta (como NetworkX, o el entorno interactivo de Gephi), o bien programar implementaciones propias (lo cual también es muy sencillo).\n",
    "\n",
    "Realizar un análisis básico de la **distribución del grado** en las siete redes sociales de la práctica: small x 3, Facebook, Twitter, Barabási-Albert y Erdös-Rényi. Para cada red:\n",
    "\n",
    "* Generar una gráfica de distribución del grado (utilizando escala log-log cuando ello sea útil) y comprobar en qué medida se observa una distribución power law.\n",
    "* Verificar si se observa la paradoja de la amistad (en sus diferentes versiones).\n",
    "\n",
    "Los resultados de este ejercicio no conllevan entrega de software, sino sólo la documentación de los mismos en el apartado de memoria."
   ]
  },
  {
   "cell_type": "code",
   "execution_count": 194,
   "metadata": {
    "id": "br7yqFrnpZYl"
   },
   "outputs": [],
   "source": [
    "# Si se ha implementado algún código, se puede incluir aquí\n",
    "# Si no se ha utilizado Python, se puede utilizar el apartado de explicación siguiente para describir el proceso y las herramientas utilizadas"
   ]
  },
  {
   "cell_type": "code",
   "execution_count": 195,
   "metadata": {},
   "outputs": [],
   "source": [
    "import pandas as pd\n",
    "import os\n",
    "import numpy as np\n",
    "import networkx as nx\n",
    "import matplotlib.pyplot as plt\n",
    "import random"
   ]
  },
  {
   "cell_type": "code",
   "execution_count": 196,
   "metadata": {},
   "outputs": [],
   "source": [
    "NETWORKS_PATH = 'networks'\n",
    "ERDOS_FILENAME = 'erdos_renyi.csv'\n",
    "BARABASI_FILENAME = 'barabasi_albert.csv'"
   ]
  },
  {
   "cell_type": "code",
   "execution_count": 197,
   "metadata": {},
   "outputs": [
    {
     "name": "stdout",
     "output_type": "stream",
     "text": [
      "[[0 1 0 ... 1 0 0]\n",
      " [1 0 0 ... 0 0 0]\n",
      " [0 0 0 ... 0 0 0]\n",
      " ...\n",
      " [1 0 0 ... 0 0 0]\n",
      " [0 0 0 ... 0 0 0]\n",
      " [0 0 0 ... 0 0 0]]\n"
     ]
    },
    {
     "data": {
      "text/html": [
       "<div>\n",
       "<style scoped>\n",
       "    .dataframe tbody tr th:only-of-type {\n",
       "        vertical-align: middle;\n",
       "    }\n",
       "\n",
       "    .dataframe tbody tr th {\n",
       "        vertical-align: top;\n",
       "    }\n",
       "\n",
       "    .dataframe thead th {\n",
       "        text-align: right;\n",
       "    }\n",
       "</style>\n",
       "<table border=\"1\" class=\"dataframe\">\n",
       "  <thead>\n",
       "    <tr style=\"text-align: right;\">\n",
       "      <th></th>\n",
       "      <th>u</th>\n",
       "      <th>v</th>\n",
       "    </tr>\n",
       "  </thead>\n",
       "  <tbody>\n",
       "    <tr>\n",
       "      <th>0</th>\n",
       "      <td>0</td>\n",
       "      <td>1</td>\n",
       "    </tr>\n",
       "    <tr>\n",
       "      <th>1</th>\n",
       "      <td>0</td>\n",
       "      <td>6</td>\n",
       "    </tr>\n",
       "    <tr>\n",
       "      <th>2</th>\n",
       "      <td>0</td>\n",
       "      <td>9</td>\n",
       "    </tr>\n",
       "    <tr>\n",
       "      <th>3</th>\n",
       "      <td>0</td>\n",
       "      <td>23</td>\n",
       "    </tr>\n",
       "    <tr>\n",
       "      <th>4</th>\n",
       "      <td>0</td>\n",
       "      <td>29</td>\n",
       "    </tr>\n",
       "    <tr>\n",
       "      <th>...</th>\n",
       "      <td>...</td>\n",
       "      <td>...</td>\n",
       "    </tr>\n",
       "    <tr>\n",
       "      <th>450224</th>\n",
       "      <td>2986</td>\n",
       "      <td>2992</td>\n",
       "    </tr>\n",
       "    <tr>\n",
       "      <th>450225</th>\n",
       "      <td>2986</td>\n",
       "      <td>2995</td>\n",
       "    </tr>\n",
       "    <tr>\n",
       "      <th>450226</th>\n",
       "      <td>2990</td>\n",
       "      <td>2998</td>\n",
       "    </tr>\n",
       "    <tr>\n",
       "      <th>450227</th>\n",
       "      <td>2992</td>\n",
       "      <td>2996</td>\n",
       "    </tr>\n",
       "    <tr>\n",
       "      <th>450228</th>\n",
       "      <td>2994</td>\n",
       "      <td>2995</td>\n",
       "    </tr>\n",
       "  </tbody>\n",
       "</table>\n",
       "<p>450229 rows × 2 columns</p>\n",
       "</div>"
      ],
      "text/plain": [
       "           u     v\n",
       "0          0     1\n",
       "1          0     6\n",
       "2          0     9\n",
       "3          0    23\n",
       "4          0    29\n",
       "...      ...   ...\n",
       "450224  2986  2992\n",
       "450225  2986  2995\n",
       "450226  2990  2998\n",
       "450227  2992  2996\n",
       "450228  2994  2995\n",
       "\n",
       "[450229 rows x 2 columns]"
      ]
     },
     "execution_count": 197,
     "metadata": {},
     "output_type": "execute_result"
    }
   ],
   "source": [
    "# Generación Red Erdos-Renyi\n",
    "def red_erdos_renyi(num_nodes, p):\n",
    "    \"\"\" Función que genera una red aleatoria Erdos-Renyi con\n",
    "    un número de nodos y una probabilidad de conexión dadas.\n",
    "\n",
    "    Args:\n",
    "        num_nodes (int): Número de nodos de la red\n",
    "        p (float): Probabilidad de conexión entre nodos\n",
    "\n",
    "    Returns:\n",
    "        numpy.ndarray: Matriz de adyacencia de la red\n",
    "    \"\"\"\n",
    "    m = np.random.choice([0, 1], size=(num_nodes, num_nodes), p=[1-p, p])\n",
    "\n",
    "    # Nos quedamos solo con la parte superior de la matriz, por encima de la diagonal\n",
    "    # y el resto de elementos los ponemos a 0. De esta forma, la probabilidad de \n",
    "    # conexión entre un par de nodos es p.\n",
    "    m = np.triu(m, 1)\n",
    "\n",
    "    # Sumamos la matriz con su traspuesta para obtener una matriz simétrica\n",
    "    m = m + m.T\n",
    "\n",
    "    return m\n",
    "\n",
    "def matrix_to_df(matrix):\n",
    "    \"\"\" Función que convierte una matriz de adyacencia en un dataframe de pandas con\n",
    "    las conexiones entre nodos. Se asume que las conexiones son bidireccionales,\n",
    "    por lo que solo se guardan las conexiones por encima de la diagonal.\n",
    "\n",
    "    Args:\n",
    "        matriz (numpy.ndarray): Matriz de adyacencia\n",
    "\n",
    "    Returns:\n",
    "        pandas.DataFrame: Dataframe de pandas\n",
    "    \"\"\"\n",
    "    # Nos quedamos solo con la parte superior de la matriz, por encima de la diagonal\n",
    "    # para evitar conexiones duplicadas\n",
    "    matrix = np.triu(matrix, 1)\n",
    "\n",
    "    # Convertimos la matriz de adyacencia en un dataframe de pandas\n",
    "    df = pd.DataFrame(matrix)\n",
    "\n",
    "    # Convertimos el dataframe en una lista de conexiones\n",
    "    df = df.stack().reset_index()\n",
    "\n",
    "    # Renombramos las columnas\n",
    "    df.columns = ['u', 'v', 'peso']\n",
    "\n",
    "    # Nos quedamos solo con las conexiones que tienen peso\n",
    "    df = df[df['peso'] != 0]\n",
    "\n",
    "    # Como todas las conexiones tienen el mismo peso, nos quedamos solo con las columnas u y v\n",
    "    df = df[['u', 'v']].reset_index(drop=True)\n",
    "\n",
    "    return df\n",
    "\n",
    "matriz_erdos = red_erdos_renyi(3000, 0.1)\n",
    "df_erdos = matrix_to_df(matriz_erdos)\n",
    "\n",
    "# Guardar red Erdos-Renyi\n",
    "df_erdos.to_csv(os.path.join(NETWORKS_PATH, ERDOS_FILENAME), index=False, header=False)\n",
    "\n",
    "print(matriz_erdos)\n",
    "df_erdos"
   ]
  },
  {
   "cell_type": "code",
   "execution_count": 198,
   "metadata": {},
   "outputs": [
    {
     "name": "stdout",
     "output_type": "stream",
     "text": [
      "[[0. 0. 0. ... 0. 1. 0.]\n",
      " [0. 0. 0. ... 0. 0. 0.]\n",
      " [0. 0. 0. ... 0. 0. 0.]\n",
      " ...\n",
      " [0. 0. 0. ... 0. 0. 0.]\n",
      " [1. 0. 0. ... 0. 0. 0.]\n",
      " [0. 0. 0. ... 0. 0. 0.]]\n"
     ]
    },
    {
     "data": {
      "text/html": [
       "<div>\n",
       "<style scoped>\n",
       "    .dataframe tbody tr th:only-of-type {\n",
       "        vertical-align: middle;\n",
       "    }\n",
       "\n",
       "    .dataframe tbody tr th {\n",
       "        vertical-align: top;\n",
       "    }\n",
       "\n",
       "    .dataframe thead th {\n",
       "        text-align: right;\n",
       "    }\n",
       "</style>\n",
       "<table border=\"1\" class=\"dataframe\">\n",
       "  <thead>\n",
       "    <tr style=\"text-align: right;\">\n",
       "      <th></th>\n",
       "      <th>u</th>\n",
       "      <th>v</th>\n",
       "    </tr>\n",
       "  </thead>\n",
       "  <tbody>\n",
       "    <tr>\n",
       "      <th>0</th>\n",
       "      <td>0</td>\n",
       "      <td>3</td>\n",
       "    </tr>\n",
       "    <tr>\n",
       "      <th>1</th>\n",
       "      <td>0</td>\n",
       "      <td>4</td>\n",
       "    </tr>\n",
       "    <tr>\n",
       "      <th>2</th>\n",
       "      <td>0</td>\n",
       "      <td>6</td>\n",
       "    </tr>\n",
       "    <tr>\n",
       "      <th>3</th>\n",
       "      <td>0</td>\n",
       "      <td>8</td>\n",
       "    </tr>\n",
       "    <tr>\n",
       "      <th>4</th>\n",
       "      <td>0</td>\n",
       "      <td>10</td>\n",
       "    </tr>\n",
       "    <tr>\n",
       "      <th>...</th>\n",
       "      <td>...</td>\n",
       "      <td>...</td>\n",
       "    </tr>\n",
       "    <tr>\n",
       "      <th>79730</th>\n",
       "      <td>3944</td>\n",
       "      <td>3967</td>\n",
       "    </tr>\n",
       "    <tr>\n",
       "      <th>79731</th>\n",
       "      <td>3946</td>\n",
       "      <td>3993</td>\n",
       "    </tr>\n",
       "    <tr>\n",
       "      <th>79732</th>\n",
       "      <td>3949</td>\n",
       "      <td>3981</td>\n",
       "    </tr>\n",
       "    <tr>\n",
       "      <th>79733</th>\n",
       "      <td>3973</td>\n",
       "      <td>3992</td>\n",
       "    </tr>\n",
       "    <tr>\n",
       "      <th>79734</th>\n",
       "      <td>3975</td>\n",
       "      <td>3995</td>\n",
       "    </tr>\n",
       "  </tbody>\n",
       "</table>\n",
       "<p>79735 rows × 2 columns</p>\n",
       "</div>"
      ],
      "text/plain": [
       "          u     v\n",
       "0         0     3\n",
       "1         0     4\n",
       "2         0     6\n",
       "3         0     8\n",
       "4         0    10\n",
       "...     ...   ...\n",
       "79730  3944  3967\n",
       "79731  3946  3993\n",
       "79732  3949  3981\n",
       "79733  3973  3992\n",
       "79734  3975  3995\n",
       "\n",
       "[79735 rows x 2 columns]"
      ]
     },
     "execution_count": 198,
     "metadata": {},
     "output_type": "execute_result"
    }
   ],
   "source": [
    "# Generación Red Barabasi-Albert\n",
    "def red_barabasi_albert(num_nodes, m):\n",
    "    \"\"\" Función que genera una red aleatoria Barabasi-Albert con\n",
    "    un número de nodos y un número de conexiones por nodo dadas.\n",
    "\n",
    "    Args:\n",
    "        num_nodes (int): Número de nodos de la red\n",
    "        m (int): Número de conexiones por nodo\n",
    "\n",
    "    Returns:\n",
    "        numpy.ndarray: Matriz de adyacencia de la red\n",
    "    \"\"\"\n",
    "    # Creamos una lista de nodos inicial\n",
    "    nodes = list(range(m))\n",
    "\n",
    "    # Lista de conexiones. Cada elemento es una tupla con los nodos conectados\n",
    "    edges = []\n",
    "\n",
    "    # Lista donde cada nodo aparece por lo menos una vez, y luego\n",
    "    # aparece tantas veces como conexiones tenga\n",
    "\n",
    "    choice_list = [node for node in nodes for _ in range(m)]\n",
    "\n",
    "    # Conectamos aleatoriamente algunos nodos de la lista inicial\n",
    "    for node1 in nodes:\n",
    "        for node2 in nodes:\n",
    "            # No conectamos un nodo consigo mismo\n",
    "            if node1 == node2:\n",
    "                continue\n",
    "\n",
    "            # Probabilidad de conexion es 0.5\n",
    "            if random.random() < 0.5:\n",
    "                edges.append((node1, node2))\n",
    "                choice_list.append(node1)\n",
    "                choice_list.append(node2)\n",
    "\n",
    "    # Añadimos el resto de nodos\n",
    "    for node in range(m, num_nodes):\n",
    "        # Elegimos m nodos de la lista de nodos con repetición\n",
    "        new_edges = set(random.choices(choice_list, k=m))\n",
    "\n",
    "        # Si no se han elegido m nodos únicos, es decir, han salido repetidos,\n",
    "        # elegimos nodos hasta que tengamos m nodos únicos\n",
    "        while len(new_edges) < m:\n",
    "            new_edges.add(random.choice(choice_list))\n",
    "\n",
    "        # Conectamos el nodo con los m nodos elegidos\n",
    "        for node2 in new_edges:\n",
    "            edges.append((node, node2))\n",
    "            choice_list.append(node)\n",
    "            choice_list.append(node2)\n",
    "\n",
    "        nodes.append(node)\n",
    "\n",
    "    # Creamos la matriz de adyacencia\n",
    "    m = np.zeros((num_nodes, num_nodes))\n",
    "\n",
    "    # Añadimos las conexiones a la matriz de adyacencia\n",
    "    for node1, node2 in edges:\n",
    "        m[node1, node2] = 1\n",
    "        m[node2, node1] = 1\n",
    "\n",
    "    return m\n",
    "\n",
    "matriz_barabasi = red_barabasi_albert(4000, 20)\n",
    "df_barabasi = matrix_to_df(matriz_barabasi)\n",
    "\n",
    "# Guardar red Barabasi-Albert sin header\n",
    "df_barabasi.to_csv(os.path.join(NETWORKS_PATH, BARABASI_FILENAME), index=False, header=False)\n",
    "\n",
    "print(matriz_barabasi)\n",
    "df_barabasi"
   ]
  },
  {
   "cell_type": "code",
   "execution_count": 199,
   "metadata": {},
   "outputs": [
    {
     "data": {
      "text/html": [
       "<div>\n",
       "<style scoped>\n",
       "    .dataframe tbody tr th:only-of-type {\n",
       "        vertical-align: middle;\n",
       "    }\n",
       "\n",
       "    .dataframe tbody tr th {\n",
       "        vertical-align: top;\n",
       "    }\n",
       "\n",
       "    .dataframe thead th {\n",
       "        text-align: right;\n",
       "    }\n",
       "</style>\n",
       "<table border=\"1\" class=\"dataframe\">\n",
       "  <thead>\n",
       "    <tr style=\"text-align: right;\">\n",
       "      <th></th>\n",
       "      <th>u</th>\n",
       "      <th>v</th>\n",
       "    </tr>\n",
       "  </thead>\n",
       "  <tbody>\n",
       "    <tr>\n",
       "      <th>0</th>\n",
       "      <td>0</td>\n",
       "      <td>1</td>\n",
       "    </tr>\n",
       "    <tr>\n",
       "      <th>1</th>\n",
       "      <td>0</td>\n",
       "      <td>6</td>\n",
       "    </tr>\n",
       "    <tr>\n",
       "      <th>2</th>\n",
       "      <td>0</td>\n",
       "      <td>9</td>\n",
       "    </tr>\n",
       "    <tr>\n",
       "      <th>3</th>\n",
       "      <td>0</td>\n",
       "      <td>23</td>\n",
       "    </tr>\n",
       "    <tr>\n",
       "      <th>4</th>\n",
       "      <td>0</td>\n",
       "      <td>29</td>\n",
       "    </tr>\n",
       "    <tr>\n",
       "      <th>...</th>\n",
       "      <td>...</td>\n",
       "      <td>...</td>\n",
       "    </tr>\n",
       "    <tr>\n",
       "      <th>450224</th>\n",
       "      <td>2986</td>\n",
       "      <td>2992</td>\n",
       "    </tr>\n",
       "    <tr>\n",
       "      <th>450225</th>\n",
       "      <td>2986</td>\n",
       "      <td>2995</td>\n",
       "    </tr>\n",
       "    <tr>\n",
       "      <th>450226</th>\n",
       "      <td>2990</td>\n",
       "      <td>2998</td>\n",
       "    </tr>\n",
       "    <tr>\n",
       "      <th>450227</th>\n",
       "      <td>2992</td>\n",
       "      <td>2996</td>\n",
       "    </tr>\n",
       "    <tr>\n",
       "      <th>450228</th>\n",
       "      <td>2994</td>\n",
       "      <td>2995</td>\n",
       "    </tr>\n",
       "  </tbody>\n",
       "</table>\n",
       "<p>450229 rows × 2 columns</p>\n",
       "</div>"
      ],
      "text/plain": [
       "           u     v\n",
       "0          0     1\n",
       "1          0     6\n",
       "2          0     9\n",
       "3          0    23\n",
       "4          0    29\n",
       "...      ...   ...\n",
       "450224  2986  2992\n",
       "450225  2986  2995\n",
       "450226  2990  2998\n",
       "450227  2992  2996\n",
       "450228  2994  2995\n",
       "\n",
       "[450229 rows x 2 columns]"
      ]
     },
     "execution_count": 199,
     "metadata": {},
     "output_type": "execute_result"
    }
   ],
   "source": [
    "file = os.path.join('networks', ERDOS_FILENAME)\n",
    "df = pd.read_csv(file, names=['u', 'v'], delimiter=',')\n",
    "df"
   ]
  },
  {
   "cell_type": "code",
   "execution_count": 200,
   "metadata": {},
   "outputs": [
    {
     "data": {
      "text/plain": [
       "array([[0, 1, 0, ..., 1, 0, 0],\n",
       "       [1, 0, 0, ..., 0, 0, 0],\n",
       "       [0, 0, 0, ..., 0, 0, 0],\n",
       "       ...,\n",
       "       [1, 0, 0, ..., 0, 0, 0],\n",
       "       [0, 0, 0, ..., 0, 0, 0],\n",
       "       [0, 0, 0, ..., 0, 0, 0]])"
      ]
     },
     "execution_count": 200,
     "metadata": {},
     "output_type": "execute_result"
    }
   ],
   "source": [
    "# Creamos la matriz de adyacencia a partir de las conexiones\n",
    "adjacency_matrix = pd.crosstab(df.u, df.v)\n",
    "idx = adjacency_matrix.columns.union(adjacency_matrix.index)\n",
    "adjacency_matrix = adjacency_matrix.reindex(index = idx, columns=idx, fill_value=0)\n",
    "\n",
    "# Lo convertimos a numpy array\n",
    "adjacency_matrix = adjacency_matrix.to_numpy()\n",
    "\n",
    "# Sumamos la transpuesta ya que todos los enlaces son bidireccionales\n",
    "adjacency_matrix = adjacency_matrix + adjacency_matrix.T\n",
    "\n",
    "# Todos los enlaces tienen el mismo peso, por lo que ponemos a 1 todos los valores mayores que 1\n",
    "adjacency_matrix[adjacency_matrix > 1] = 1\n",
    "\n",
    "# Eliminamos los enlaces de un nodo a sí mismo\n",
    "np.fill_diagonal(adjacency_matrix, 0)\n",
    "\n",
    "adjacency_matrix"
   ]
  },
  {
   "cell_type": "code",
   "execution_count": 201,
   "metadata": {},
   "outputs": [],
   "source": [
    "# Suma por filas para obtener el grado de cada nodo\n",
    "nodes_degrees = adjacency_matrix.sum(axis=1)\n",
    "\n",
    "# Contamos cuántos nodos hay de cada grado\n",
    "degrees = np.arange(nodes_degrees.min(), nodes_degrees.max() + 1)\n",
    "degrees_count = np.zeros(degrees.shape)\n",
    "for degree in degrees:\n",
    "    degrees_count[degree - degrees.min()] = np.count_nonzero(nodes_degrees == degree)\n",
    "\n"
   ]
  },
  {
   "cell_type": "code",
   "execution_count": 202,
   "metadata": {},
   "outputs": [
    {
     "data": {
      "image/png": "[encoded data removed]",
      "text/plain": [
       "<Figure size 720x432 with 1 Axes>"
      ]
     },
     "metadata": {
      "needs_background": "light"
     },
     "output_type": "display_data"
    }
   ],
   "source": [
    "# Plot de la distribución de grados\n",
    "plt.figure(figsize=(10, 6))\n",
    "plt.plot(degrees, degrees_count, '.')\n",
    "plt.xlabel('Grado')\n",
    "plt.ylabel('Número de nodos')\n",
    "plt.title('Frecuencia de grados')\n",
    "plt.show()"
   ]
  },
  {
   "cell_type": "code",
   "execution_count": 203,
   "metadata": {},
   "outputs": [
    {
     "data": {
      "image/png": "[encoded data removed]",
      "text/plain": [
       "<Figure size 720x432 with 1 Axes>"
      ]
     },
     "metadata": {
      "needs_background": "light"
     },
     "output_type": "display_data"
    }
   ],
   "source": [
    "# Plot de la distribución de grados en escala logarítmica\n",
    "plt.figure(figsize=(10, 6))\n",
    "plt.loglog(degrees, degrees_count, '.')\n",
    "plt.xlabel('Grado')\n",
    "plt.ylabel('Número de nodos')\n",
    "plt.title('Frecuencia de grados')\n",
    "\n",
    "plt.show()"
   ]
  },
  {
   "cell_type": "code",
   "execution_count": 204,
   "metadata": {},
   "outputs": [
    {
     "data": {
      "image/png": "[encoded data removed]",
      "text/plain": [
       "<Figure size 720x432 with 1 Axes>"
      ]
     },
     "metadata": {
      "needs_background": "light"
     },
     "output_type": "display_data"
    }
   ],
   "source": [
    "# Ordenamos los nodos de los grados de mayor a menor\n",
    "nodes_degrees = np.sort(nodes_degrees)[::-1]\n",
    "\n",
    "# Plot de los grados ordenados. En el eje x está el nodo y en el eje y el grado\n",
    "plt.figure(figsize=(10, 6))\n",
    "plt.plot(np.arange(nodes_degrees.shape[0]), nodes_degrees, '.')\n",
    "plt.xlabel('Nodo')\n",
    "plt.ylabel('Grado')\n",
    "plt.title('Grados ordenados')\n",
    "plt.show()"
   ]
  },
  {
   "cell_type": "code",
   "execution_count": 205,
   "metadata": {},
   "outputs": [
    {
     "data": {
      "image/png": "[encoded data removed]",
      "text/plain": [
       "<Figure size 720x432 with 1 Axes>"
      ]
     },
     "metadata": {
      "needs_background": "light"
     },
     "output_type": "display_data"
    }
   ],
   "source": [
    "# Plot de los grados ordenados en escala logarítmica.\n",
    "plt.figure(figsize=(10, 6))\n",
    "plt.loglog(np.arange(nodes_degrees.shape[0]), nodes_degrees, '.')\n",
    "plt.xlabel('Nodo')\n",
    "plt.ylabel('Grado')\n",
    "plt.title('Grados ordenados')\n",
    "plt.show()"
   ]
  },
  {
   "cell_type": "markdown",
   "metadata": {
    "id": "IzTje0viiM9I"
   },
   "source": [
    "### Explicación/documentación/imágenes generadas\n",
    "\n",
    "(por hacer)"
   ]
  },
  {
   "cell_type": "markdown",
   "metadata": {
    "id": "DcxuclLwpaM-"
   },
   "source": [
    "## Ejercicio 6: Métricas (1.5pt)\n",
    "\n",
    "Se implementarán las siguientes métricas topológicas:\n",
    "\n",
    "* Coeficiente de **clustering de un usuario**.\n",
    "* **Arraigo** de un arco (o de un par de usuarios).\n",
    "* Coeficiente de **clustering de una red social**.\n",
    "* Coeficiente de **asortatividad** de grado de una red.\n",
    "\n",
    "Algunas indicaciones en forma de pregunta:\n",
    "\n",
    "* ¿Cómo obtener la red ego de un usuario en una sóla operación de *slicing* del array 2D de adyacencia?\n",
    "* ¿Cómo calcular la densidad de una red social en *una* sola operación sobre su matriz de adyacencia? \n",
    "* ¿Cómo obtener el solapamiento de los amigos de dos usuarios con una sola operación vectorial?\n",
    "* ¿Cómo obtener la unión de dos vecindarios de forma eficiente sabiendo su solapamiento?"
   ]
  },
  {
   "cell_type": "code",
   "execution_count": 206,
   "metadata": {
    "id": "e3uq565SpfSA",
    "tags": []
   },
   "outputs": [
    {
     "ename": "IndentationError",
     "evalue": "expected an indented block (3843091388.py, line 49)",
     "output_type": "error",
     "traceback": [
      "\u001b[0;36m  Cell \u001b[0;32mIn [206], line 49\u001b[0;36m\u001b[0m\n\u001b[0;31m    def nusers(self):\u001b[0m\n\u001b[0m    ^\u001b[0m\n\u001b[0;31mIndentationError\u001b[0m\u001b[0;31m:\u001b[0m expected an indented block\n"
     ]
    }
   ],
   "source": [
    "import pandas as pd\n",
    "import numpy as np\n",
    "from scipy.stats import rankdata\n",
    "import os.path\n",
    "import networkx as nx\n",
    "from matplotlib import pyplot as plt\n",
    "\n",
    "class UndirectedSocialNetwork:\n",
    "    #\n",
    "    # In order to spare you some routine coding, we provide this constructor for you, \n",
    "    # that builds the basic structures you need to implement your metrics: the network \n",
    "    # adjacency matrix, the uid <--> uiidx back and forth mappings, and the number of edges.\n",
    "    #\n",
    "    # For your purposes you don't need to go into the implementation details or fully\n",
    "    # understand every step how they are built -- you just need to use the  provided matrix \n",
    "    # and id mapping structure.\n",
    "    #\n",
    "    def __init__(self, file, sep=','):\n",
    "        self.file=file\n",
    "        edges = pd.read_csv(file, names=['u', 'v'], delimiter=sep)\n",
    "        edges['r'] = np.ones(len(edges))\n",
    "\n",
    "        # Take the union of uids, as there may be users who only appear in one data frame column and not the other.\n",
    "        us = edges.u.unique()\n",
    "        vs = edges.v.unique()\n",
    "        self.uids = np.union1d(us, vs)\n",
    "        self.uidxs = {u:j for j, u in enumerate(self.uids)}\n",
    "        \n",
    "        # Add dummy columns (with r=0) so that all userids appear in both data frame columns (otherwise they'd fail\n",
    "        # to have a row or column in the adjacency matrix). \n",
    "        udiff = np.setdiff1d(us, vs)\n",
    "        vdiff = np.setdiff1d(vs, us)\n",
    "        edges = pd.concat([edges, pd.DataFrame({'u': vdiff, 'v': np.full(len(vdiff), us[0]), 'r': np.zeros(len(vdiff))})])\n",
    "        edges = pd.concat([edges, pd.DataFrame({'u': np.full(len(udiff), vs[0]), 'v': udiff, 'r': np.zeros(len(udiff))})])\n",
    "        \n",
    "        # Get adjacency matrix.\n",
    "        edges = edges.pivot(index='u', columns='v', values='r')\n",
    "        self.m = edges.fillna(0).to_numpy(dtype=np.bool_)\n",
    "        # Make the adjacency matrix symmetric for an undirected network.\n",
    "        self.m = np.logical_or(self.m, self.m.T).astype(np.float32)\n",
    "        # We only count the edges now in case the network file contained reciprocal edges for a directed network,\n",
    "        # in which case we ignored the edge direction, while the csv file contained more rows than the number of\n",
    "        # undirected edges.\n",
    "        self._nedges = self.m.sum()/2\n",
    "\n",
    "    def matrix(self):\n",
    "        # Código aquí...\n",
    "\n",
    "    def nusers(self):\n",
    "        # Código aquí...\n",
    "    \n",
    "    def nedges(self):\n",
    "        # Código aquí...\n",
    "\n",
    "    def uid_to_uidx(self, uid):\n",
    "        # Código aquí...\n",
    "    \n",
    "    # uidx can be an int of an array of ints.\n",
    "    def uidx_to_uid(self, uidx):\n",
    "        # Código aquí...\n",
    "\n",
    "    def _friends(self, uidx):\n",
    "        # Código aquí...\n",
    "    \n",
    "    #\n",
    "    # For debugging purposes.\n",
    "    #\n",
    "    \n",
    "    def degree(self, uid):\n",
    "        # Código aquí...\n",
    "\n",
    "    def friends(self, uid):\n",
    "        # Código aquí...\n",
    "        \n",
    "    #\n",
    "    # Network metrics.\n",
    "    #\n",
    "    \n",
    "    # Global computation of the clustering coefficient (micro-average).\n",
    "    def clustering(self):\n",
    "        # Código aquí...\n",
    "\n",
    "    def assortativity(self):\n",
    "        # Código aquí...\n",
    "\n",
    "    #\n",
    "    # User metrics.\n",
    "    #\n",
    "    \n",
    "    # Network clustering coefficient as the average clustering coefficient of users.\n",
    "    def avg_clustering(self):\n",
    "        return UserMetric(self, np.array([self.user_clustering(uidx) for uidx in range(self.nusers())]))\n",
    "\n",
    "    # Clustering coefficient of individual user - just needed for the average CC.\n",
    "    def user_clustering(self, uidx):\n",
    "        # Código aquí...\n",
    "\n",
    "    #\n",
    "    # Edge metrics.\n",
    "    #\n",
    "    \n",
    "    def embeddedness(self):\n",
    "        # Código aquí...\n",
    "        return EdgeMetric(self, intersections / unions)\n",
    "\n",
    "#\n",
    "# Auxiliary classes to hold and return values of user metrics and edge metrics.\n",
    "#\n",
    "    \n",
    "# Aiming to spare you some routine coding, the purpose of these two classes is \n",
    "# to hold the metric values through their constructur, and return the mean and \n",
    "# ranked values of user and edge metrics when requested. \n",
    "#\n",
    "# For your purposes you don't need to go into the implementation details, or\n",
    "# understand every step of these functions -- you just need to use the simple\n",
    "# API they provide.\n",
    "    \n",
    "class UserMetric:\n",
    "    def __init__(self, network, values):\n",
    "        self.network = network\n",
    "        self._values = values\n",
    "        self.sorted_uidx = (rankdata(-values, method='ordinal')).argsort()\n",
    "\n",
    "    # Return the mean value across all users in the network.\n",
    "    def mean(self):\n",
    "        return self._values.mean()\n",
    "\n",
    "    # Return the metric value for one user.\n",
    "    def value(self, uid):\n",
    "        return self._values[self.network.uid_to_uidx(uid)]\n",
    "\n",
    "    # Return a dictionary with the top n users in the metric.\n",
    "    def values(self, n):\n",
    "        return {l:fround(v, 4) for l, v in zip(self.network.uids[self.sorted_uidx[:n]],\n",
    "                                                   self._values[self.sorted_uidx[:n]])}\n",
    "\n",
    "class EdgeMetric:\n",
    "    def __init__(self, network, values):\n",
    "        self.network = network\n",
    "        values[np.tril_indices(values.shape[0])] = np.iinfo(int).min\n",
    "        self._values = values\n",
    "        tri = int(network.nusers() * (network.nusers() - 1) / 2)\n",
    "        self.order = np.dstack(np.unravel_index(np.argsort(rankdata(-values.ravel(), method='ordinal')), values.shape))[0][:tri]\n",
    "        self.ordered_values = np.array([self._values[e[0],e[1]] for e in self.order])\n",
    "\n",
    "    # Return the mean value across all edges in the network.\n",
    "    def mean(self):\n",
    "        return self.ordered_values.mean()\n",
    "\n",
    "    # Return the metric value for one edge (the edge may or may not exist).\n",
    "    def value(self, uid, vid):\n",
    "        uidx, vidx = self.network.uid_to_uidx(uid), self.network.uid_to_uidx(vid)\n",
    "        return self._values[min(uidx, vidx), max(uidx, vidx)]\n",
    "\n",
    "    # Return a dictionary with the top n edges in the metric.\n",
    "    def values(self, n):\n",
    "        n = min(n, len(self.order))\n",
    "        return {tuple(self.network.uidx_to_uid(e)):fround(self._values[e[0],e[1]], 4) for e in self.order[:n]}\n",
    "    \n",
    "# Just for pretty-printing numbers.\n",
    "def fround(x, n=20):\n",
    "    r = round(x)\n",
    "    rn = round(x, n)\n",
    "    return r if rn == r else rn"
   ]
  },
  {
   "cell_type": "markdown",
   "metadata": {
    "id": "-d4hWTstiOIT",
    "tags": []
   },
   "source": [
    "### Explicación/documentación\n",
    "\n",
    "(por hacer)\n",
    "\n",
    "Además, se documentarán en la memoria los tiempos de ejecución de las métricas en las redes de Facebook y Twitter, en una tabla con la siguiente estructura:\n",
    "\n",
    "||Facebook|Twitter\n",
    "|-|:-:|:-:\n",
    "|Coef. clustering usuario|...|... \n",
    "|Embededness|...|...\n",
    "|Coef. clustering global|...|...\n",
    "|Asortatividad|...|..."
   ]
  },
  {
   "cell_type": "markdown",
   "metadata": {
    "id": "JPPWV7pepf85",
    "tags": []
   },
   "source": [
    "## Ejercicio 7: Ejercicio libre (fuera de puntuación)\n",
    "\n",
    "El estudiante desarrollará uno o varios métodos de análisis de redes a su propia elección. Se sugiere por ejemplo: \n",
    "\n",
    "* Implementación de métricas adicionales, tales como betweenness, closeness, distancia promedio, diámetro, modularidad, etc. (Para la modularidad, se necesitará definir una partición de los nodos &ndash; consultar con el profesor.)\n",
    "* Detección de comunidades y enlaces débiles.\n",
    "* Creación de modelos para la generación aleatoria de redes sociales (p.e. amigos de amigos, etc.).\n",
    "* Recomendación de contactos.\n",
    "\n",
    "Para este ejercicio deberá completarse la implementación de una función adicional `student_test()` ilustrando la ejecución de las métricas y algoritmos implementados. \n",
    "\n",
    "El software que se desarrolle se incluirá en la celda que sigue, y se documentarán en la memoria las pruebas realizadas y los resultados obtenidos. \n",
    "\n",
    "Este ejercicio se evaluará en base a la cantidad, calidad e interés del trabajo realizado."
   ]
  },
  {
   "cell_type": "code",
   "execution_count": null,
   "metadata": {
    "id": "zg8MIMpipih1",
    "tags": []
   },
   "outputs": [],
   "source": [
    "# Implementación o implementaciones elegidas"
   ]
  },
  {
   "cell_type": "code",
   "execution_count": null,
   "metadata": {
    "tags": []
   },
   "outputs": [],
   "source": [
    "def student_test(data):\n",
    "    pass\n",
    "    # Código aquí..."
   ]
  },
  {
   "cell_type": "markdown",
   "metadata": {
    "id": "H1gukouXiPV3",
    "tags": []
   },
   "source": [
    "### Explicación/documentación\n",
    "\n",
    "(por hacer)"
   ]
  },
  {
   "cell_type": "markdown",
   "metadata": {
    "id": "8zXhPtFzon72"
   },
   "source": [
    "## Visualización de las redes pequeñas de prueba\n",
    "\n",
    "Descarga los ficheros del curso de Moodle y coloca sus contenidos en una carpeta **networks** en el mismo directorio que este *notebook*. Visualizar las redes de prueba facilita las comprobaciones que puedan ser necesarias durante la depuración del código."
   ]
  },
  {
   "cell_type": "code",
   "execution_count": null,
   "metadata": {},
   "outputs": [],
   "source": [
    "import pandas as pd\n",
    "import numpy as np\n",
    "from scipy.stats import rankdata\n",
    "import os.path\n",
    "import networkx as nx\n",
    "from matplotlib import pyplot as plt"
   ]
  },
  {
   "cell_type": "code",
   "execution_count": null,
   "metadata": {},
   "outputs": [
    {
     "name": "stdout",
     "output_type": "stream",
     "text": [
      "networks/toy1.html\n",
      "networks/toy2.html\n",
      "networks/toy3.html\n"
     ]
    },
    {
     "data": {
      "image/png": "[encoded data removed]",
      "text/plain": [
       "<Figure size 1440x432 with 3 Axes>"
      ]
     },
     "metadata": {},
     "output_type": "display_data"
    }
   ],
   "source": [
    "from pyvis.network import Network\n",
    "\n",
    "def plot(file, ax=None, sep=','):\n",
    "    g = nx.from_pandas_edgelist(pd.read_csv(file, names=['u', 'v'], delimiter=sep), \n",
    "                                source='u', target='v')\n",
    "    options = {\n",
    "        'node_size': 750, 'node_color': 'mediumblue', 'edgecolors': \"black\",\n",
    "        'font_color': 'white', 'font_weight': 'bold', 'font_size': 13\n",
    "    }\n",
    "    if not ax: \n",
    "        f = plt.figure()\n",
    "        f.set_size_inches(3, 3)\n",
    "        \n",
    "    # Plot the graphs in the output cell.\n",
    "    nx.draw(g, ax=ax, with_labels=True, **options)\n",
    "    filename = os.path.split(file)[1]\n",
    "    (ax if ax else plt.gca()).set_title(filename, fontsize=15)\n",
    "    \n",
    "    # Plot the graphs into interactive HTML files.\n",
    "    net = Network(notebook=True, cdn_resources='remote')\n",
    "    net.from_nx(g)\n",
    "    net.show(file.split('.')[0] + '.html')\n",
    "    \n",
    "\n",
    "f, (ax1, ax2, ax3) = plt.subplots(1, 3)\n",
    "f.set_size_inches(20, 6)\n",
    "plot('networks/toy1.csv', ax1)\n",
    "plot('networks/toy2.csv', ax2)\n",
    "plot('networks/toy3.csv', ax3)"
   ]
  },
  {
   "cell_type": "markdown",
   "metadata": {
    "id": "8zXhPtFzon72"
   },
   "source": [
    "## Celda de prueba"
   ]
  },
  {
   "cell_type": "code",
   "execution_count": null,
   "metadata": {
    "id": "fTdDacCRn0u6"
   },
   "outputs": [
    {
     "name": "stdout",
     "output_type": "stream",
     "text": [
      "==================================================\n",
      "Testing networks/toy1.csv network\n"
     ]
    },
    {
     "ename": "NameError",
     "evalue": "name 'UndirectedSocialNetwork' is not defined",
     "output_type": "error",
     "traceback": [
      "\u001b[0;31m---------------------------------------------------------------------------\u001b[0m",
      "\u001b[0;31mNameError\u001b[0m                                 Traceback (most recent call last)",
      "\u001b[1;32m/home/xu/Escritorio/Universidad/BMINF/Practicas/bminf/practica-3/P3-SNA.ipynb Cell 17\u001b[0m in \u001b[0;36m3\n\u001b[1;32m     <a href='vscode-notebook-cell:/home/xu/Escritorio/Universidad/BMINF/Practicas/bminf/practica-3/P3-SNA.ipynb#X42sZmlsZQ%3D%3D?line=31'>32</a>\u001b[0m     \u001b[39mprint\u001b[39m(colored(\u001b[39mf\u001b[39m\u001b[39m'\u001b[39m\u001b[39m  --> elapsed time: \u001b[39m\u001b[39m{\u001b[39;00mdatetime\u001b[39m.\u001b[39mtimedelta(seconds\u001b[39m=\u001b[39m\u001b[39mround\u001b[39m(time\u001b[39m.\u001b[39mtime() \u001b[39m-\u001b[39m start))\u001b[39m}\u001b[39;00m\u001b[39m <--\u001b[39m\u001b[39m'\u001b[39m, \u001b[39m'\u001b[39m\u001b[39mblue\u001b[39m\u001b[39m'\u001b[39m))\n\u001b[1;32m     <a href='vscode-notebook-cell:/home/xu/Escritorio/Universidad/BMINF/Practicas/bminf/practica-3/P3-SNA.ipynb#X42sZmlsZQ%3D%3D?line=32'>33</a>\u001b[0m     \u001b[39mreturn\u001b[39;00m time\u001b[39m.\u001b[39mtime()\n\u001b[0;32m---> <a href='vscode-notebook-cell:/home/xu/Escritorio/Universidad/BMINF/Practicas/bminf/practica-3/P3-SNA.ipynb#X42sZmlsZQ%3D%3D?line=34'>35</a>\u001b[0m test_network(\u001b[39m'\u001b[39;49m\u001b[39mnetworks/toy1.csv\u001b[39;49m\u001b[39m'\u001b[39;49m,              topn\u001b[39m=\u001b[39;49m\u001b[39m5\u001b[39;49m, example_u\u001b[39m=\u001b[39;49m\u001b[39m'\u001b[39;49m\u001b[39ma\u001b[39;49m\u001b[39m'\u001b[39;49m,       example_v\u001b[39m=\u001b[39;49m\u001b[39m'\u001b[39;49m\u001b[39mb\u001b[39;49m\u001b[39m'\u001b[39;49m)\n\u001b[1;32m     <a href='vscode-notebook-cell:/home/xu/Escritorio/Universidad/BMINF/Practicas/bminf/practica-3/P3-SNA.ipynb#X42sZmlsZQ%3D%3D?line=35'>36</a>\u001b[0m test_network(\u001b[39m'\u001b[39m\u001b[39mnetworks/toy2.csv\u001b[39m\u001b[39m'\u001b[39m,              topn\u001b[39m=\u001b[39m\u001b[39m5\u001b[39m, example_u\u001b[39m=\u001b[39m\u001b[39m5\u001b[39m,         example_v\u001b[39m=\u001b[39m\u001b[39m6\u001b[39m)\n\u001b[1;32m     <a href='vscode-notebook-cell:/home/xu/Escritorio/Universidad/BMINF/Practicas/bminf/practica-3/P3-SNA.ipynb#X42sZmlsZQ%3D%3D?line=36'>37</a>\u001b[0m test_network(\u001b[39m'\u001b[39m\u001b[39mnetworks/toy3.csv\u001b[39m\u001b[39m'\u001b[39m,              topn\u001b[39m=\u001b[39m\u001b[39m5\u001b[39m, example_u\u001b[39m=\u001b[39m\u001b[39m6\u001b[39m,         example_v\u001b[39m=\u001b[39m\u001b[39m4\u001b[39m)\n",
      "\u001b[1;32m/home/xu/Escritorio/Universidad/BMINF/Practicas/bminf/practica-3/P3-SNA.ipynb Cell 17\u001b[0m in \u001b[0;36m5\n\u001b[1;32m      <a href='vscode-notebook-cell:/home/xu/Escritorio/Universidad/BMINF/Practicas/bminf/practica-3/P3-SNA.ipynb#X42sZmlsZQ%3D%3D?line=2'>3</a>\u001b[0m \u001b[39mdef\u001b[39;00m \u001b[39mtest_network\u001b[39m(file, topn, example_u, example_v, sep\u001b[39m=\u001b[39m\u001b[39m'\u001b[39m\u001b[39m,\u001b[39m\u001b[39m'\u001b[39m):\n\u001b[1;32m      <a href='vscode-notebook-cell:/home/xu/Escritorio/Universidad/BMINF/Practicas/bminf/practica-3/P3-SNA.ipynb#X42sZmlsZQ%3D%3D?line=3'>4</a>\u001b[0m     \u001b[39mprint\u001b[39m(\u001b[39mf\u001b[39m\u001b[39m'\u001b[39m\u001b[39m==================================================\u001b[39m\u001b[39m\\n\u001b[39;00m\u001b[39mTesting \u001b[39m\u001b[39m{\u001b[39;00mfile\u001b[39m}\u001b[39;00m\u001b[39m network\u001b[39m\u001b[39m'\u001b[39m)\n\u001b[0;32m----> <a href='vscode-notebook-cell:/home/xu/Escritorio/Universidad/BMINF/Practicas/bminf/practica-3/P3-SNA.ipynb#X42sZmlsZQ%3D%3D?line=4'>5</a>\u001b[0m     network \u001b[39m=\u001b[39m UndirectedSocialNetwork(file, sep\u001b[39m=\u001b[39msep)\n\u001b[1;32m      <a href='vscode-notebook-cell:/home/xu/Escritorio/Universidad/BMINF/Practicas/bminf/practica-3/P3-SNA.ipynb#X42sZmlsZQ%3D%3D?line=5'>6</a>\u001b[0m     \u001b[39mprint\u001b[39m(\u001b[39mf\u001b[39m\u001b[39m'\u001b[39m\u001b[39mNetwork matrix takes \u001b[39m\u001b[39m{\u001b[39;00m\u001b[39mround\u001b[39m(\u001b[39m10\u001b[39m \u001b[39m*\u001b[39m network\u001b[39m.\u001b[39mmatrix()\u001b[39m.\u001b[39mnbytes \u001b[39m/\u001b[39m \u001b[39m1024\u001b[39m \u001b[39m/\u001b[39m \u001b[39m1024\u001b[39m) \u001b[39m/\u001b[39m \u001b[39m10\u001b[39m\u001b[39m:\u001b[39;00m\u001b[39m,\u001b[39m\u001b[39m}\u001b[39;00m\u001b[39m MB in RAM\u001b[39m\u001b[39m'\u001b[39m)\n\u001b[1;32m      <a href='vscode-notebook-cell:/home/xu/Escritorio/Universidad/BMINF/Practicas/bminf/practica-3/P3-SNA.ipynb#X42sZmlsZQ%3D%3D?line=6'>7</a>\u001b[0m     \u001b[39mprint\u001b[39m(\u001b[39mf\u001b[39m\u001b[39m'\u001b[39m\u001b[39m{\u001b[39;00mnetwork\u001b[39m.\u001b[39mnusers()\u001b[39m:\u001b[39;00m\u001b[39m,\u001b[39m\u001b[39m}\u001b[39;00m\u001b[39m users and \u001b[39m\u001b[39m{\u001b[39;00mnetwork\u001b[39m.\u001b[39mnedges()\u001b[39m:\u001b[39;00m\u001b[39m,\u001b[39m\u001b[39m}\u001b[39;00m\u001b[39m contact relationships\u001b[39m\u001b[39m'\u001b[39m)\n",
      "\u001b[0;31mNameError\u001b[0m: name 'UndirectedSocialNetwork' is not defined"
     ]
    }
   ],
   "source": [
    "import datetime, time\n",
    "\n",
    "def test_network(file, topn, example_u, example_v, sep=','):\n",
    "    print(f'==================================================\\nTesting {file} network')\n",
    "    network = UndirectedSocialNetwork(file, sep=sep)\n",
    "    print(f'Network matrix takes {round(10 * network.matrix().nbytes / 1024 / 1024) / 10:,} MB in RAM')\n",
    "    print(f'{network.nusers():,} users and {network.nedges():,} contact relationships')\n",
    "    print(f'User {example_u} has {network.degree(example_u):,} contacts: ', network.friends(example_u))\n",
    "    print('-------------------------')\n",
    "    start = time.time()\n",
    "    c = network.avg_clustering()\n",
    "    print(f'User clustering coefficient (top {topn}): {c.values(5)}')\n",
    "    print(f'  CC({example_u}) =              {c.value(example_u)}')\n",
    "    print('Network clustering coefficient:')\n",
    "    print(f'  Macro-average =      {c.mean()}')  \n",
    "    start = timer(start)\n",
    "    print(f'  Micro-average =      {network.clustering()}')\n",
    "    start = timer(start)\n",
    "    print(f'Assortativity =        {network.assortativity()}')\n",
    "    start = timer(start)\n",
    "    e = network.embeddedness()\n",
    "    print(f'Edge embeddedness (top {topn}): {e.values(5)}')\n",
    "    print(f'  Embeddedness({example_u}, {example_v}) = {e.value(example_u, example_v)}')\n",
    "    print(f'  Average =            {e.mean()}')\n",
    "    timer(start)\n",
    "\n",
    "    # Otros tests?\n",
    "    student_test(network)\n",
    "\n",
    "from termcolor import colored\n",
    "def timer(start):\n",
    "    print(colored(f'  --> elapsed time: {datetime.timedelta(seconds=round(time.time() - start))} <--', 'blue'))\n",
    "    return time.time()\n",
    "    \n",
    "test_network('networks/toy1.csv',              topn=5, example_u='a',       example_v='b')\n",
    "test_network('networks/toy2.csv',              topn=5, example_u=5,         example_v=6)\n",
    "test_network('networks/toy3.csv',              topn=5, example_u=6,         example_v=4)\n",
    "test_network('networks/facebook_combined.txt', topn=5, example_u=9,         example_v=3, sep=' ')\n",
    "test_network('networks/twitter.csv',           topn=5, example_u='el_pais', example_v='ElviraLindo') # Contains a number of reciprocal edges but we ignore direction.\n",
    "test_network('networks/barabasi.csv',          topn=5, example_u=2000,         example_v=3000)\n",
    "test_network('networks/erdos.csv',             topn=5, example_u=2000,         example_v=3000)\n",
    "print('==================================================\\nDone.')"
   ]
  },
  {
   "cell_type": "markdown",
   "metadata": {
    "id": "V5JhJJSFiSl5",
    "tags": []
   },
   "source": [
    "### Salida obtenida por el estudiante\n",
    "\n",
    "*(por hacer)*"
   ]
  }
 ],
 "metadata": {
  "colab": {
   "collapsed_sections": [],
   "name": "Enunciado P2",
   "provenance": [],
   "toc_visible": true
  },
  "kernelspec": {
   "display_name": "Python 3 (ipykernel)",
   "language": "python",
   "name": "python3"
  },
  "language_info": {
   "codemirror_mode": {
    "name": "ipython",
    "version": 3
   },
   "file_extension": ".py",
   "mimetype": "text/x-python",
   "name": "python",
   "nbconvert_exporter": "python",
   "pygments_lexer": "ipython3",
   "version": "3.8.10"
  }
 },
 "nbformat": 4,
 "nbformat_minor": 4
}
