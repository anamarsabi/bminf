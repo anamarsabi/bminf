{
 "cells": [
  {
   "cell_type": "markdown",
   "metadata": {},
   "source": [
    "Copyright (C) 2023 Pablo Castells y Alejandro Bellogín\n",
    "\n",
    "El código que contine este notebook se ha implementado para la realización de las prácticas de la asignatura \"Búsqueda y minería de información\" de 4º del Grado en Ingeniería Informática, impartido en la Escuela Politécnica Superior de la Universidad Autónoma de Madrid. El fin del mismo, así como su uso, se ciñe a las actividades docentes de dicha asignatura."
   ]
  },
  {
   "cell_type": "markdown",
   "metadata": {
    "id": "--pSxv2vpvUg"
   },
   "source": [
    "### **Búsqueda y Minería de Información 2022-23**\n",
    "### Universidad Autónoma de Madrid, Escuela Politécnica Superior\n",
    "### Grado en Ingeniería Informática, 4º curso\n",
    "\n",
    "# Bloque 2 - Análisis de redes sociales\n",
    "\n",
    "Fechas:\n",
    "\n",
    "* Comienzo: martes 28 / jueves 30 de marzo.\n",
    "* Entrega: lunes 8 de mayo, 23:59.\n",
    "\n",
    "## Objetivos\n",
    "\n",
    "Este segundo bloque de la práctica tiene por objetivo la implementación de funcionalidades de análisis de redes sociales. En este bloque se desarrollarán:\n",
    "\n",
    "* Métricas que se utilizan en el análisis de redes sociales.\n",
    "* Otras funcionalidades a elección opcional del estudiante, tales como más métricas, la detección de comunidades, la generación aleatoria de redes sociales, o la recomendación de contactos.\n",
    "\n",
    "## Material proporcionado\n",
    "\n",
    "Se proporcionan software y datos para la realización de la práctica:\n",
    "\n",
    "* Un esqueleto de clases y funciones donde el estudiante desarrollará sus implementaciones. De modo similar a las prácticas anteriores, se proporciona una celda de prueba al final, que deberá funcionar con el código implementado por el estudiante.\n",
    "* Redes sociales de prueba:\n",
    "  - Tres redes pequeñas de prueba.\n",
    "  - Redes reales: la red disponible en [SNAP (facebook_combined)](https://snap.stanford.edu/data/egonets-Facebook.html), y <ins>twitter.csv</ins> obtenida mediante una descarga de Twitter (unos 10 mil usuarios con medio millón de relaciones follow).\n",
    "  - Al conjunto de redes de prueba, el estudiante añadirá dos redes más, simuladas, en el ejercicio 5.\n",
    "  \n",
    "Los esqueletos de código que se proporcionan aquí son a modo de guía: el estudiante puede modificarlo todo libremente, siempre que la celda de prueba funcione correctamente **sin cambios**.\n",
    "\n",
    "## Calificación\n",
    "\n",
    "El peso de esta práctica (recomendación + redes sociales) en la nota final de prácticas es del **40%**.\n",
    "\n",
    "La calificación se basará en el **número** de ejercicios realizados y la **calidad** de los mismos. La puntuación que se indica en cada apartado es orientativa, en principio se aplicará tal cual se refleja pero podrá matizarse por criterios de buen sentido si se da el caso.\n",
    "\n",
    "Para dar por válida la realización de un ejercicio, el código deberá funcionar (a la primera) integrado con las clases que se facilitan. El profesor comprobará este aspecto ejecutando la celda de prueba y otras adicionales.\n",
    "\n",
    "La corrección de las implementaciones se observará por la **coherencia de los resultados**, y se valorará la eficiencia en tiempo de ejecución.\n",
    "\n",
    "## Entrega\n",
    "\n",
    "La entrega consistirá en dos ficheros tipo *notebook* (uno para recomendación y otro para redes sociales) donde se incluirán todas las **implementaciones** solicitadas en cada ejercicio, así como una explicación de cada uno a modo de **memoria**.\n",
    "\n",
    "## Indicaciones\n",
    "\n",
    "La realización de los ejercicios conducirá en muchos casos a la implementación de funciones y/o clases adicionales a las que se indican en el enunciado. Algunas vendrán dadas por su aparición en los propias celdas de prueba, y otras por conveniencia a criterio del estudiante.\n",
    "\n",
    "Igual que en prácticas anteriores, no deberán editarse las celdas de prueba. Estas celdas deberán ejecutar sin errores a la primera con el código entregado por el estudiante (naturalmente con salvedad de los ejercicios que no se hayan implementado."
   ]
  },
  {
   "cell_type": "markdown",
   "metadata": {
    "id": "7lOWgbqZpV01"
   },
   "source": [
    "## Ejercicio 5: Preliminares (1.5pt)\n",
    "\n",
    "Generar dos **redes sociales simuladas** siguiendo los modelos de Barabási-Albert y Erdös-Rényi. El tamaño y densidad de los grafos se deja a elección propia. Se puede utilizar para ello cualquier herramienta (como NetworkX, o el entorno interactivo de Gephi), o bien programar implementaciones propias (lo cual también es muy sencillo).\n",
    "\n",
    "Realizar un análisis básico de la **distribución del grado** en las siete redes sociales de la práctica: small x 3, Facebook, Twitter, Barabási-Albert y Erdös-Rényi. Para cada red:\n",
    "\n",
    "* Generar una gráfica de distribución del grado (utilizando escala log-log cuando ello sea útil) y comprobar en qué medida se observa una distribución power law.\n",
    "* Verificar si se observa la paradoja de la amistad (en sus diferentes versiones).\n",
    "\n",
    "Los resultados de este ejercicio no conllevan entrega de software, sino sólo la documentación de los mismos en el apartado de memoria."
   ]
  },
  {
   "cell_type": "code",
   "execution_count": 191,
   "metadata": {
    "id": "br7yqFrnpZYl"
   },
   "outputs": [],
   "source": [
    "# Si se ha implementado algún código, se puede incluir aquí\n",
    "# Si no se ha utilizado Python, se puede utilizar el apartado de explicación siguiente para describir el proceso y las herramientas utilizadas"
   ]
  },
  {
   "cell_type": "code",
   "execution_count": 192,
   "metadata": {},
   "outputs": [],
   "source": [
    "import pandas as pd\n",
    "import os\n",
    "import numpy as np\n",
    "import networkx as nx\n",
    "import matplotlib.pyplot as plt\n",
    "import random"
   ]
  },
  {
   "cell_type": "code",
   "execution_count": 193,
   "metadata": {},
   "outputs": [],
   "source": [
    "NETWORKS_PATH = 'networks'\n",
    "ERDOS_FILENAME = 'erdos.csv'\n",
    "BARABASI_FILENAME = 'barabasi.csv'"
   ]
  },
  {
   "cell_type": "code",
   "execution_count": 194,
   "metadata": {},
   "outputs": [],
   "source": [
    "def matrix_to_df(matrix):\n",
    "    \"\"\" Función que convierte una matriz de adyacencia en un dataframe de pandas con\n",
    "    las conexiones entre nodos. Se asume que las conexiones son bidireccionales,\n",
    "    por lo que solo se guardan las conexiones por encima de la diagonal.\n",
    "\n",
    "    Args:\n",
    "        matriz (numpy.ndarray): Matriz de adyacencia\n",
    "\n",
    "    Returns:\n",
    "        pandas.DataFrame: Dataframe de pandas\n",
    "    \"\"\"\n",
    "    # Nos quedamos solo con la parte superior de la matriz, por encima de la diagonal\n",
    "    # para evitar conexiones duplicadas\n",
    "    matrix = np.triu(matrix, 1)\n",
    "\n",
    "    # Convertimos la matriz de adyacencia en un dataframe de pandas\n",
    "    df = pd.DataFrame(matrix)\n",
    "\n",
    "    # Convertimos el dataframe en una lista de conexiones\n",
    "    df = df.stack().reset_index()\n",
    "\n",
    "    # Renombramos las columnas\n",
    "    df.columns = ['u', 'v', 'peso']\n",
    "\n",
    "    # Nos quedamos solo con las conexiones que tienen peso\n",
    "    df = df[df['peso'] != 0]\n",
    "\n",
    "    # Como todas las conexiones tienen el mismo peso, nos quedamos solo con las columnas u y v\n",
    "    df = df[['u', 'v']].reset_index(drop=True)\n",
    "\n",
    "    return df"
   ]
  },
  {
   "cell_type": "code",
   "execution_count": 195,
   "metadata": {},
   "outputs": [],
   "source": [
    "def adjacency_matrix_from_df(df):\n",
    "    \"\"\" Función que genera una matriz de adyacencia a partir de un dataframe de conexiones.\n",
    "\n",
    "    Args:\n",
    "        df (pandas.DataFrame): Dataframe de conexiones\n",
    "\n",
    "    Returns:\n",
    "        numpy.ndarray: Matriz de adyacencia\n",
    "    \"\"\"\n",
    "    # Creamos la matriz de adyacencia a partir de las conexiones\n",
    "    adjacency_matrix = pd.crosstab(df.u, df.v)\n",
    "    idx = adjacency_matrix.columns.union(adjacency_matrix.index)\n",
    "    adjacency_matrix = adjacency_matrix.reindex(index = idx, columns=idx, fill_value=0)\n",
    "\n",
    "    # Lo convertimos a numpy array\n",
    "    adjacency_matrix = adjacency_matrix.to_numpy()\n",
    "\n",
    "    # Sumamos la transpuesta ya que todos los enlaces son bidireccionales\n",
    "    adjacency_matrix = adjacency_matrix + adjacency_matrix.T\n",
    "\n",
    "    # Todos los enlaces tienen el mismo peso, por lo que ponemos a 1 todos los valores mayores que 1\n",
    "    adjacency_matrix[adjacency_matrix > 1] = 1\n",
    "\n",
    "    # Eliminamos los enlaces de un nodo a sí mismo\n",
    "    np.fill_diagonal(adjacency_matrix, 0)\n",
    "\n",
    "    return adjacency_matrix"
   ]
  },
  {
   "attachments": {},
   "cell_type": "markdown",
   "metadata": {},
   "source": [
    "## Generación red Erdös-Rényi"
   ]
  },
  {
   "cell_type": "code",
   "execution_count": 196,
   "metadata": {},
   "outputs": [
    {
     "name": "stdout",
     "output_type": "stream",
     "text": [
      "[[0 0 0 ... 0 0 0]\n",
      " [0 0 0 ... 0 0 0]\n",
      " [0 0 0 ... 0 0 0]\n",
      " ...\n",
      " [0 0 0 ... 0 0 0]\n",
      " [0 0 0 ... 0 0 0]\n",
      " [0 0 0 ... 0 0 0]]\n"
     ]
    },
    {
     "data": {
      "text/html": [
       "<div>\n",
       "<style scoped>\n",
       "    .dataframe tbody tr th:only-of-type {\n",
       "        vertical-align: middle;\n",
       "    }\n",
       "\n",
       "    .dataframe tbody tr th {\n",
       "        vertical-align: top;\n",
       "    }\n",
       "\n",
       "    .dataframe thead th {\n",
       "        text-align: right;\n",
       "    }\n",
       "</style>\n",
       "<table border=\"1\" class=\"dataframe\">\n",
       "  <thead>\n",
       "    <tr style=\"text-align: right;\">\n",
       "      <th></th>\n",
       "      <th>u</th>\n",
       "      <th>v</th>\n",
       "    </tr>\n",
       "  </thead>\n",
       "  <tbody>\n",
       "    <tr>\n",
       "      <th>0</th>\n",
       "      <td>0</td>\n",
       "      <td>24</td>\n",
       "    </tr>\n",
       "    <tr>\n",
       "      <th>1</th>\n",
       "      <td>0</td>\n",
       "      <td>26</td>\n",
       "    </tr>\n",
       "    <tr>\n",
       "      <th>2</th>\n",
       "      <td>0</td>\n",
       "      <td>35</td>\n",
       "    </tr>\n",
       "    <tr>\n",
       "      <th>3</th>\n",
       "      <td>0</td>\n",
       "      <td>93</td>\n",
       "    </tr>\n",
       "    <tr>\n",
       "      <th>4</th>\n",
       "      <td>0</td>\n",
       "      <td>103</td>\n",
       "    </tr>\n",
       "    <tr>\n",
       "      <th>...</th>\n",
       "      <td>...</td>\n",
       "      <td>...</td>\n",
       "    </tr>\n",
       "    <tr>\n",
       "      <th>800266</th>\n",
       "      <td>3991</td>\n",
       "      <td>3993</td>\n",
       "    </tr>\n",
       "    <tr>\n",
       "      <th>800267</th>\n",
       "      <td>3991</td>\n",
       "      <td>3998</td>\n",
       "    </tr>\n",
       "    <tr>\n",
       "      <th>800268</th>\n",
       "      <td>3993</td>\n",
       "      <td>3998</td>\n",
       "    </tr>\n",
       "    <tr>\n",
       "      <th>800269</th>\n",
       "      <td>3993</td>\n",
       "      <td>3999</td>\n",
       "    </tr>\n",
       "    <tr>\n",
       "      <th>800270</th>\n",
       "      <td>3995</td>\n",
       "      <td>3997</td>\n",
       "    </tr>\n",
       "  </tbody>\n",
       "</table>\n",
       "<p>800271 rows × 2 columns</p>\n",
       "</div>"
      ],
      "text/plain": [
       "           u     v\n",
       "0          0    24\n",
       "1          0    26\n",
       "2          0    35\n",
       "3          0    93\n",
       "4          0   103\n",
       "...      ...   ...\n",
       "800266  3991  3993\n",
       "800267  3991  3998\n",
       "800268  3993  3998\n",
       "800269  3993  3999\n",
       "800270  3995  3997\n",
       "\n",
       "[800271 rows x 2 columns]"
      ]
     },
     "execution_count": 196,
     "metadata": {},
     "output_type": "execute_result"
    }
   ],
   "source": [
    "# Generación Red Erdos-Renyi\n",
    "def red_erdos_renyi(num_nodes, p):\n",
    "    \"\"\" Función que genera una red aleatoria Erdos-Renyi con\n",
    "    un número de nodos y una probabilidad de conexión dadas.\n",
    "\n",
    "    Args:\n",
    "        num_nodes (int): Número de nodos de la red\n",
    "        p (float): Probabilidad de conexión entre nodos\n",
    "\n",
    "    Returns:\n",
    "        numpy.ndarray: Matriz de adyacencia de la red\n",
    "    \"\"\"\n",
    "    m = np.random.choice([0, 1], size=(num_nodes, num_nodes), p=[1-p, p])\n",
    "\n",
    "    # Nos quedamos solo con la parte superior de la matriz, por encima de la diagonal\n",
    "    # y el resto de elementos los ponemos a 0. De esta forma, la probabilidad de \n",
    "    # conexión entre un par de nodos es p.\n",
    "    m = np.triu(m, 1)\n",
    "\n",
    "    # Sumamos la matriz con su traspuesta para obtener una matriz simétrica\n",
    "    m = m + m.T\n",
    "\n",
    "    return m\n",
    "\n",
    "matriz_erdos = red_erdos_renyi(4000, 0.1)\n",
    "df_erdos = matrix_to_df(matriz_erdos)\n",
    "\n",
    "# Guardar red Erdos-Renyi\n",
    "df_erdos.to_csv(os.path.join(NETWORKS_PATH, ERDOS_FILENAME), index=False, header=False)\n",
    "\n",
    "print(matriz_erdos)\n",
    "df_erdos"
   ]
  },
  {
   "attachments": {},
   "cell_type": "markdown",
   "metadata": {},
   "source": [
    "## Generación red Barabási-Albert"
   ]
  },
  {
   "cell_type": "code",
   "execution_count": 197,
   "metadata": {},
   "outputs": [
    {
     "name": "stdout",
     "output_type": "stream",
     "text": [
      "[[0. 0. 0. ... 0. 0. 0.]\n",
      " [0. 0. 1. ... 0. 0. 0.]\n",
      " [0. 1. 0. ... 0. 0. 0.]\n",
      " ...\n",
      " [0. 0. 0. ... 0. 0. 0.]\n",
      " [0. 0. 0. ... 0. 0. 0.]\n",
      " [0. 0. 0. ... 0. 0. 0.]]\n"
     ]
    },
    {
     "data": {
      "text/html": [
       "<div>\n",
       "<style scoped>\n",
       "    .dataframe tbody tr th:only-of-type {\n",
       "        vertical-align: middle;\n",
       "    }\n",
       "\n",
       "    .dataframe tbody tr th {\n",
       "        vertical-align: top;\n",
       "    }\n",
       "\n",
       "    .dataframe thead th {\n",
       "        text-align: right;\n",
       "    }\n",
       "</style>\n",
       "<table border=\"1\" class=\"dataframe\">\n",
       "  <thead>\n",
       "    <tr style=\"text-align: right;\">\n",
       "      <th></th>\n",
       "      <th>u</th>\n",
       "      <th>v</th>\n",
       "    </tr>\n",
       "  </thead>\n",
       "  <tbody>\n",
       "    <tr>\n",
       "      <th>0</th>\n",
       "      <td>0</td>\n",
       "      <td>3</td>\n",
       "    </tr>\n",
       "    <tr>\n",
       "      <th>1</th>\n",
       "      <td>0</td>\n",
       "      <td>4</td>\n",
       "    </tr>\n",
       "    <tr>\n",
       "      <th>2</th>\n",
       "      <td>0</td>\n",
       "      <td>5</td>\n",
       "    </tr>\n",
       "    <tr>\n",
       "      <th>3</th>\n",
       "      <td>0</td>\n",
       "      <td>6</td>\n",
       "    </tr>\n",
       "    <tr>\n",
       "      <th>4</th>\n",
       "      <td>0</td>\n",
       "      <td>7</td>\n",
       "    </tr>\n",
       "    <tr>\n",
       "      <th>...</th>\n",
       "      <td>...</td>\n",
       "      <td>...</td>\n",
       "    </tr>\n",
       "    <tr>\n",
       "      <th>39927</th>\n",
       "      <td>3928</td>\n",
       "      <td>3938</td>\n",
       "    </tr>\n",
       "    <tr>\n",
       "      <th>39928</th>\n",
       "      <td>3940</td>\n",
       "      <td>3950</td>\n",
       "    </tr>\n",
       "    <tr>\n",
       "      <th>39929</th>\n",
       "      <td>3953</td>\n",
       "      <td>3972</td>\n",
       "    </tr>\n",
       "    <tr>\n",
       "      <th>39930</th>\n",
       "      <td>3956</td>\n",
       "      <td>3981</td>\n",
       "    </tr>\n",
       "    <tr>\n",
       "      <th>39931</th>\n",
       "      <td>3960</td>\n",
       "      <td>3987</td>\n",
       "    </tr>\n",
       "  </tbody>\n",
       "</table>\n",
       "<p>39932 rows × 2 columns</p>\n",
       "</div>"
      ],
      "text/plain": [
       "          u     v\n",
       "0         0     3\n",
       "1         0     4\n",
       "2         0     5\n",
       "3         0     6\n",
       "4         0     7\n",
       "...     ...   ...\n",
       "39927  3928  3938\n",
       "39928  3940  3950\n",
       "39929  3953  3972\n",
       "39930  3956  3981\n",
       "39931  3960  3987\n",
       "\n",
       "[39932 rows x 2 columns]"
      ]
     },
     "execution_count": 197,
     "metadata": {},
     "output_type": "execute_result"
    }
   ],
   "source": [
    "# Generación Red Barabasi-Albert\n",
    "def red_barabasi_albert(num_nodes, m):\n",
    "    \"\"\" Función que genera una red aleatoria Barabasi-Albert con\n",
    "    un número de nodos y un número de conexiones por nodo dadas.\n",
    "\n",
    "    Args:\n",
    "        num_nodes (int): Número de nodos de la red\n",
    "        m (int): Número de conexiones por nodo nuevo que se añade a la red\n",
    "\n",
    "    Returns:\n",
    "        numpy.ndarray: Matriz de adyacencia de la red\n",
    "    \"\"\"\n",
    "    # Creamos una lista de nodos inicial\n",
    "    nodes = list(range(m))\n",
    "\n",
    "    # Lista de conexiones. Cada elemento es una tupla con los nodos conectados\n",
    "    edges = []\n",
    "\n",
    "    # Lista donde cada nodo aparece por lo menos una vez, y luego\n",
    "    # aparece tantas veces como conexiones tenga\n",
    "\n",
    "    choice_list = [node for node in nodes for _ in range(m)]\n",
    "\n",
    "    # Conectamos aleatoriamente algunos nodos de la lista inicial\n",
    "    for node1 in nodes:\n",
    "        for node2 in nodes:\n",
    "            # No conectamos un nodo consigo mismo\n",
    "            if node1 == node2:\n",
    "                continue\n",
    "\n",
    "            # Probabilidad de conexion es 0.5\n",
    "            if random.random() < 0.5:\n",
    "                edges.append((node1, node2))\n",
    "                choice_list.append(node1)\n",
    "                choice_list.append(node2)\n",
    "\n",
    "    # Añadimos el resto de nodos\n",
    "    for node in range(m, num_nodes):\n",
    "        # Elegimos m nodos de la lista de nodos con repetición\n",
    "        new_edges = set(random.choices(choice_list, k=m))\n",
    "\n",
    "        # Si no se han elegido m nodos únicos, es decir, han salido repetidos,\n",
    "        # elegimos nodos hasta que tengamos m nodos únicos\n",
    "        while len(new_edges) < m:\n",
    "            new_edges.add(random.choice(choice_list))\n",
    "\n",
    "        # Conectamos el nodo con los m nodos elegidos\n",
    "        for node2 in new_edges:\n",
    "            edges.append((node, node2))\n",
    "            choice_list.append(node)\n",
    "            choice_list.append(node2)\n",
    "\n",
    "        nodes.append(node)\n",
    "\n",
    "    # Creamos la matriz de adyacencia\n",
    "    m = np.zeros((num_nodes, num_nodes))\n",
    "\n",
    "    # Añadimos las conexiones a la matriz de adyacencia\n",
    "    for node1, node2 in edges:\n",
    "        m[node1, node2] = 1\n",
    "        m[node2, node1] = 1\n",
    "\n",
    "    return m\n",
    "\n",
    "matriz_barabasi = red_barabasi_albert(4000, 10)\n",
    "df_barabasi = matrix_to_df(matriz_barabasi)\n",
    "\n",
    "# Guardar red Barabasi-Albert sin header\n",
    "df_barabasi.to_csv(os.path.join(NETWORKS_PATH, BARABASI_FILENAME), index=False, header=False)\n",
    "\n",
    "print(matriz_barabasi)\n",
    "df_barabasi"
   ]
  },
  {
   "attachments": {},
   "cell_type": "markdown",
   "metadata": {},
   "source": [
    "## Análisis de la distribución del grado"
   ]
  },
  {
   "cell_type": "code",
   "execution_count": 198,
   "metadata": {},
   "outputs": [],
   "source": [
    "def degree_frequency(adjacency_matrix):\n",
    "    \"\"\" Función que calcula la frecuencia de los grados de una red.\n",
    "\n",
    "    Args:\n",
    "        adjacency_matrix (numpy.ndarray): Matriz de adyacencia\n",
    "\n",
    "    Returns:\n",
    "        numpy.ndarray: Array con los grados entre el mínimo y el máximo de la red\n",
    "        numpy.ndarray: Array con el número de nodos que tiene cada grado.\n",
    "                       Tiene el mismo tamaño que el array anterior.\n",
    "    \"\"\"\n",
    "    # Suma por filas para obtener el grado de cada nodo\n",
    "    nodes_degrees = adjacency_matrix.sum(axis=1)\n",
    "\n",
    "    # Contamos cuántos nodos hay de cada grado\n",
    "    degrees = np.arange(nodes_degrees.min(), nodes_degrees.max() + 1)\n",
    "    degrees_count = np.zeros(degrees.shape)\n",
    "    for degree in degrees:\n",
    "        degrees_count[degree - degrees.min()] = np.count_nonzero(nodes_degrees == degree)\n",
    "\n",
    "    return degrees, degrees_count"
   ]
  },
  {
   "cell_type": "code",
   "execution_count": 199,
   "metadata": {},
   "outputs": [],
   "source": [
    "def plot_frecuencia_grados(adjacency_matrix, log=False):\n",
    "    \"\"\" Función que pinta una gráfica con la frecuencia de los grados de una red.\n",
    "\n",
    "    Args:\n",
    "        adjacency_matrix (numpy.ndarray): Matriz de adyacencia\n",
    "        log (bool, optional): Si es True, pinta la gráfica en escala logarítmica.\n",
    "                              Por defecto es False.\n",
    "    \"\"\"\n",
    "    # Calculamos la frecuencia de los grados\n",
    "    degrees, degrees_count = degree_frequency(adjacency_matrix)\n",
    "\n",
    "    # Plot de la distribución de grados\n",
    "    plt.figure(figsize=(10, 6))\n",
    "\n",
    "    if log:\n",
    "        plt.loglog(degrees, degrees_count, '.')\n",
    "    else:\n",
    "        plt.plot(degrees, degrees_count, '.')\n",
    "\n",
    "    plt.xlabel('Grado')\n",
    "    plt.ylabel('Número de nodos')\n",
    "    plt.title(f'Frecuencia de grados (log = {log})')\n",
    "    plt.show()"
   ]
  },
  {
   "cell_type": "code",
   "execution_count": 200,
   "metadata": {},
   "outputs": [],
   "source": [
    "def plot_grados_ordenados(adjacency_matrix, log = False):\n",
    "    \"\"\" Función que pinta una gráfica con los grados de los nodos ordenados de mayor a menor.\n",
    "\n",
    "    Args:\n",
    "        adjacency_matrix (numpy.ndarray): Matriz de adyacencia\n",
    "        log (bool, optional): Si es True, pinta la gráfica en escala logarítmica.\n",
    "                              Por defecto es False.\n",
    "    \"\"\"\n",
    "    # Calculamos los grados de los nodos\n",
    "    nodes_degrees = adjacency_matrix.sum(axis=1)\n",
    "\n",
    "    # Ordenamos los grados de mayor a menor\n",
    "    nodes_degrees = np.sort(nodes_degrees)[::-1]\n",
    "\n",
    "    # Plot de los grados ordenados. En el eje x está el nodo y en el eje y el grado\n",
    "    plt.figure(figsize=(10, 6))\n",
    "\n",
    "    if log:\n",
    "        plt.loglog(np.arange(nodes_degrees.shape[0]), nodes_degrees, '.')\n",
    "    else:\n",
    "        plt.plot(np.arange(nodes_degrees.shape[0]), nodes_degrees, '.')\n",
    "\n",
    "    plt.xlabel('Nodo')\n",
    "    plt.ylabel('Grado')\n",
    "    plt.title(f'Grados ordenados (log = {log})')\n",
    "    plt.show()"
   ]
  },
  {
   "attachments": {},
   "cell_type": "markdown",
   "metadata": {},
   "source": [
    "### Análisis red toy1.csv"
   ]
  },
  {
   "cell_type": "code",
   "execution_count": 201,
   "metadata": {},
   "outputs": [],
   "source": [
    "# Cargamos los datos de las conexiones de la red a un dataframe\n",
    "red_filename = 'toy1.csv'\n",
    "\n",
    "file = os.path.join('networks', red_filename)\n",
    "df = pd.read_csv(file, names=['u', 'v'], delimiter=',')\n",
    "\n",
    "# Creamos la matriz de adyacencia a partir de las conexiones\n",
    "adjacency_matrix = adjacency_matrix_from_df(df)"
   ]
  },
  {
   "attachments": {},
   "cell_type": "markdown",
   "metadata": {},
   "source": [
    "Distribución de la frecuencia de los grados"
   ]
  },
  {
   "cell_type": "code",
   "execution_count": 202,
   "metadata": {},
   "outputs": [
    {
     "data": {
      "image/png": "[encoded data removed]",
      "text/plain": [
       "<Figure size 720x432 with 1 Axes>"
      ]
     },
     "metadata": {
      "needs_background": "light"
     },
     "output_type": "display_data"
    }
   ],
   "source": [
    "# Pintamos la distribución de la frecuencia de los grados\n",
    "plot_frecuencia_grados(adjacency_matrix, log=False)"
   ]
  },
  {
   "attachments": {},
   "cell_type": "markdown",
   "metadata": {},
   "source": [
    "En esta primera red, al ser muy pequeña, no se observa ninguna distribución. Solo vemos que hay dos nodos con grado 2 y otros dos con grado 3."
   ]
  },
  {
   "attachments": {},
   "cell_type": "markdown",
   "metadata": {},
   "source": [
    "Grados ordenados"
   ]
  },
  {
   "cell_type": "code",
   "execution_count": 203,
   "metadata": {},
   "outputs": [
    {
     "data": {
      "image/png": "[encoded data removed]",
      "text/plain": [
       "<Figure size 720x432 with 1 Axes>"
      ]
     },
     "metadata": {
      "needs_background": "light"
     },
     "output_type": "display_data"
    }
   ],
   "source": [
    "plot_grados_ordenados(adjacency_matrix, log=False)"
   ]
  },
  {
   "attachments": {},
   "cell_type": "markdown",
   "metadata": {},
   "source": [
    "Al mirar los grados ordenados, observamos al igual que antes, que hay dos nodos con grado 3 y otros dos con grado 2."
   ]
  },
  {
   "attachments": {},
   "cell_type": "markdown",
   "metadata": {},
   "source": [
    "### Análisis red toy2.csv"
   ]
  },
  {
   "cell_type": "code",
   "execution_count": 204,
   "metadata": {},
   "outputs": [],
   "source": [
    "# Cargamos los datos de las conexiones de la red a un dataframe\n",
    "red_filename = 'toy2.csv'\n",
    "\n",
    "file = os.path.join('networks', red_filename)\n",
    "df = pd.read_csv(file, names=['u', 'v'], delimiter=',')\n",
    "\n",
    "# Creamos la matriz de adyacencia a partir de las conexiones\n",
    "adjacency_matrix = adjacency_matrix_from_df(df)"
   ]
  },
  {
   "cell_type": "markdown",
   "metadata": {},
   "source": [
    "Distribución de la frecuencia de los grados"
   ]
  },
  {
   "cell_type": "code",
   "execution_count": 205,
   "metadata": {},
   "outputs": [
    {
     "data": {
      "image/png": "[encoded data removed]",
      "text/plain": [
       "<Figure size 720x432 with 1 Axes>"
      ]
     },
     "metadata": {
      "needs_background": "light"
     },
     "output_type": "display_data"
    }
   ],
   "source": [
    "# Pintamos la distribución de la frecuencia de los grados\n",
    "plot_frecuencia_grados(adjacency_matrix, log=False)"
   ]
  },
  {
   "attachments": {},
   "cell_type": "markdown",
   "metadata": {},
   "source": [
    "En esta red solo se puede observar que casi todos los nodos tienen grado 3, mientras que hay uno con grado 8."
   ]
  },
  {
   "cell_type": "markdown",
   "metadata": {},
   "source": [
    "Grados ordenados"
   ]
  },
  {
   "cell_type": "code",
   "execution_count": 206,
   "metadata": {},
   "outputs": [
    {
     "data": {
      "image/png": "[encoded data removed]",
      "text/plain": [
       "<Figure size 720x432 with 1 Axes>"
      ]
     },
     "metadata": {
      "needs_background": "light"
     },
     "output_type": "display_data"
    }
   ],
   "source": [
    "plot_grados_ordenados(adjacency_matrix, log=False)"
   ]
  },
  {
   "attachments": {},
   "cell_type": "markdown",
   "metadata": {},
   "source": [
    "Vemos, al igual que antes, que hay un nodo con grado 8 y el resto tienen grado 3."
   ]
  },
  {
   "attachments": {},
   "cell_type": "markdown",
   "metadata": {},
   "source": [
    "### Análisis red toy3.csv"
   ]
  },
  {
   "cell_type": "code",
   "execution_count": 207,
   "metadata": {},
   "outputs": [],
   "source": [
    "# Cargamos los datos de las conexiones de la red a un dataframe\n",
    "red_filename = 'toy3.csv'\n",
    "\n",
    "file = os.path.join('networks', red_filename)\n",
    "df = pd.read_csv(file, names=['u', 'v'], delimiter=',')\n",
    "\n",
    "# Creamos la matriz de adyacencia a partir de las conexiones\n",
    "adjacency_matrix = adjacency_matrix_from_df(df)"
   ]
  },
  {
   "cell_type": "markdown",
   "metadata": {},
   "source": [
    "Distribución de la frecuencia de los grados"
   ]
  },
  {
   "cell_type": "code",
   "execution_count": 208,
   "metadata": {},
   "outputs": [
    {
     "data": {
      "image/png": "[encoded data removed]",
      "text/plain": [
       "<Figure size 720x432 with 1 Axes>"
      ]
     },
     "metadata": {
      "needs_background": "light"
     },
     "output_type": "display_data"
    }
   ],
   "source": [
    "# Pintamos la distribución de la frecuencia de los grados\n",
    "plot_frecuencia_grados(adjacency_matrix, log=False)"
   ]
  },
  {
   "attachments": {},
   "cell_type": "markdown",
   "metadata": {},
   "source": [
    "Para la red toy3 vemos que hay 5 nodos con grado 2, 6 con grado 3 y 1 con grado 4."
   ]
  },
  {
   "cell_type": "markdown",
   "metadata": {},
   "source": [
    "Grados ordenados"
   ]
  },
  {
   "cell_type": "code",
   "execution_count": 209,
   "metadata": {},
   "outputs": [
    {
     "data": {
      "image/png": "[encoded data removed]",
      "text/plain": [
       "<Figure size 720x432 with 1 Axes>"
      ]
     },
     "metadata": {
      "needs_background": "light"
     },
     "output_type": "display_data"
    }
   ],
   "source": [
    "plot_grados_ordenados(adjacency_matrix, log=False)"
   ]
  },
  {
   "attachments": {},
   "cell_type": "markdown",
   "metadata": {},
   "source": [
    "Vemos exactamente lo mismo que antes, 5 nodos con grado 2, 6 con grado 3 y 1 con grado 4."
   ]
  },
  {
   "attachments": {},
   "cell_type": "markdown",
   "metadata": {},
   "source": [
    "### Análisis red twitter.csv"
   ]
  },
  {
   "cell_type": "code",
   "execution_count": 210,
   "metadata": {},
   "outputs": [],
   "source": [
    "# Cargamos los datos de las conexiones de la red a un dataframe\n",
    "red_filename = 'twitter.csv'\n",
    "\n",
    "file = os.path.join('networks', red_filename)\n",
    "df = pd.read_csv(file, names=['u', 'v'], delimiter=',')\n",
    "\n",
    "# Creamos la matriz de adyacencia a partir de las conexiones\n",
    "adjacency_matrix = adjacency_matrix_from_df(df)"
   ]
  },
  {
   "cell_type": "markdown",
   "metadata": {},
   "source": [
    "Distribución de la frecuencia de los grados"
   ]
  },
  {
   "cell_type": "code",
   "execution_count": 211,
   "metadata": {},
   "outputs": [
    {
     "data": {
      "image/png": "[encoded data removed]",
      "text/plain": [
       "<Figure size 720x432 with 1 Axes>"
      ]
     },
     "metadata": {
      "needs_background": "light"
     },
     "output_type": "display_data"
    },
    {
     "data": {
      "image/png": "[encoded data removed]",
      "text/plain": [
       "<Figure size 720x432 with 1 Axes>"
      ]
     },
     "metadata": {
      "needs_background": "light"
     },
     "output_type": "display_data"
    }
   ],
   "source": [
    "# Pintamos la distribución de la frecuencia de los grados\n",
    "plot_frecuencia_grados(adjacency_matrix, log=False)\n",
    "plot_frecuencia_grados(adjacency_matrix, log=True)"
   ]
  },
  {
   "attachments": {},
   "cell_type": "markdown",
   "metadata": {},
   "source": [
    "En esta red, al observar la frecuencia de los grados, ya vemos que parece que cumple \n",
    "una distribución power law, y vemos que la gráfica sin escala logarítmica tiene forma\n",
    "de long tail, en la que muchos nodos tienen un grado bajo y pocos tienen un grado alto."
   ]
  },
  {
   "cell_type": "markdown",
   "metadata": {},
   "source": [
    "Grados ordenados"
   ]
  },
  {
   "cell_type": "code",
   "execution_count": 212,
   "metadata": {},
   "outputs": [
    {
     "data": {
      "image/png": "[encoded data removed]",
      "text/plain": [
       "<Figure size 720x432 with 1 Axes>"
      ]
     },
     "metadata": {
      "needs_background": "light"
     },
     "output_type": "display_data"
    },
    {
     "data": {
      "image/png": "[encoded data removed]",
      "text/plain": [
       "<Figure size 720x432 with 1 Axes>"
      ]
     },
     "metadata": {
      "needs_background": "light"
     },
     "output_type": "display_data"
    }
   ],
   "source": [
    "plot_grados_ordenados(adjacency_matrix, log=False)\n",
    "plot_grados_ordenados(adjacency_matrix, log=True)"
   ]
  },
  {
   "attachments": {},
   "cell_type": "markdown",
   "metadata": {},
   "source": [
    "Al graficar los grados ordenados, vemos al igual que antes que hay pocos nodos con\n",
    "un grado alto y vemos que rápidamente el grado de los nodos desciende."
   ]
  },
  {
   "attachments": {},
   "cell_type": "markdown",
   "metadata": {},
   "source": [
    "### Análisis red facebook_combined.txt"
   ]
  },
  {
   "cell_type": "code",
   "execution_count": 213,
   "metadata": {},
   "outputs": [],
   "source": [
    "# Cargamos los datos de las conexiones de la red a un dataframe\n",
    "red_filename = 'facebook_combined.txt'\n",
    "\n",
    "file = os.path.join('networks', red_filename)\n",
    "df = pd.read_csv(file, names=['u', 'v'], delimiter=' ')\n",
    "\n",
    "# Creamos la matriz de adyacencia a partir de las conexiones\n",
    "adjacency_matrix = adjacency_matrix_from_df(df)"
   ]
  },
  {
   "cell_type": "markdown",
   "metadata": {},
   "source": [
    "Distribución de la frecuencia de los grados"
   ]
  },
  {
   "cell_type": "code",
   "execution_count": 214,
   "metadata": {},
   "outputs": [
    {
     "data": {
      "image/png": "[encoded data removed]",
      "text/plain": [
       "<Figure size 720x432 with 1 Axes>"
      ]
     },
     "metadata": {
      "needs_background": "light"
     },
     "output_type": "display_data"
    },
    {
     "data": {
      "image/png": "[encoded data removed]",
      "text/plain": [
       "<Figure size 720x432 with 1 Axes>"
      ]
     },
     "metadata": {
      "needs_background": "light"
     },
     "output_type": "display_data"
    }
   ],
   "source": [
    "# Pintamos la distribución de la frecuencia de los grados\n",
    "plot_frecuencia_grados(adjacency_matrix, log=False)\n",
    "plot_frecuencia_grados(adjacency_matrix, log=True)"
   ]
  },
  {
   "attachments": {},
   "cell_type": "markdown",
   "metadata": {},
   "source": [
    "En la red de facebook, al igual que en la red de twitter, vemos que la distribución\n",
    "de los grado parece seguir una ley de potencias y la distribución se parece a una long tail."
   ]
  },
  {
   "cell_type": "markdown",
   "metadata": {},
   "source": [
    "Grados ordenados"
   ]
  },
  {
   "cell_type": "code",
   "execution_count": 215,
   "metadata": {},
   "outputs": [
    {
     "data": {
      "image/png": "[encoded data removed]",
      "text/plain": [
       "<Figure size 720x432 with 1 Axes>"
      ]
     },
     "metadata": {
      "needs_background": "light"
     },
     "output_type": "display_data"
    },
    {
     "data": {
      "image/png": "[encoded data removed]",
      "text/plain": [
       "<Figure size 720x432 with 1 Axes>"
      ]
     },
     "metadata": {
      "needs_background": "light"
     },
     "output_type": "display_data"
    }
   ],
   "source": [
    "plot_grados_ordenados(adjacency_matrix, log=False)\n",
    "plot_grados_ordenados(adjacency_matrix, log=True)"
   ]
  },
  {
   "attachments": {},
   "cell_type": "markdown",
   "metadata": {},
   "source": [
    "Viendo los grados ordenados, se observa lo mismo, al principio hay algunos nodos con muchas\n",
    "conexiones, y rápidamente el grado de los nodos desciende."
   ]
  },
  {
   "attachments": {},
   "cell_type": "markdown",
   "metadata": {},
   "source": [
    "### Análisis red erdos_renyi.csv\n",
    "Hemos generado una red de Erdös-Rényi con 4000 nodos y una probabilidad de conexión entre\n",
    "dos nodos de 0.1."
   ]
  },
  {
   "cell_type": "code",
   "execution_count": 216,
   "metadata": {},
   "outputs": [],
   "source": [
    "# Cargamos los datos de las conexiones de la red a un dataframe\n",
    "red_filename = ERDOS_FILENAME\n",
    "\n",
    "file = os.path.join('networks', red_filename)\n",
    "df = pd.read_csv(file, names=['u', 'v'], delimiter=',')\n",
    "\n",
    "# Creamos la matriz de adyacencia a partir de las conexiones\n",
    "adjacency_matrix = adjacency_matrix_from_df(df)"
   ]
  },
  {
   "cell_type": "markdown",
   "metadata": {},
   "source": [
    "Distribución de la frecuencia de los grados"
   ]
  },
  {
   "cell_type": "code",
   "execution_count": 217,
   "metadata": {},
   "outputs": [
    {
     "data": {
      "image/png": "[encoded data removed]",
      "text/plain": [
       "<Figure size 720x432 with 1 Axes>"
      ]
     },
     "metadata": {
      "needs_background": "light"
     },
     "output_type": "display_data"
    }
   ],
   "source": [
    "# Pintamos la distribución de la frecuencia de los grados\n",
    "plot_frecuencia_grados(adjacency_matrix, log=False)"
   ]
  },
  {
   "attachments": {},
   "cell_type": "markdown",
   "metadata": {},
   "source": [
    "En esta red, como es de esperar por la forma en la que se ha generado, vemos que la\n",
    "distribución de grados tiene una forma de campana de Gauss, centrada en 400 aproximadamente.\n",
    "De la teoría, sabemos que la media de los grados es (n-1)*p, y en este caso, n=4000 y p=0.1, \n",
    "por lo que gráfica coincide con la teoría."
   ]
  },
  {
   "cell_type": "markdown",
   "metadata": {},
   "source": [
    "Grados ordenados"
   ]
  },
  {
   "cell_type": "code",
   "execution_count": 218,
   "metadata": {},
   "outputs": [
    {
     "data": {
      "image/png": "[encoded data removed]",
      "text/plain": [
       "<Figure size 720x432 with 1 Axes>"
      ]
     },
     "metadata": {
      "needs_background": "light"
     },
     "output_type": "display_data"
    }
   ],
   "source": [
    "plot_grados_ordenados(adjacency_matrix, log=False)"
   ]
  },
  {
   "attachments": {},
   "cell_type": "markdown",
   "metadata": {},
   "source": [
    "Al analizar los grados ordenados, vemos que aproximadamente la mitad de los nodos tienen grado mayor que 400, y la otra mitad tienen grado menor que 400, que es lo que se espera que tenga\n",
    "este tipo de red."
   ]
  },
  {
   "attachments": {},
   "cell_type": "markdown",
   "metadata": {},
   "source": [
    "### Análisis red barabasi_albert.csv\n",
    "\n",
    "Para este red hemos generado 4000 nodos y cada nuevo nodo se conecta con 10 nodos ya existentes."
   ]
  },
  {
   "cell_type": "code",
   "execution_count": 219,
   "metadata": {},
   "outputs": [],
   "source": [
    "# Cargamos los datos de las conexiones de la red a un dataframe\n",
    "red_filename = BARABASI_FILENAME\n",
    "\n",
    "file = os.path.join('networks', red_filename)\n",
    "df = pd.read_csv(file, names=['u', 'v'], delimiter=',')\n",
    "\n",
    "# Creamos la matriz de adyacencia a partir de las conexiones\n",
    "adjacency_matrix = adjacency_matrix_from_df(df)"
   ]
  },
  {
   "cell_type": "markdown",
   "metadata": {},
   "source": [
    "Distribución de la frecuencia de los grados"
   ]
  },
  {
   "cell_type": "code",
   "execution_count": 220,
   "metadata": {},
   "outputs": [
    {
     "data": {
      "image/png": "[encoded data removed]",
      "text/plain": [
       "<Figure size 720x432 with 1 Axes>"
      ]
     },
     "metadata": {
      "needs_background": "light"
     },
     "output_type": "display_data"
    },
    {
     "data": {
      "image/png": "[encoded data removed]",
      "text/plain": [
       "<Figure size 720x432 with 1 Axes>"
      ]
     },
     "metadata": {
      "needs_background": "light"
     },
     "output_type": "display_data"
    }
   ],
   "source": [
    "# Pintamos la distribución de la frecuencia de los grados\n",
    "plot_frecuencia_grados(adjacency_matrix, log=False)\n",
    "plot_frecuencia_grados(adjacency_matrix, log=True)"
   ]
  },
  {
   "attachments": {},
   "cell_type": "markdown",
   "metadata": {},
   "source": [
    "En la gráfica sin escala logarítmica vemos que tiene forma de long tail, y al verlo en escala\n",
    "logarítmica, vemos que se sigue una distribución power law de forma bastante exacta."
   ]
  },
  {
   "cell_type": "markdown",
   "metadata": {},
   "source": [
    "Grados ordenados"
   ]
  },
  {
   "cell_type": "code",
   "execution_count": 221,
   "metadata": {},
   "outputs": [
    {
     "data": {
      "image/png": "[encoded data removed]",
      "text/plain": [
       "<Figure size 720x432 with 1 Axes>"
      ]
     },
     "metadata": {
      "needs_background": "light"
     },
     "output_type": "display_data"
    },
    {
     "data": {
      "image/png": "[encoded data removed]",
      "text/plain": [
       "<Figure size 720x432 with 1 Axes>"
      ]
     },
     "metadata": {
      "needs_background": "light"
     },
     "output_type": "display_data"
    }
   ],
   "source": [
    "plot_grados_ordenados(adjacency_matrix, log=False)\n",
    "plot_grados_ordenados(adjacency_matrix, log=True)"
   ]
  },
  {
   "attachments": {},
   "cell_type": "markdown",
   "metadata": {},
   "source": [
    "Si ordenamos los grados, también se ve que esta red generada sigue una distribución power law."
   ]
  },
  {
   "attachments": {},
   "cell_type": "markdown",
   "metadata": {},
   "source": [
    "## Paradoja de la amistad"
   ]
  },
  {
   "cell_type": "code",
   "execution_count": 222,
   "metadata": {},
   "outputs": [],
   "source": [
    "def friendship_paradox(adjacency_matrix):\n",
    "    \"\"\" Función que devuelve la proporción de nodos que la media de los grados\n",
    "    de sus amigos es mayor que su grado\n",
    "\n",
    "    Args:\n",
    "        adjacency_matrix (numpy array): Matriz de adyacencia de la red\n",
    "\n",
    "    Returns:\n",
    "        float: Proporción de nodos que la media de los grados de sus amigos es mayor que su grado\n",
    "    \"\"\"\n",
    "    nodes_degrees = adjacency_matrix.sum(axis=1)\n",
    "\n",
    "    # Suma de los grados de los amigos de cada nodo\n",
    "    friends_degrees_sum = adjacency_matrix @ nodes_degrees\n",
    "\n",
    "    # Media de los grados de los amigos de cada nodo\n",
    "    friends_degrees_average = friends_degrees_sum / nodes_degrees\n",
    "\n",
    "    # Proporcion de nodos cuyos amigos tienen un grado mayor que ellos\n",
    "    proportion = (friends_degrees_average > nodes_degrees).sum() / nodes_degrees.shape[0]\n",
    "\n",
    "    return proportion"
   ]
  },
  {
   "cell_type": "code",
   "execution_count": 223,
   "metadata": {},
   "outputs": [],
   "source": [
    "def friends_average(adjacency_matrix):\n",
    "    \"\"\" Función que devuelve el promedio del número de amigos de los amigos. Calcula la suma \n",
    "    de los grados de los amigos de cada nodo y lo divide entre el número de conexiones.\n",
    "\n",
    "    Args:\n",
    "        adjacency_matrix (numpy array): Matriz de adyacencia de la red\n",
    "\n",
    "    Returns:\n",
    "        float: Promedio del número de amigos de los amigos.\n",
    "    \"\"\"\n",
    "    # Grados de los nodos\n",
    "    nodes_degrees = adjacency_matrix.sum(axis=1)\n",
    "\n",
    "    # Suma de los grados de los amigos de cada nodo\n",
    "    friends_degrees_sum = adjacency_matrix @ nodes_degrees\n",
    "\n",
    "    # Calculamos la suma de todos los grados del número de amigos de los amigos\n",
    "    friends_degrees_sum = friends_degrees_sum.sum()\n",
    "\n",
    "    # Calculamos número de conexiones (cada conexión se cuenta dos veces ya que uno es amigo del otro)\n",
    "    edges = adjacency_matrix.sum()\n",
    "\n",
    "    # Media de los grados del número de amigos de los amigos\n",
    "    friends_degrees_average = friends_degrees_sum / edges\n",
    "\n",
    "    return friends_degrees_average"
   ]
  },
  {
   "cell_type": "code",
   "execution_count": 224,
   "metadata": {},
   "outputs": [],
   "source": [
    "def friends_average_v2(adjacency_matrix):\n",
    "    \"\"\" Función que devuelve el promedio del número de amigos de los amigos. \n",
    "    Lo que hace es primero calcular la media del número de amigos que tienen los amigos de cada nodo,\n",
    "    y luego hace la media de todos esos valores.\n",
    "\n",
    "    Args:\n",
    "        adjacency_matrix (numpy array): Matriz de adyacencia de la red\n",
    "\n",
    "    Returns:\n",
    "        float: Promedio del número de amigos de los amigos.\n",
    "    \"\"\"\n",
    "    # Grados de los nodos\n",
    "    nodes_degrees = adjacency_matrix.sum(axis=1)\n",
    "\n",
    "    # Suma de los grados de los amigos de cada nodo\n",
    "    friends_degrees_sum = adjacency_matrix @ nodes_degrees\n",
    "\n",
    "    # Calculamos la suma de todos los grados del número de amigos de los amigos\n",
    "    friends_degrees_avg = friends_degrees_sum / nodes_degrees\n",
    "\n",
    "    # Media de los grados del número de amigos de los amigos\n",
    "    friends_degrees_average = friends_degrees_avg.mean()\n",
    "\n",
    "    return friends_degrees_average"
   ]
  },
  {
   "cell_type": "code",
   "execution_count": 225,
   "metadata": {},
   "outputs": [],
   "source": [
    "files = ['toy1.csv', 'toy2.csv', 'toy3.csv', 'twitter.csv', 'facebook_combined.txt', ERDOS_FILENAME, BARABASI_FILENAME]\n",
    "\n",
    "separators = [',', ',', ',', ',', ' ', ',', ',']\n",
    "\n",
    "matrices = []\n",
    "\n",
    "\n",
    "\n",
    "for file, sep in zip(files, separators):\n",
    "    file_path = os.path.join('networks', file)\n",
    "    df = pd.read_csv(file_path, names=['u', 'v'], delimiter=sep)\n",
    "    matrices.append(adjacency_matrix_from_df(df))"
   ]
  },
  {
   "cell_type": "code",
   "execution_count": 226,
   "metadata": {},
   "outputs": [
    {
     "name": "stdout",
     "output_type": "stream",
     "text": [
      "Proporción de nodos cuyos amigos tienen un grado mayor que ellos:\n",
      "toy1.csv: 0.5\n",
      "toy2.csv: 0.8888888888888888\n",
      "toy3.csv: 0.5\n",
      "twitter.csv: 0.8962010170505534\n",
      "facebook_combined.txt: 0.874721465709334\n",
      "erdos.csv: 0.52325\n",
      "barabasi.csv: 0.92975\n"
     ]
    }
   ],
   "source": [
    "print(f\"Proporción de nodos cuyos amigos tienen un grado mayor que ellos:\")\n",
    "\n",
    "for file, adjacency_matrix in zip(files, matrices):\n",
    "    proportion = friendship_paradox(adjacency_matrix)\n",
    "    print(f\"{file}: {proportion}\")"
   ]
  },
  {
   "attachments": {},
   "cell_type": "markdown",
   "metadata": {},
   "source": [
    "Fijándonos en la proporción de nodos cuyos amigos tienen mayor grado que ellos:\n",
    "\n",
    "En las redes de juguete solo se observa la paradoja de la amistad en toy2, pero estas redes no son de interés.\n",
    "\n",
    "En las redes reales de Twitter y Facebook, sí vemos que se cumple la paradoja de la amistad, vemos que en la de\n",
    "Twitter el 89% de los nodos tienen un grado menor que la media de sus amigos, y en la de Facebook el 87%.\n",
    "\n",
    "En la red de Erdös-Rényi, no se ve la paradoja de la amistad, ya que las conexiones en esta red son totalmente aleatorias.\n",
    "\n",
    "En cambio, en la red de Barabási-Albert, sí que se ve la paradoja de la amistad, ya que los nodos nuevos se conectan\n",
    "con los nodos que tienen más conexiones."
   ]
  },
  {
   "cell_type": "code",
   "execution_count": 227,
   "metadata": {},
   "outputs": [
    {
     "name": "stdout",
     "output_type": "stream",
     "text": [
      "Comparación número de amigos con el promedio del número de amigos de los amigos (Versión 1):\n",
      "toy1.csv:\n",
      "Media de amigos: 2.50\n",
      "Media de amigos de amigos: 2.60\n",
      "toy2.csv:\n",
      "Media de amigos: 3.56\n",
      "Media de amigos de amigos: 4.25\n",
      "toy3.csv:\n",
      "Media de amigos: 2.67\n",
      "Media de amigos de amigos: 2.81\n",
      "twitter.csv:\n",
      "Media de amigos: 92.21\n",
      "Media de amigos de amigos: 230.52\n",
      "facebook_combined.txt:\n",
      "Media de amigos: 43.69\n",
      "Media de amigos de amigos: 106.57\n",
      "erdos.csv:\n",
      "Media de amigos: 400.14\n",
      "Media de amigos de amigos: 401.04\n",
      "barabasi.csv:\n",
      "Media de amigos: 19.97\n",
      "Media de amigos de amigos: 46.00\n"
     ]
    }
   ],
   "source": [
    "print(f\"Comparación número de amigos con el promedio del número de amigos de los amigos (Versión 1):\")\n",
    "for file, adjacency_matrix in zip(files, matrices):\n",
    "    friends_degrees_average = friends_average(adjacency_matrix)\n",
    "    nodes_degrees_avg = adjacency_matrix.sum(axis=1).mean()\n",
    "    print(f\"{file}:\")\n",
    "    print(f\"Media de amigos: {nodes_degrees_avg:0.2f}\")\n",
    "    print(f\"Media de amigos de amigos: {friends_degrees_average:0.2f}\")"
   ]
  },
  {
   "attachments": {},
   "cell_type": "markdown",
   "metadata": {},
   "source": [
    "Mirando el promedio del número de amigos de los amigos de cada nodo, vemos que todas las redes cumplen la paradoja\n",
    "de la amistad, incluidas las de juguete. Son de especial interés las redes de Twitter y Facebook, ya que son redes\n",
    "reales. En ellas vemos que la media de los amigos de los amigos de cada nodo es muy superior a la media de los amigos.\n",
    "\n",
    "En la red de Erdös-Rényi, vemos que la media de los amigos de los amigos de cada nodo es muy similar a la media de los\n",
    "amigos de cada nodo. Esto se debe a que las conexiones en esta red son totalmente aleatorias.\n",
    "\n",
    "Y en la red de Barabási-Albert, vemos que se cumple claramente también ya que las conexiones en esta red se hacen en base\n",
    "a la cantidad de conexiones que tiene cada nodo."
   ]
  },
  {
   "cell_type": "code",
   "execution_count": 228,
   "metadata": {},
   "outputs": [
    {
     "name": "stdout",
     "output_type": "stream",
     "text": [
      "Comparación número de amigos con el promedio del número de amigos de los amigos (Versión 2):\n",
      "toy1.csv:\n",
      "Media de amigos: 2.50\n",
      "Media de amigos de amigos: 2.67\n",
      "toy2.csv:\n",
      "Media de amigos: 3.56\n",
      "Media de amigos de amigos: 4.48\n",
      "toy3.csv:\n",
      "Media de amigos: 2.67\n",
      "Media de amigos de amigos: 2.85\n",
      "twitter.csv:\n",
      "Media de amigos: 92.21\n",
      "Media de amigos de amigos: 237.11\n",
      "facebook_combined.txt:\n",
      "Media de amigos: 43.69\n",
      "Media de amigos de amigos: 105.55\n",
      "erdos.csv:\n",
      "Media de amigos: 400.14\n",
      "Media de amigos de amigos: 401.04\n",
      "barabasi.csv:\n",
      "Media de amigos: 19.97\n",
      "Media de amigos de amigos: 47.39\n"
     ]
    }
   ],
   "source": [
    "print(f\"Comparación número de amigos con el promedio del número de amigos de los amigos (Versión 2):\")\n",
    "for file, adjacency_matrix in zip(files, matrices):\n",
    "    friends_degrees_average = friends_average_v2(adjacency_matrix)\n",
    "    nodes_degrees_avg = adjacency_matrix.sum(axis=1).mean()\n",
    "    print(f\"{file}:\")\n",
    "    print(f\"Media de amigos: {nodes_degrees_avg:0.2f}\")\n",
    "    print(f\"Media de amigos de amigos: {friends_degrees_average:0.2f}\")"
   ]
  },
  {
   "attachments": {},
   "cell_type": "markdown",
   "metadata": {},
   "source": [
    "En esta segunda versión de la paradoja de la amistad, calculando la media de forma un poco distinta, vemos también que \n",
    "se cumple la paradoja de la amistad para todas las redes."
   ]
  },
  {
   "cell_type": "code",
   "execution_count": 229,
   "metadata": {},
   "outputs": [
    {
     "name": "stdout",
     "output_type": "stream",
     "text": [
      "Comparación mediana con media\n",
      "toy1.csv:\n",
      "Mediana de amigos: 2.50\n",
      "Media de amigos: 2.50\n",
      "toy2.csv:\n",
      "Mediana de amigos: 3.00\n",
      "Media de amigos: 3.56\n",
      "toy3.csv:\n",
      "Mediana de amigos: 3.00\n",
      "Media de amigos: 2.67\n",
      "twitter.csv:\n",
      "Mediana de amigos: 58.00\n",
      "Media de amigos: 92.21\n",
      "facebook_combined.txt:\n",
      "Mediana de amigos: 25.00\n",
      "Media de amigos: 43.69\n",
      "erdos.csv:\n",
      "Mediana de amigos: 400.00\n",
      "Media de amigos: 400.14\n",
      "barabasi.csv:\n",
      "Mediana de amigos: 14.00\n",
      "Media de amigos: 19.97\n"
     ]
    }
   ],
   "source": [
    "print(f\"Comparación mediana con media\")\n",
    "for file, adjacency_matrix in zip(files, matrices):\n",
    "    nodes_degrees_avg = adjacency_matrix.sum(axis=1).mean()\n",
    "    nodes_degrees_median = np.median(adjacency_matrix.sum(axis=1))\n",
    "    print(f\"{file}:\")\n",
    "    print(f\"Mediana de amigos: {nodes_degrees_median:0.2f}\")\n",
    "    print(f\"Media de amigos: {nodes_degrees_avg:0.2f}\")"
   ]
  },
  {
   "attachments": {},
   "cell_type": "markdown",
   "metadata": {},
   "source": [
    "Por último, comparando la mediana de los grados con la media de los grados, vemos que la mediana es menor que la media \n",
    "en todas las redes, menos en la toy3, por lo que podemos concluir que también se cumple esta versión de la paradoja\n",
    "de la amistad."
   ]
  },
  {
   "attachments": {},
   "cell_type": "markdown",
   "metadata": {
    "id": "IzTje0viiM9I"
   },
   "source": [
    "### Explicación/documentación/imágenes generadas\n",
    "\n",
    "Todo el código, documentación y gráficas generadas se encuentran en las celdas anteriores.\n",
    "\n",
    "De este ejercicio podemos destacar que en las redes reales de Twitter y Facebook, la distribución de los grados de los \n",
    "nodos parece seguir una ley de potencias, o lo que es lo mismo, tiene una forma de long tail. Esto es algo que se\n",
    "espera en las redes reales, ya que en ellas hay muchos nodos con un grado bajo y pocos con un grado alto.\n",
    "\n",
    "También hemos comprobado que la paradoja de la amistad se cumple prácticamente siempre en las redes sociales."
   ]
  },
  {
   "cell_type": "markdown",
   "metadata": {
    "id": "DcxuclLwpaM-"
   },
   "source": [
    "## Ejercicio 6: Métricas (1.5pt)\n",
    "\n",
    "Se implementarán las siguientes métricas topológicas:\n",
    "\n",
    "* Coeficiente de **clustering de un usuario**.\n",
    "* **Arraigo** de un arco (o de un par de usuarios).\n",
    "* Coeficiente de **clustering de una red social**.\n",
    "* Coeficiente de **asortatividad** de grado de una red.\n",
    "\n",
    "Algunas indicaciones en forma de pregunta:\n",
    "\n",
    "* ¿Cómo obtener la red ego de un usuario en una sóla operación de *slicing* del array 2D de adyacencia?\n",
    "* ¿Cómo calcular la densidad de una red social en *una* sola operación sobre su matriz de adyacencia? \n",
    "* ¿Cómo obtener el solapamiento de los amigos de dos usuarios con una sola operación vectorial?\n",
    "* ¿Cómo obtener la unión de dos vecindarios de forma eficiente sabiendo su solapamiento?"
   ]
  },
  {
   "cell_type": "code",
   "execution_count": 230,
   "metadata": {
    "id": "e3uq565SpfSA",
    "tags": []
   },
   "outputs": [],
   "source": [
    "import pandas as pd\n",
    "import numpy as np\n",
    "from scipy.stats import rankdata\n",
    "import os.path\n",
    "import networkx as nx\n",
    "from matplotlib import pyplot as plt\n",
    "\n",
    "class UndirectedSocialNetwork:\n",
    "    #\n",
    "    # In order to spare you some routine coding, we provide this constructor for you, \n",
    "    # that builds the basic structures you need to implement your metrics: the network \n",
    "    # adjacency matrix, the uid <--> uiidx back and forth mappings, and the number of edges.\n",
    "    #\n",
    "    # For your purposes you don't need to go into the implementation details or fully\n",
    "    # understand every step how they are built -- you just need to use the  provided matrix \n",
    "    # and id mapping structure.\n",
    "    #\n",
    "    def __init__(self, file, sep=','):\n",
    "        self.file=file\n",
    "        edges = pd.read_csv(file, names=['u', 'v'], delimiter=sep)\n",
    "        edges['r'] = np.ones(len(edges))\n",
    "\n",
    "        # Take the union of uids, as there may be users who only appear in one data frame column and not the other.\n",
    "        us = edges.u.unique()\n",
    "        vs = edges.v.unique()\n",
    "        self.uids = np.union1d(us, vs)\n",
    "        self.uidxs = {u:j for j, u in enumerate(self.uids)}\n",
    "        \n",
    "        # Add dummy columns (with r=0) so that all userids appear in both data frame columns (otherwise they'd fail\n",
    "        # to have a row or column in the adjacency matrix). \n",
    "        udiff = np.setdiff1d(us, vs)\n",
    "        vdiff = np.setdiff1d(vs, us)\n",
    "        edges = pd.concat([edges, pd.DataFrame({'u': vdiff, 'v': np.full(len(vdiff), us[0]), 'r': np.zeros(len(vdiff))})])\n",
    "        edges = pd.concat([edges, pd.DataFrame({'u': np.full(len(udiff), vs[0]), 'v': udiff, 'r': np.zeros(len(udiff))})])\n",
    "        \n",
    "        # Get adjacency matrix.\n",
    "        edges = edges.pivot(index='u', columns='v', values='r')\n",
    "        self.m = edges.fillna(0).to_numpy(dtype=np.bool_)\n",
    "        # Make the adjacency matrix symmetric for an undirected network.\n",
    "        self.m = np.logical_or(self.m, self.m.T).astype(np.float32)\n",
    "        # We only count the edges now in case the network file contained reciprocal edges for a directed network,\n",
    "        # in which case we ignored the edge direction, while the csv file contained more rows than the number of\n",
    "        # undirected edges.\n",
    "        self._nedges = self.m.sum()/2\n",
    "\n",
    "    def matrix(self):\n",
    "        return self.m\n",
    "\n",
    "    def nusers(self):\n",
    "        return len(self.uids)\n",
    "    \n",
    "    def nedges(self):\n",
    "        return self._nedges\n",
    "\n",
    "    def uid_to_uidx(self, uid):\n",
    "        return self.uidxs[uid]\n",
    "\n",
    "    # uidx can be an int of an array of ints.\n",
    "    def uidx_to_uid(self, uidx):\n",
    "        return self.uids[uidx]\n",
    "\n",
    "    def _friends(self, uidx):\n",
    "        return self.m[uidx].nonzero()[0]\n",
    "    \n",
    "    #\n",
    "    # For debugging purposes.\n",
    "    #\n",
    "    \n",
    "    def degree(self, uid):\n",
    "        uidx = self.uid_to_uidx(uid)\n",
    "        return self.m[uidx].sum()\n",
    "\n",
    "    def friends(self, uid):\n",
    "        return [self.uidx_to_uid(uidx) for uidx in self._friends(self.uid_to_uidx(uid))]\n",
    "\n",
    "    #\n",
    "    # Network metrics.\n",
    "    #\n",
    "\n",
    "    # Global computation of the clustering coefficient (micro-average).\n",
    "    def clustering(self):\n",
    "        m = self.matrix()\n",
    "\n",
    "        # Matriz de adyacencia al cuadrado nos da el numero de caminos de longitud 2 entre los\n",
    "        # nodos i y j en la posicion (i,j) de la matriz.\n",
    "        m2 = m @ m\n",
    "\n",
    "        # Matriz de adyacencia al cubo nos da el numero de caminos de longitud 3 entre los\n",
    "        # nodos i y j en la posicion (i,j) de la matriz.\n",
    "        m3 = m2 @ m\n",
    "\n",
    "        # Los caminos de longitud 3 que empiezan en nodo i y acaban en i son los triangulos.\n",
    "        # Por tanto, la diagonal de la matriz m3 nos da el numero de triangulos que pasan por\n",
    "        # cada nodo. Como cada triangulo tiene 3 nodos, dividimos por 3, ya que estamos contando\n",
    "        # los caminos cerrados de longitud 3 para cada uno de los nodos del triangulo. Y como cada\n",
    "        # nodo del triangulo puede ir en 2 direcciones, dividimos por 2.\n",
    "        num_triangles = m3.diagonal().sum()/6\n",
    "\n",
    "        # Una tripleta es un camino de longitud 2 que empieza en i y acaba en j, i != j.\n",
    "        # Por eso, ponemos la diagonal a 0, porque no queremos contar los caminos que son\n",
    "        # ir de un nodo a otro, y volver al mismo nodo. Al final dividimos por 2 para no \n",
    "        # contar dos veces cada camino.\n",
    "        np.fill_diagonal(m2, 0)\n",
    "        num_triplets = m2.sum()\n",
    "        num_triplets = (num_triplets) / 2\n",
    "\n",
    "        return 3*num_triangles / num_triplets\n",
    "\n",
    "    def assortativity(self):\n",
    "        # Código aquí...\n",
    "        pass\n",
    "\n",
    "    #\n",
    "    # User metrics.\n",
    "    #\n",
    "    \n",
    "    # Network clustering coefficient as the average clustering coefficient of users.\n",
    "    def avg_clustering(self):\n",
    "        return UserMetric(self, np.array([self.user_clustering(uidx) for uidx in range(self.nusers())]))\n",
    "\n",
    "    # Clustering coefficient of individual user - just needed for the average CC.\n",
    "    def user_clustering(self, uidx):\n",
    "        # Obtenemos los índices de los amigos de uidx\n",
    "        friends = self._friends(uidx)\n",
    "        if len(friends) < 2:\n",
    "            return 0\n",
    "        else:\n",
    "            # Obtenemos la submatriz con la red ego\n",
    "            ego = self.matrix()[friends][:, friends]\n",
    "\n",
    "            # Número de conexiones en la red ego. Dividimos entre dos para no contar dos veces cada conexión.\n",
    "            num_connections_in_ego = ego.sum() / 2\n",
    "\n",
    "            num_possible_connections = len(friends) * (len(friends) - 1) / 2\n",
    "\n",
    "            return num_connections_in_ego / num_possible_connections\n",
    "    #\n",
    "    # Edge metrics.\n",
    "    #\n",
    "\n",
    "    def embeddedness(self):\n",
    "        m = self.matrix()\n",
    "\n",
    "        # Matriz con el número de elementos en la interseccion\n",
    "        intersections = m @ m.T\n",
    "\n",
    "        # Unions es una matriz con el número de elementos en la unión\n",
    "        degrees = m.sum(axis=1)\n",
    "\n",
    "        # El número de elementos en la unión es la suma de los grados de los nodos i y j,\n",
    "        # menos el número de elementos en la intersección.\n",
    "        unions = np.add.outer(degrees, degrees) - intersections\n",
    "\n",
    "        # Restamos 2*m para no tener en cuenta al elemento i y al elemento j, en el calculo de Jaccard.\n",
    "        unions = unions - 2 * m\n",
    "\n",
    "        # Matriz con 1 en las posiciones donde los elementos i y j tienen ambos grado 1.\n",
    "        aux = np.logical_and(degrees == 1, degrees[:, np.newaxis] == 1)\n",
    "\n",
    "        # En los elementos ij donde ambos tienen grado 1, la intersección es 0 y la unión es 2,\n",
    "        # y al haber restado 2*m, nos queda un 0, por eso sumamos 1.\n",
    "        # No importa que sumemos un 1 de más en los elementos donde ambos tienen grado 1 pero no están conectados,\n",
    "        # porque en la matriz de intersecciones, en esos elementos ya tenemos un 0, lo cual no afectará al resultado\n",
    "        # final del arraigo.\n",
    "        unions = unions + aux\n",
    "\n",
    "        # El arraigo de un elemento consigo mismo es 1\n",
    "        np.fill_diagonal(intersections, 1)\n",
    "        np.fill_diagonal(unions, 1)\n",
    "\n",
    "        return EdgeMetric(self, intersections / unions)\n",
    "\n",
    "#\n",
    "# Auxiliary classes to hold and return values of user metrics and edge metrics.\n",
    "#\n",
    "    \n",
    "# Aiming to spare you some routine coding, the purpose of these two classes is \n",
    "# to hold the metric values through their constructur, and return the mean and \n",
    "# ranked values of user and edge metrics when requested. \n",
    "#\n",
    "# For your purposes you don't need to go into the implementation details, or\n",
    "# understand every step of these functions -- you just need to use the simple\n",
    "# API they provide.\n",
    "    \n",
    "class UserMetric:\n",
    "    def __init__(self, network, values):\n",
    "        self.network = network\n",
    "        self._values = values\n",
    "        self.sorted_uidx = (rankdata(-values, method='ordinal')).argsort()\n",
    "\n",
    "    # Return the mean value across all users in the network.\n",
    "    def mean(self):\n",
    "        return self._values.mean()\n",
    "\n",
    "    # Return the metric value for one user.\n",
    "    def value(self, uid):\n",
    "        return self._values[self.network.uid_to_uidx(uid)]\n",
    "\n",
    "    # Return a dictionary with the top n users in the metric.\n",
    "    def values(self, n):\n",
    "        return {l:fround(v, 4) for l, v in zip(self.network.uids[self.sorted_uidx[:n]],\n",
    "                                                   self._values[self.sorted_uidx[:n]])}\n",
    "\n",
    "class EdgeMetric:\n",
    "    def __init__(self, network, values):\n",
    "        self.network = network\n",
    "        values[np.tril_indices(values.shape[0])] = np.iinfo(int).min\n",
    "        self._values = values\n",
    "        tri = int(network.nusers() * (network.nusers() - 1) / 2)\n",
    "        self.order = np.dstack(np.unravel_index(np.argsort(rankdata(-values.ravel(), method='ordinal')), values.shape))[0][:tri]\n",
    "        self.ordered_values = np.array([self._values[e[0],e[1]] for e in self.order])\n",
    "\n",
    "    # Return the mean value across all edges in the network.\n",
    "    def mean(self):\n",
    "        return self.ordered_values.mean()\n",
    "\n",
    "    # Return the metric value for one edge (the edge may or may not exist).\n",
    "    def value(self, uid, vid):\n",
    "        uidx, vidx = self.network.uid_to_uidx(uid), self.network.uid_to_uidx(vid)\n",
    "        return self._values[min(uidx, vidx), max(uidx, vidx)]\n",
    "\n",
    "    # Return a dictionary with the top n edges in the metric.\n",
    "    def values(self, n):\n",
    "        n = min(n, len(self.order))\n",
    "        return {tuple(self.network.uidx_to_uid(e)):fround(self._values[e[0],e[1]], 4) for e in self.order[:n]}\n",
    "    \n",
    "# Just for pretty-printing numbers.\n",
    "def fround(x, n=20):\n",
    "    r = round(x)\n",
    "    rn = round(x, n)\n",
    "    return r if rn == r else rn"
   ]
  },
  {
   "cell_type": "markdown",
   "metadata": {
    "id": "-d4hWTstiOIT",
    "tags": []
   },
   "source": [
    "### Explicación/documentación\n",
    "\n",
    "(por hacer)\n",
    "\n",
    "Además, se documentarán en la memoria los tiempos de ejecución de las métricas en las redes de Facebook y Twitter, en una tabla con la siguiente estructura:\n",
    "\n",
    "||Facebook|Twitter\n",
    "|-|:-:|:-:\n",
    "|Coef. clustering usuario|...|... \n",
    "|Embededness|...|...\n",
    "|Coef. clustering global|...|...\n",
    "|Asortatividad|...|..."
   ]
  },
  {
   "cell_type": "markdown",
   "metadata": {
    "id": "JPPWV7pepf85",
    "tags": []
   },
   "source": [
    "## Ejercicio 7: Ejercicio libre (fuera de puntuación)\n",
    "\n",
    "El estudiante desarrollará uno o varios métodos de análisis de redes a su propia elección. Se sugiere por ejemplo: \n",
    "\n",
    "* Implementación de métricas adicionales, tales como betweenness, closeness, distancia promedio, diámetro, modularidad, etc. (Para la modularidad, se necesitará definir una partición de los nodos &ndash; consultar con el profesor.)\n",
    "* Detección de comunidades y enlaces débiles.\n",
    "* Creación de modelos para la generación aleatoria de redes sociales (p.e. amigos de amigos, etc.).\n",
    "* Recomendación de contactos.\n",
    "\n",
    "Para este ejercicio deberá completarse la implementación de una función adicional `student_test()` ilustrando la ejecución de las métricas y algoritmos implementados. \n",
    "\n",
    "El software que se desarrolle se incluirá en la celda que sigue, y se documentarán en la memoria las pruebas realizadas y los resultados obtenidos. \n",
    "\n",
    "Este ejercicio se evaluará en base a la cantidad, calidad e interés del trabajo realizado."
   ]
  },
  {
   "cell_type": "code",
   "execution_count": 233,
   "metadata": {
    "id": "zg8MIMpipih1",
    "tags": []
   },
   "outputs": [],
   "source": [
    "# Implementación o implementaciones elegidas"
   ]
  },
  {
   "cell_type": "code",
   "execution_count": 234,
   "metadata": {
    "tags": []
   },
   "outputs": [],
   "source": [
    "def student_test(data):\n",
    "    pass\n",
    "    # Código aquí..."
   ]
  },
  {
   "cell_type": "markdown",
   "metadata": {
    "id": "H1gukouXiPV3",
    "tags": []
   },
   "source": [
    "### Explicación/documentación\n",
    "\n",
    "(por hacer)"
   ]
  },
  {
   "cell_type": "markdown",
   "metadata": {
    "id": "8zXhPtFzon72"
   },
   "source": [
    "## Visualización de las redes pequeñas de prueba\n",
    "\n",
    "Descarga los ficheros del curso de Moodle y coloca sus contenidos en una carpeta **networks** en el mismo directorio que este *notebook*. Visualizar las redes de prueba facilita las comprobaciones que puedan ser necesarias durante la depuración del código."
   ]
  },
  {
   "cell_type": "code",
   "execution_count": 235,
   "metadata": {},
   "outputs": [],
   "source": [
    "import pandas as pd\n",
    "import numpy as np\n",
    "from scipy.stats import rankdata\n",
    "import os.path\n",
    "import networkx as nx\n",
    "from matplotlib import pyplot as plt"
   ]
  },
  {
   "cell_type": "code",
   "execution_count": 236,
   "metadata": {},
   "outputs": [
    {
     "name": "stdout",
     "output_type": "stream",
     "text": [
      "networks/toy1.html\n",
      "networks/toy2.html\n",
      "networks/toy3.html\n"
     ]
    },
    {
     "data": {
      "image/png": "[encoded data removed]",
      "text/plain": [
       "<Figure size 1440x432 with 3 Axes>"
      ]
     },
     "metadata": {},
     "output_type": "display_data"
    }
   ],
   "source": [
    "from pyvis.network import Network\n",
    "\n",
    "def plot(file, ax=None, sep=','):\n",
    "    g = nx.from_pandas_edgelist(pd.read_csv(file, names=['u', 'v'], delimiter=sep), \n",
    "                                source='u', target='v')\n",
    "    options = {\n",
    "        'node_size': 750, 'node_color': 'mediumblue', 'edgecolors': \"black\",\n",
    "        'font_color': 'white', 'font_weight': 'bold', 'font_size': 13\n",
    "    }\n",
    "    if not ax: \n",
    "        f = plt.figure()\n",
    "        f.set_size_inches(3, 3)\n",
    "        \n",
    "    # Plot the graphs in the output cell.\n",
    "    nx.draw(g, ax=ax, with_labels=True, **options)\n",
    "    filename = os.path.split(file)[1]\n",
    "    (ax if ax else plt.gca()).set_title(filename, fontsize=15)\n",
    "    \n",
    "    # Plot the graphs into interactive HTML files.\n",
    "    net = Network(notebook=True, cdn_resources='remote')\n",
    "    net.from_nx(g)\n",
    "    net.show(file.split('.')[0] + '.html')\n",
    "    \n",
    "\n",
    "f, (ax1, ax2, ax3) = plt.subplots(1, 3)\n",
    "f.set_size_inches(20, 6)\n",
    "plot('networks/toy1.csv', ax1)\n",
    "plot('networks/toy2.csv', ax2)\n",
    "plot('networks/toy3.csv', ax3)"
   ]
  },
  {
   "cell_type": "markdown",
   "metadata": {
    "id": "8zXhPtFzon72"
   },
   "source": [
    "## Celda de prueba"
   ]
  },
  {
   "cell_type": "code",
   "execution_count": 237,
   "metadata": {
    "id": "fTdDacCRn0u6"
   },
   "outputs": [
    {
     "name": "stdout",
     "output_type": "stream",
     "text": [
      "==================================================\n",
      "Testing networks/toy1.csv network\n",
      "Network matrix takes 0.0 MB in RAM\n",
      "4 users and 5.0 contact relationships\n",
      "User a has 3.0 contacts:  ['b', 'c', 'd']\n",
      "-------------------------\n",
      "User clustering coefficient (top 5): {'b': 1, 'd': 1, 'a': 0.6667, 'c': 0.6667}\n",
      "  CC(a) =              0.6666666666666666\n",
      "Network clustering coefficient:\n",
      "  Macro-average =      0.8333333333333333\n",
      "\u001b[34m  --> elapsed time: 0:00:00 <--\u001b[0m\n",
      "  Micro-average =      0.75\n",
      "\u001b[34m  --> elapsed time: 0:00:00 <--\u001b[0m\n",
      "Edge embeddedness (top 5): {('a', 'c'): 1, ('b', 'd'): 1, ('a', 'b'): 0.5, ('a', 'd'): 0.5, ('b', 'c'): 0.5}\n",
      "  Embeddedness(a, b) = 0.5\n",
      "  Average =            0.6666666865348816\n",
      "\u001b[34m  --> elapsed time: 0:00:00 <--\u001b[0m\n",
      "==================================================\n",
      "Testing networks/toy2.csv network\n",
      "Network matrix takes 0.0 MB in RAM\n",
      "9 users and 16.0 contact relationships\n",
      "User 5 has 3.0 contacts:  [3, 4, 6]\n",
      "-------------------------\n",
      "User clustering coefficient (top 5): {1: 0.6667, 2: 0.6667, 4: 0.6667, 5: 0.6667, 6: 0.6667}\n",
      "  CC(5) =              0.6666666666666666\n",
      "Network clustering coefficient:\n",
      "  Macro-average =      0.6243386243386244\n",
      "\u001b[34m  --> elapsed time: 0:00:00 <--\u001b[0m\n",
      "  Micro-average =      0.46153846153846156\n",
      "\u001b[34m  --> elapsed time: 0:00:00 <--\u001b[0m\n",
      "Edge embeddedness (top 5): {(1, 4): 0.5, (1, 8): 0.5, (2, 5): 0.5, (2, 9): 0.5, (4, 6): 0.5}\n",
      "  Embeddedness(5, 6) = 0.3333333432674408\n",
      "  Average =            0.3153439164161682\n",
      "\u001b[34m  --> elapsed time: 0:00:00 <--\u001b[0m\n",
      "==================================================\n",
      "Testing networks/toy3.csv network\n",
      "Network matrix takes 0.0 MB in RAM\n",
      "12 users and 16.0 contact relationships\n",
      "User 6 has 4.0 contacts:  [5, 7, 8, 9]\n",
      "-------------------------\n",
      "User clustering coefficient (top 5): {1: 1, 2: 1, 3: 1, 7: 1, 9: 1}\n",
      "  CC(6) =              0.3333333333333333\n",
      "Network clustering coefficient:\n",
      "  Macro-average =      0.6666666666666666\n",
      "\u001b[34m  --> elapsed time: 0:00:00 <--\u001b[0m\n",
      "  Micro-average =      0.5172413793103449\n",
      "\u001b[34m  --> elapsed time: 0:00:00 <--\u001b[0m\n",
      "Edge embeddedness (top 5): {(2, 3): 1, (7, 9): 1, (11, 12): 1, (1, 10): 0.6667, (6, 8): 0.6667}\n",
      "  Embeddedness(6, 4) = 0.1666666716337204\n",
      "  Average =            0.16363637149333954\n",
      "\u001b[34m  --> elapsed time: 0:00:00 <--\u001b[0m\n",
      "==================================================\n",
      "Testing networks/facebook_combined.txt network\n",
      "Network matrix takes 62.2 MB in RAM\n",
      "4,039 users and 88,234.0 contact relationships\n",
      "User 9 has 57.0 contacts:  [0, 3, 21, 25, 26, 30, 56, 66, 67, 69, 72, 75, 79, 85, 105, 113, 119, 122, 128, 133, 134, 141, 142, 148, 156, 161, 169, 170, 176, 185, 186, 188, 199, 200, 203, 224, 231, 232, 252, 258, 271, 272, 276, 277, 280, 285, 291, 295, 297, 304, 315, 322, 323, 329, 334, 341, 342]\n",
      "-------------------------\n",
      "User clustering coefficient (top 5): {32: 1, 33: 1, 35: 1, 42: 1, 44: 1}\n",
      "  CC(9) =              0.39724310776942356\n",
      "Network clustering coefficient:\n",
      "  Macro-average =      0.6055467186200862\n",
      "\u001b[34m  --> elapsed time: 0:00:01 <--\u001b[0m\n",
      "  Micro-average =      0.5191743332795125\n",
      "\u001b[34m  --> elapsed time: 0:00:05 <--\u001b[0m\n",
      "Edge embeddedness (top 5): {(4, 181): 1, (4, 275): 1, (6, 147): 1, (8, 91): 1, (8, 259): 1}\n",
      "  Embeddedness(9, 3) = 0.22033898532390594\n",
      "  Average =            0.011249924078583717\n",
      "\u001b[34m  --> elapsed time: 0:00:10 <--\u001b[0m\n",
      "==================================================\n",
      "Testing networks/twitter.csv network\n",
      "Network matrix takes 383.7 MB in RAM\n",
      "10,029 users and 462,399.0 contact relationships\n",
      "User el_pais has 1,899.0 contacts:  ['1001Medios', '101kmsolidarios', '112Asturias', '112PcivilMieres', '112cmadrid', '90mn90d', 'A3Noticias', 'ABBIOTICS', 'ACCC_', 'ADD_UC3M', 'ADPrietoPYC', 'AEM_112', 'AGalan7', 'AJEValencia', 'AJEnglish', 'AMPAPrincipeAst', 'AMPA_Verbena', 'APDasociacion', 'APNABI', 'ARCECAC', 'ARREBOLARP', 'ASACAMV', 'ASSIRIANE', 'AS_CarmenColino', 'AS_Relano', 'ATrullols', 'AUTISMO_ESPANA', 'A_Valenzuela', 'A__Velazquez', 'Abernardo', 'AberronchoTV', 'Acfernandez_es', 'ActualidadU', 'AdaColau', 'Adif_es', 'AdorianZ', 'AdriaPunti', 'AdrianaRey83', 'Aemet_Esp', 'AfectadoBSCH012', 'AgCastellote', 'AgenciaAtlas', 'AgendadeEmpresa', 'Aicespain', 'Aidamendez3', 'AjebaskAlava', 'AjoMicropoetisa', 'AlSisam', 'AlbaCP26', 'AlbaHerranzdln', 'AlbertMonteys', 'Albert_Rivera', 'AlbertoGomezB', 'AlbertoNeff', 'Alberto_pg13', 'AlecEvan', 'AleixEspargaro', 'AleixSalo', 'AlertaMeteo', 'AlexODogherty', 'Alex_candal', 'AlexdelaMora', 'Alexrs95', 'Alexserramar', 'Alfonso_Egea', 'AlgeMarroncelli', 'Alibaimor', 'Alibcia', 'AlicRuiz', 'Aliciaesm', 'AllBranKellogs', 'AlmuConil', 'AlodiaBlanco', 'AlvaroUribeVel', 'Alvaro_DMC', 'Alvaro_Zancajo', 'Alvy_Singer', 'AmayaConde', 'AmayaSanfabio', 'Ambulante', 'AmericaGovEsp', 'AnaUsle', 'Ana_CaGi', 'AndresG_Dorado', 'AndresPerezGil', 'AngelMSastre', 'AngelMoyatv', 'AngelaAlcover', 'AngelesBlancoTV', 'AnitaAyanz', 'AntonioCamunas', 'AntonioJplinan', 'AntonioMiguelC', 'AraReina', 'Aran76', 'ArandaElviro', 'Arantza_Lopez', 'ArbezRM', 'ArgeliaQueralt', 'Ariadnasue', 'ArodSpainMedia', 'Arqtecturizada', 'ArtaMallorca', 'ArteMexico', 'AsernaS', 'Azahara_CB', 'BANASTERO', 'BBCBreaking', 'BCastrillo', 'BIOVAL_es', 'BNE_directora', 'BVP990', 'B_cuevas', 'Barajas_el', 'BarbaraOteiza', 'Barbara_RuizP', 'Barbaraalpuente', 'Barbijaputa', 'Barksdale666', 'Batmanchuca', 'Bealonso', 'Beatriz_gc', 'BeitaArma', 'BelFebrer', 'BelenHerreros', 'BelenXestal', 'Berasategui', 'Berlustinho', 'Betinaserrano', 'BiblioItesmAGS', 'BiblioUBA', 'BibliotecaDRH', 'BibliotecaEEA', 'Biblioteca_UNED', 'BibliotecadStgo', 'BigBangCiencia', 'Biqfr_CSIC', 'BitDefenderES', 'Blan_10', 'BlancaPombo', 'BobPopVeTV', 'BolsacomTrading', 'BomberosAstur', 'Borja_Pardo', 'Bortibort', 'BrandsofSpain', 'BreakingNews', 'BrujulaOndaCero', 'BrunaHusky', 'BrunoCendon', 'BuenasNochesBFN', 'CCorcho', 'CEIPausias', 'CENIEH', 'CERSIAEmpresa', 'CHAROESG', 'CMU_Isabel', 'CNNEE', 'COEPAlicante', 'CONGREGA_BB', 'CPSantiso', 'Cabanillas1165', 'Cabeza_Viviente', 'Cajonenfermeria', 'Caleonvi', 'Calvoroy', 'Caminanteloc', 'Cansaliebres_', 'Carbonellsg', 'Carlapvera', 'Carles5puyol', 'Carliss96', 'CarlosChapinal', 'CarlosDiezSan', 'Carlos_Latre', 'CarlottaBosch', 'CarmeChaparro', 'CarmelaRios', 'CarmenAngos', 'CarmenSerrana', 'CarmendelRiego', 'CarodRoviraJLl', 'CarvinKlein', 'CasaCiencia_Sev', 'Casal', 'Catatonic_Toy', 'CepymeAlicante', 'Charlymoya', 'ChefCharlyCook', 'ChusHeredia', 'Cincodiascom', 'CinesRenoir', 'CinetecaMadrid', 'CiudadanoPerro', 'Clar_Loves', 'Clara19917', 'ClaraMattaldi', 'ClaudFrau', 'ClaudiaFernn', 'ColegioEmeritos', 'ComunicatingGG', 'ComunidadMadrid', 'ConCienciaUC3M', 'ConchaGuerra', 'CondeDeLaFere', 'Copedelasierra', 'Coque_Malla', 'Cottes_Group', 'CrespoAranda', 'CrisBeltran', 'Cris_Puig', 'CristinaGlez_tv', 'CristinaOnega', 'Cristinahermo', 'CronicaNorte', 'CruzRojaMadrid', 'Cuellar24', 'CuleDeshauciado', 'CulturaBiotec', 'CulturaUNAM', 'Cupset', 'DBrownier', 'DChicharro', 'DJM_9', 'DSantosMunoz', 'DYAnoticias', 'Damianmolla', 'DaniCasGut', 'DaniPedrosa', 'DaniSordo', 'Dani_sexposito', 'DanielaFeblesM', 'DavidCardona1', 'DavidTaguas', 'David_Noriega', 'DazHerrero', 'DdeDuro', 'DebatAlRojoVivo', 'DeborahFdezTv', 'Declaracion', 'Defensagob', 'Deloitte_Spain', 'DemosUC3M', 'Des_bordes', 'DesayunoDudas', 'DianaRPretel', 'DianaSanBenito', 'DiegOstiaputa', 'Diegohv101', 'DigiLivingUC3M', 'DircomNews', 'DiscosdeKirlian', 'Divulgameteo', 'DoriToribio_Rne', 'EMenlluita', 'ENAEbusiness', 'ENEmuseo', 'EOILorca', 'EOR4444', 'EPEconomia', 'EPMadrid', 'ERodrigalvarez', 'ESNI_Cursos', 'ETSIMINAS_UPM', 'Earmenteros', 'EcoCote', 'EcoEFC', 'EdicionesPaidos', 'EditoresDTebeos', 'EditorialLALEY', 'EduMadina', 'EduPolo', 'EduardOrtegaNO', 'EduardoNavarro9', 'EdufeBlanco', 'Efgtotal', 'Egrett', 'ElHuffPost', 'ElToubabMusic', 'El_Hormiguero', 'ElenaHeBe', 'ElenaTdebon', 'Elena_NE', 'Elena__Perez', 'Eliana_Fuentes', 'Elillopez', 'ElogioLocura', 'ElviraLindo', 'Emergencias112', 'Enawebseriada', 'Enplanas', 'EnriMR', 'Enric_Hernandez', 'Equo', 'Erratanaturae', 'EspejoPublico', 'EspeonzaAguirre', 'EsppeonzAguirre', 'Esri_Spain', 'EsteffiE_tv', 'EstelaCiria', 'Esterresani1', 'EstherVaqueroH', 'EstrellaDammCat', 'EugeniaToledo', 'Eva_SuarezM', 'EvieMmm', 'FJBARROSO1973', 'FJavierAyuso', 'FT', 'FVallespin', 'Farodevigo', 'FeFe_PRC', 'FedMadMontana', 'Felisuco_', 'Felixzizou', 'FerGarats', 'FerUve', 'FerValmaseda', 'Ferdy89', 'FernanLopezMesa', 'FernanSQL', 'Fernando_Llano_', 'Ferrero_trp', 'Fgarea', 'Flofdez', 'FonsecaFj', 'Forestalx', 'ForoNuclear', 'Fotlipou', 'FranPatino', 'Fran_Sarrio', 'Franelarquero', 'Frank_Blanco', 'Fund451', 'FundacionLeer', 'GVazquezNatalia', 'Gabri_Allin', 'Gabrielhdez_', 'Gafasaos', 'GalderReguera', 'GalianaLM', 'GaliciaCowork', 'GallizoMercedes', 'GamaVilallonga', 'GarciaAller', 'GarrinchaCF', 'GemaMorcillo', 'GemaNievesR', 'Gemmanf', 'Georgiana_30', 'GerryDawes', 'Gessamina', 'Gfouce', 'GiampaManfreda', 'GibsonSpain', 'Gloria_Lozano', 'Gnescudero', 'GonzaloFanjul', 'Gonzalozt', 'GoodwillComunic', 'Gorka_Maneiro', 'Goyojimenez', 'GuCampus', 'Guardiacivil062', 'Guardiolato', 'Guerreando', 'GuilleMarley', 'Guille_Piquero', 'GuillemBalague', 'Guillemmartnez', 'GuillermOngayo', 'Gurusblog', 'HPEspana', 'HaidoRoLa', 'Harley66', 'Herzogoff', 'HoyporHoySER', 'Hyperher', 'IAB_Spain', 'IB_Franklin', 'ICYT_UC3M', 'IEbusiness', 'INGeBOOK', 'IPJLuc3m', 'IP_Palacios', 'ITechPreneur', 'IbercampusES', 'IgNacto87', 'IgnacioCampoy1', 'InakiUrrutia', 'IndraCompany', 'Ingenieria_Esp', 'InigoNavarro', 'InmaNiebla', 'Innobasque', 'InstCervantes', 'Instint_tv', 'InterAravaca', 'Interviu_', 'IosudelaTorre', 'Iplari', 'Ireee_DDiego', 'Irene_montala_', 'IrnMM', 'IroniaMan', 'IsaGalvache', 'IsabelUrkijo', 'IsaboIsica', 'IsaiasLafuente', 'Itxaso_TVAE', 'IvanMR10', 'IzaskunUB', 'JALGUERRERO', 'JCNyst', 'JCarbs_', 'JCarlosCrespo', 'JGALLEGOonfire', 'JJ_Agredano', 'JLSaezR', 'JMMartin37', 'JOAQUINMI101', 'JRIturriaga', 'JTorres_86', 'Jack_skr', 'JaimeAnguloIbar', 'JaimerlG', 'JamalDols', 'JandroTIC', 'Januky1', 'Jason_Voorhess', 'JaumeBarbera', 'Jav_Savio', 'JaviBanuelos', 'JaviGundin', 'Javi_Martz', 'JavierBlancoH', 'JavierDoradoP', 'JavierGarcia1', 'JavierJaenB', 'JavierLoMe', 'JavierMorenoIA', 'Javimartin1411', 'JavoCaste', 'JavyRock69', 'JbyChepa', 'JennySantos1985', 'JesusCalleja', 'JesusCintora', 'JesusEncinar', 'JesusGoni', 'Jesus_Servulo', 'Jiwert', 'JordiCervera', 'Jordisk', 'JorgeAlacid1', 'JorgeFabraU', 'JoseMendoza24', 'JoseOrlando_Mx', 'Josemi_Carmona', 'JotaAbril', 'JpDemocracia', 'Jqronsmans', 'Jr_Frankenstein', 'JuanCruzTuiter', 'JuanGomezJurado', 'JuanJoseMateo', 'JuanJoseMillas', 'JuanMariBeltran', 'Juanita8ac', 'JuanmaLemkus', 'Juanmafilms', 'JuanvilHerrera', 'JulianAvila1', 'JulianSiniestro', 'JulioSomoano', 'JulioTejedorB', 'Jurismario', 'Kalstodon', 'Karmentxumarin', 'Kikekuc', 'KiraMiro', 'Klarilis', 'KnowMediaLab', 'KooKooee', 'Korrecamino', 'LA_PAH', 'LQDVI', 'LaCostaComunica', 'LaEtxebarria', 'LaIguanaClub', 'LaRedInnova', 'LaVanguardia', 'La_Coronel', 'La_SER', 'LahuSimon', 'Lara_TVAE', 'Largocreatura', 'LarrySion', 'Lau3L', 'Lau_Llorens', 'LauraGAgustin', 'LauraGomezVega', 'Laura_AlonsoC', 'Laura_Pedro', 'Lauragvaldes', 'LawyersforHR', 'LeaLA2013', 'LeePorGusto', 'Leopoldo_md', 'LeticiaCimarra', 'LeticiaIG', 'Letras_Libres', 'LibreriasCEGAL', 'LidiaPitzalis', 'Lilamegustanlas', 'LilloMery', 'Lmascaroserra', 'LolaMaestre', 'LoloViejo', 'Lopezmonis', 'LordkuskuRosa', 'LosGenoveses', 'LosPajarosPican', 'LosPlanetasGr', 'LouisJenrel1', 'LourdesDiazL', 'LourdesSanz', 'LoydaDi', 'LuMartinBCN', 'Luca_Bocci', 'LuciaDammert', 'Luciaaoscuras', 'Lupe_', 'MAKELISMOS', 'MAdelaCruzLeiva', 'MEugeniaRPalop', 'MIGUELCOSTAS', 'MMartelMartel', 'MMorenoMartin', 'MONESTIR2000', 'MONTSESAGUSTINO', 'MPozosierra', 'MRomanticismo', 'MSDynamicsSpain', 'MSF_espana', 'MadridExcelente', 'MagdaSuperLopez', 'MagnoRaul', 'MainatJM', 'MajoseRodri', 'MalenaLorenzo3', 'MaletadePortbou', 'Malviviendo', 'MananaMadrid', 'Mangeliso', 'Manu_Galera', 'Manuel_Huerga', 'MarcCrehuet', 'MarcoTiniccio', 'MariaComes', 'MariaEizaguirre', 'MariaLuisaMoreo', 'MariaPLaya', 'Maria_Burrell', 'Maria_Casas', 'MaribelMartnezM', 'MarinaVillar22', 'MartaCanelo', 'MartaG_novo', 'MartaJaumandreu', 'MartaMarti21', 'MartaNebot', 'Marta_Forns', 'Marta_mdb', 'MartinGuirado', 'MartinMilone', 'Martixxx9', 'MaryOje', 'MasaUCM', 'MasterMeDEA', 'MayteGmezMarcos', 'MenendezRNE', 'MerPascua', 'MerceJimenezG', 'MerceRovira', 'Mercederodrigue', 'Meritele', 'MeritxellAbril', 'MeryChow', 'MicttBIT', 'Migdia8tv', 'MiguelMorenatti', 'MiguelNoguera', 'MiguelRosaR', 'Miguel_An_Roman', 'Miguelgarciayun', 'MilenaMartinn', 'MirenM', 'MiriamReyes', 'Mivicmedia', 'ModernaDePueblo', 'MonicaCarrillo', 'Monicamtinez', 'MonsieurDLaTour', 'Monteroblue', 'MontseHuffPost', 'Montsllussa', 'MorenoVarela', 'Morenodelaplaya', 'Mrta_29', 'MunozEncinas', 'MuseeLouvre', 'MuseoGeominero', 'Mz_Elsa', 'NConcostrina', 'NYTimeskrugman', 'NachoSoto', 'Nacho_Hernando', 'NadalMiki', 'Naruedyoh', 'NatalyeCarbayo', 'NativelPreciado', 'NaturPictures', 'Naylavp', 'NekaneGoni', 'NewYorker', 'Nicohe1806', 'NievesCalvo', 'NikoStefanov13', 'Nikotxan', 'NoeliaBarcia', 'NoemiGaleraN', 'NuChaCa', 'NuriaVarela', 'Nuria_Rabanal', 'OLGAATDE', 'OLakas', 'ONUMujeres', 'OTRIUS', 'OctavioRojasMa1', 'Oftex', 'OndaCero_es', 'OsorioPd', 'OvejaAsesina', 'PCIVILGRANADA', 'PCMalaga', 'PEPSCR', 'PE_Espana', 'PPrendes', 'PTDelgado', 'Pabl0Fdez', 'PacoCenteno', 'PacojoSER', 'Paloma__Estrada', 'Palomero14', 'PamplonaLaura', 'Panchovarona', 'PatriciaDMartin', 'PauArenos', 'Paulovakia', 'PedroArmestre', 'PedroGmezMadrid', 'PepaBuenoHxH', 'Pepa_TVAE', 'PepeCastroClick', 'PereCullell', 'Perestupinya', 'PeriodicoHoy', 'PerisMencheta', 'Pevelasco', 'PhenomenaExp', 'PiedrahitaLuis', 'Pilarperezprz', 'Pitufollow', 'Planetadelibros', 'PleaseApp', 'PonsetiRadio', 'Portaltic', 'PotdePlomTeatre', 'PrensaAytoMeco', 'PresnoLinera', 'Profesoradmates', 'Proseus_Corp', 'Protecivilsctfe', 'ProyectoEmer', 'PtoLumbreras', 'PuriCausapi', 'PuyOria', 'Qmlva', 'QueLeer', 'Quijoteworld', 'QuoRevista', 'RAEinforma', 'RAPSUSKLEI1', 'RMORCUENDED', 'RMartin_7', 'RNRmadmaraton', 'RN_Burgos', 'ROBRESREDFORD', 'RSExuntagalicia', 'RV_Lucia', 'RamonJFlores', 'RapaCarballo', 'RaquelRR', 'Rarfid', 'RaulArevaloZ', 'RaulCancio', 'RaulPozaMartin', 'RaxelFlores', 'ReThink_Culture', 'RebecaValls', 'Renfe', 'ReplikaTeatro', 'ReporterosT5', 'Reuters', 'RevillaMiguelA', 'Revista_Madriz', 'Reynaldoqr', 'RguezBurgos', 'Ricar_f', 'Robergilgarcia', 'RobertCB8', 'RobertoLealG', 'RocioDelgadoP_', 'RodolfoIrago', 'RollingStoneES', 'RosanaRomeroTVE', 'RubDelCampo', 'RuedaMoral', 'RuthVilar', 'SEGITTUR', 'SEMESMadrid', 'SER_Madrid', 'SOCIALogia', 'SPIEGEL_English', 'SaaraEC', 'SalasEspinosa', 'SalomonMartn', 'Sampedro_Cesar', 'SamuelOrtega23', 'SanchezBurgos', 'SanchezdeCastro', 'SandraCarretero', 'Sandra_Alons', 'SantanaAnael', 'SantiCarneri', 'Santihumor', 'Sara_DiariARA', 'SarasolaKike', 'Seguridad5_RNE', 'Seguritecnia', 'SenoritaPuri', 'SergioCanales', 'SergioMartinTVE', 'SergioZETE', 'SerraJaume', 'SerranoIsmael', 'SextaNocheTV', 'Shibami_', 'Shicaboom', 'SiEmprendo', 'SiPeroNo1', 'SimoCappe', 'SimonGornes', 'SiqueRodriguez', 'SoHoFollie', 'Softhands66', 'SoleGimenez', 'Solealal', 'Solepvicens', 'Sombrereros', 'SomosGenteH', 'SoniaAliasV', 'SoniaBolsonia', 'Sorayapp', 'SrDanielRomero', 'StarVal64', 'StateOfLau', 'Susahidalgo', 'SusanaCdv', 'Sweetcidia', 'Sweko', 'Swissquote_es', 'TDinosaurios', 'TH_Digital', 'TIME', 'TNSspain', 'TTSTESCLM', 'TURCIOSart', 'T_Avanzado', 'TafallaMarta', 'TakePC', 'TamAlNajjar', 'TeresaGonzalo', 'Terezlastra', 'TerratPack', 'TevasaenterarTV', 'TheEconomist', 'TheObjective_es', 'Titina_i', 'TodoEmergencias', 'TokaToka73', 'ToniMataD', 'Toni_Juarez', 'ToxicoCultura', 'Tres_Online', 'Tuenti', 'TuentiTalent', 'UAM_Madrid', 'UC3Mpostgrado', 'UCCdeAPTE', 'UEmadrid', 'UPFiscales', 'UPyD', 'USEmbassyMEX', 'USembassyMadrid', 'UexBiblioteca', 'Ulisanchezflor', 'Unelar', 'Usecnetwork', 'VOANoticias', 'VaneHdezBorque', 'Vanesa_BM', 'Vaniu92', 'VeraMagia', 'VeritaRa', 'VerodeRamos', 'VeronicaSJZ', 'VeronicaSanMor', 'Veronikitis', 'Vicenjn', 'VicenteVazquezR', 'Vicespain', 'Victor_lafu', 'Vigoalminuto', 'Villenenrique', 'Virginiagalvin', 'Virginiapalonso', 'ViuditaClicquot', 'VivianBaguer', 'WIRED', 'Walochik_NB_es', 'WhatBecameOfVic', 'WinstonManrique', 'XabiAlonso', 'XaviXavijuan', 'YaQuedaMenosETB', 'YagoAntolin', 'YohanaM', 'YolaPerdomo', 'YolandaBerdasco', 'Yomi_dreams', 'YouTubeEspanol', 'ZGZActiva', 'ZUCRE_FILMS', 'Ziortza_G', 'ZoomNews_ES', '_AVT_', '_DaniGuzman_', '_GloriaBueno_', '_ICMAT', '_InakiLopez_', '_JorgeT', '_MarioVaquerizo', '_RobertoSanchez', '_aabril_', '_appp', '_cris_gs', '_democratia_', '_guerrapedro', '_heba', '_infoLibre', '_isaacrosa', '_jorgesalas_', '_lacasito_', '_musicalNote', '_soniafernandez', '_sumacultural', 'a_lo_gonzo', 'a_publica', 'aasuero', 'aavpccv', 'aballester1', 'abarceloh25', 'aberron', 'abuenashorasSA', 'abustamante', 'academiaquiron', 'acalconchel', 'acampadasol', 'acinoscalvo', 'adaroes', 'adelautrera', 'adelgado', 'adelosmuros', 'admateos', 'adn_es', 'adolfobarroso', 'adriactriz', 'adriana_espigon', 'adrii_33', 'aenaaeropuertos', 'agarzon', 'agenciaDiCYT', 'agencia_sinc', 'agijonc', 'aiinno', 'ainaclotet', 'aisabelms', 'ajearagon', 'ajecastellon', 'ajecoruna', 'ajegalicia', 'ajemadrid', 'ajpaniagua', 'alanamoceri', 'alandete', 'albagufer', 'albaperal', 'albertlesan', 'albertochicote', 'albertogs75', 'albertopierres', 'albetuloxx', 'aleix_kings', 'alejostivel', 'alexdelaIglesia', 'alexmrplus', 'alexroviracelma', 'alexrub89', 'alexrubik', 'alicapri_7', 'almadedi2000', 'almuariza', 'almudenaSOY', 'almudenagomezc', 'alopezdeavila', 'amaianavas', 'amanda_mars', 'amandaloniz', 'amaraloficial', 'ana_ortas', 'anaalfageme', 'anacabrero', 'anaisbernal', 'anamadrazo61', 'anammeca', 'anamurilloa', 'anaoftherock', 'anarosaq', 'anaterradillos', 'andreiti', 'andresgil', 'andreuclaret', 'aneisigloxxi', 'aneymaleon', 'angel23llamas', 'angelicadrz', 'angyeov', 'anitaAgo89', 'anitatxu', 'anitiak', 'anmarsansa59', 'annagrauarias', 'annanarina', 'anticas', 'antonellabro', 'antoniocaro74', 'antonlosada', 'antorocks', 'anyanez_bx', 'apinedaal', 'ara_san66', 'aragonturismo', 'aripaco', 'arqueropublico', 'arrola', 'arsoemergencias', 'artesdemexico', 'asemesa', 'asociaciondia', 'assumptaserna', 'atrevetedial', 'aureolaa16', 'autovi', 'ayasell27', 'azulmanchego', 'babelia_elpais', 'barbiii99', 'bbcmundo', 'bbenayas', 'bcnpress', 'bdelvallec', 'beamarinmayo', 'beamartinh', 'bearicoactriz', 'beatrizSMorillo', 'beatrizborras', 'beatrizjimenezj', 'beatrizrub', 'bebybo', 'beiko_chan', 'beitancia', 'belen_zurita', 'belenschramm', 'bellygirl', 'beltranp', 'benitopb', 'bernardocolsa', 'biblioaguilar', 'bibliopucp', 'bibliotecapica', 'bibliotecas_ic', 'blancaburuaga', 'blancanietoc', 'bomberosoeste', 'borvazq', 'boscox69', 'boye_g', 'btkutz', 'burricleta', 'bwin_es', 'callay_besame', 'camarascomercio', 'cameup', 'campuspdi', 'canedojose', 'canrequis', 'cant_infinita', 'cantabriaopina', 'carbellido', 'caritopelito', 'carlahidalg', 'carles_francino', 'carlesfibla', 'carlestorras', 'carliyosmartin', 'carlos__alsina', 'carlosbardem', 'carlosdomingo', 'carlosecue', 'carloshidalgo_', 'carlosnegreira', 'carlosralli', 'carlotadelamo', 'carmechacon', 'carmencita_dh', 'carmenferrero', 'carmenlabayen', 'carmouna', 'carnecrudaradio', 'carolinaferre1', 'carolinapress', 'carrizosacarlos', 'carvalladolid', 'casamerica', 'caziking', 'cbamadrid', 'ccajete', 'ccarmona74', 'ccarnicero', 'cdelamorTVE', 'cececebe', 'cedu_ES', 'ceei', 'celiagnaranjo', 'cerestv', 'certiuni', 'charlieboy169', 'chemapalomares', 'chicageek', 'chimoeneas', 'chorrohumo1', 'chusdrs', 'ciberesfera', 'cibertecaria', 'cienciagob', 'cigups', 'circuloalicante', 'cjbernardos', 'clamsfus', 'clara_soler', 'clementealvarez', 'clusterticgal', 'cmmarried', 'cmmsoria', 'cnacenta', 'cnnbrk', 'comedia_SERCAT', 'conchacanoyra', 'constanromero', 'couteauenbois', 'cpdemocracia', 'crepresa', 'creucam', 'cristinacastano', 'cristinafpereda', 'cristinedarbon', 'crodv', 'croemurcia', 'cronopioXYY', 'cruzmorcillo', 'cuartopoder', 'cucodefanegas', 'cuervolopez', 'cultrun', 'cvelasco10', 'd_lumbreras', 'danidelaorden', 'danielglezalbo', 'daniellacc_', 'daniespinoso', 'danimateria', 'david20', 'davidcantarero', 'davidcastillo92', 'davidcordova0', 'dbravo', 'dcanosa', 'delRioPilar', 'delegahcd', 'delfinmelero', 'democraciareal', 'descalzoenlared', 'desihdzleon', 'dgarcianovis', 'dgpastor', 'diampensado', 'diarioas', 'diegotorresro', 'digitaldemadrid', 'divulgaUNED', 'dmossberg', 'donesenxarxa', 'drexlerjorge', 'dykinsonlibros', 'eGranero11', 'eMendoza17', 'eccus_net', 'ecienciacom', 'ecocsic', 'editorialespasa', 'eduardomuriel', 'edugalan', 'eduwass', 'edwin_torres', 'eftomas', 'egctianauprblog', 'elEconomistaRSS', 'elMunta', 'el_5Beatle', 'el_langui', 'el_pais_madrid', 'el_webboy', 'eladio_tercios', 'elconfidencial', 'elcontemplador', 'elcuxu', 'eldiarioes', 'elegiovio', 'elenaallue', 'elenamengual', 'elenamohino', 'elenasanchezra', 'elenasevillano', 'elenballesteros', 'eleniitarivera', 'elgatodijonyan', 'elias_israel', 'elis3ta', 'elisabeni', 'eljueves', 'ellas2', 'elmassanacomico', 'elmundoes', 'elomartin', 'eloyola', 'elpais_arte', 'elpais_cultura', 'elpais_deportes', 'elpais_economia', 'elpais_eeuu', 'elpais_inter', 'elpais_tec', 'elpaissemanal', 'elpera_', 'eltrenti', 'emeDJ', 'emerAgencia_es', 'emergenciaslorc', 'emiliojarroyo', 'emitiendo', 'emmalustres', 'emprendemania', 'enlineadegol', 'eoi', 'erchache2000', 'erikavillaecija', 'erincon', 'esglobal_org', 'espiritusanto', 'esrodes', 'esterpeyro', 'estmate', 'eternaloscar', 'eudaldcarbonell', 'euribor_com_es', 'europapress_es', 'eva_del_amo', 'evacebri', 'evalopalas', 'evamariagg', 'evazalin', 'evernote_es', 'extendajunta', 'f_jimenez', 'fabiang', 'facebook', 'fanjulmaria', 'fannytitiun', 'fb_think', 'fcojlr', 'fedegustando', 'felixbernet', 'felizdaniales', 'feminismos_sol', 'fencinar', 'feriadellibro', 'ferialibro', 'ferpalaciosd', 'ferranmascarell', 'ferreiro59', 'festivalmalaga', 'fgalindoru', 'fgurbaneja', 'findingmo', 'fixmedia_org', 'fjcasado64', 'fomentogob', 'fonchosantos', 'forges', 'fpradosroa', 'fquorum', 'franciscoagudo', 'frangp', 'fransinaia', 'freaklances', 'fundainnovacion', 'fundeun', 'garridocoronado', 'gaspygg', 'gaussianos', 'gavela_daniel', 'gbelinchon', 'geeks_inside', 'gema19842', 'gema_bueno', 'gentedigital', 'gentinosina', 'gerardotc', 'gervasanchez', 'giaauc3m', 'gjulianm', 'gobiernoespa', 'gonzalodie', 'gorazn', 'gorkamunecas', 'gowex', 'gpregionalista', 'grazia_meri', 'greenpeace_madr', 'grispastor', 'grupoending', 'guardian', 'guidemulder', 'guillemilkyway', 'guio_roglan', 'guirodi', 'hectorjuanatey', 'hectorsm', 'helearronis', 'hellopibi', 'herrerajoan', 'hjvanvliet', 'hombre_mono', 'homfly', 'hora25', 'hoyenmadrid', 'hqtalviajamos', 'hugomabarca', 'hybrid_days', 'iRedesBurgos', 'ianasagasti', 'iberiaexpress', 'idhbc_uc3m', 'ifertor', 'ignavegas', 'igonzalezPP', 'ihermosilla', 'iislima', 'illa', 'illasansimon', 'imbexa', 'inavia', 'inesbajo', 'inespaztv', 'informacion_es', 'informativost5', 'inigoaduriz', 'inmadafacka', 'iolandamarmol', 'ipadbajoelbrazo', 'irenejunquera', 'irenesofi', 'itistoasted', 'ivanferreiro', 'ivanguillenrock', 'ivanvfdez', 'ivazquez91', 'izaskunruiz', 'jGon_tolla', 'jabertolin', 'jacobobuceta', 'jaimet_92', 'jamierwilson', 'jarajirafa', 'jas0411m', 'javicabade', 'javier_gall', 'javierares', 'javiercao', 'javiercasqueiro', 'javierdelaoliva', 'javierdiazabe', 'javiersolana', 'javigarciaalbal', 'javilor', 'javimartinphoto', 'jazorin', 'jbarriosanz', 'jcgomezsal', 'jcherrero', 'jelosa2', 'jesus_carretero', 'jesus_stp', 'jesusmarana', 'jfcia', 'jgoikoetxeagoir', 'jheviam', 'jimenacarus', 'jjamorin', 'jlcaudevilla', 'jlcordoba', 'jlpineyromolina', 'jluisreyp', 'jlvallejo', 'jmalvpal', 'jmarianolujan', 'jmdepedro', 'jmmcorral', 'jmpazaguilar', 'jmsoria', 'joancgallego', 'joantharrats', 'jogaba80', 'jonhpuerta', 'jonlaiseca', 'jonpeters87', 'jonsistiaga', 'jordiGlez', 'jordi_ruizr', 'jordibarbeta', 'jordibaste', 'jordicosta1', 'jordievole', 'jordimartiras', 'jorgeblass', 'jorgecontesse', 'josealcrespo', 'joseanavas', 'josebaelola', 'josecarlosterry', 'josecdiez', 'josecorriente', 'josegemar', 'josegilgado', 'joselarraza', 'josemariagarcia', 'josemariainigo', 'josemdelrio', 'josepollo29', 'joseprecedo', 'jponstubio', 'jquixano', 'jrdelamorena', 'jrsantamarina', 'jsobejano', 'juampex', 'juanRa_Martin', 'juana_acosta', 'juanarza', 'juandiegopolo', 'juanechanove', 'juanjguemes', 'juanlarzabal', 'juanludepaolis', 'juanma_rguez', 'juanmata10', 'juantorreslopez', 'juazasan', 'juhiguera', 'julia_demode', 'julia_otero', 'julianig', 'julietav', 'juliogabe', 'juliomunozgijon', 'junsch', 'juventudsin', 'jvmanjon', 'kaikuland', 'kalonso91', 'kampussiamedia', 'kayak_es', 'kelseysarita', 'kikobelmonte', 'kiosko', 'koke0117', 'kurioso', 'laJuani_Crazy', 'laSextaTV', 'la_informacion', 'lacasadelaporte', 'lalauramartinez', 'lalayunta', 'lanuevasturias', 'laopinioncoruna', 'lara_c_g', 'laralvarezg', 'lararevillaD', 'larepublica_pe', 'latierruca', 'lauballarin', 'laurabrizuela', 'lauraherraiz', 'lauraibanezm', 'lauralvalero', 'laverdad_es', 'lawwait', 'lbassets', 'lcaldito', 'lemondefr', 'leomuyloco', 'lgutierrez', 'librosunam', 'lidia_y_dani', 'lilioli', 'llfoix', 'llloredo', 'lmartinnotario', 'lmsanchezgarcia', 'lopezdoriga', 'lorenaestebaan', 'loretosilvoso', 'los_martinez', 'lostintv', 'lportaceli', 'lsantonja', 'luciafigar', 'lucialendinez', 'lucio_pilar', 'luis_el_cabron', 'luis_villarejo', 'luisccqq', 'luisgaspardo', 'luismanuel_fm', 'luismartinperez', 'luisriverag', 'lupitaml', 'luzsmellado', 'lvd_Ryanair', 'm_doblev', 'madriddirecto', 'madrimasd', 'magramagob', 'maikolsr', 'makirey69', 'maldinisport', 'malnero74', 'mananascuatro', 'mangelesmoya', 'mangelespolo', 'manucarreno', 'manuelabat', 'maolibrarian', 'maoliverf', 'maosan_', 'mapashito73', 'mapfreFcultura', 'maratorres_tve', 'marca', 'marcmanzano', 'marcosfdezfdez', 'marcoslarena', 'margagual', 'margamayor717', 'margaritazabala', 'margotenenbaumm', 'maria__gomez', 'maria_lpaniagua', 'maria_malo', 'maria_sanfeliu', 'maria_vega_', 'maria_verdoy', 'mariacarrobles', 'mariadanez', 'mariaescariotve', 'mariajo_abc', 'mariajo_moreno', 'marianpayan', 'mariaramirezNY', 'mariavalverde', 'marielarubio', 'marinoholgado', 'marioescr', 'marisagallero', 'marroyoalvarino', 'marsotgom', 'marta_emerson', 'martachavero', 'martaguima', 'martaibanob', 'martasimonet', 'martasolano_tve', 'marti_saballs', 'martinvars', 'masialamota', 'matallanas', 'matias_prats', 'maticatradio', 'maucarlo1', 'mauropicatoste', 'maxoliva36', 'mayastillero', 'mayescobar', 'maykanavarro', 'maytemartinez55', 'mcorcontas', 'mdiazblanchard', 'meigul', 'menaarocks', 'merceclaramunt', 'merengadaa', 'mery_tweety', 'meryone29', 'mfmaeso', 'mgarana', 'mgsonato', 'mhserrano', 'michaelrobinson', 'miguefuente', 'miguel_lago_', 'miguelangelboti', 'miguelgutierrez', 'miguelmediavill', 'mikelemora', 'mikeliturriaga', 'mimesacojea', 'minepetite', 'mipalop', 'mironmartin', 'misteriodeduca', 'mjescalera', 'mlagoa', 'mlopezdelemos', 'mlopezplana', 'mobivery', 'mojamax', 'moleskinelit', 'monicafiguerola', 'monicaoltra', 'monicaplanas', 'monikabilbo', 'monikfire', 'montxoarmendari', 'morasifuentes10', 'morcora', 'morenobarber', 'morenocasas', 'morganbr', 'mozasaracho', 'mpuado', 'msblogspain', 'msgalindo', 'mtemprano', 'mtrr11', 'mundodeportivo', 'muoz_pablo', 'museoevolucion', 'museothyssen', 'muyinteresante', 'n_torreblanca', 'nacharanda', 'nacho_brito', 'nachop', 'nachosomalo', 'nadid', 'natEfdez', 'nataliajunquera', 'navedelmisterio', 'navegas', 'nazaret', 'necoreonna', 'negocios_com', 'negociosespana', 'neustomas', 'nfconspain', 'nievesmontero', 'nievesrey', 'njuancof1', 'nmartorell', 'noelia_atance', 'nordicca', 'noticias_cuatro', 'noticiassva', 'nurcoll', 'nuriabravo', 'nurialonsoml', 'nuriarocagranel', 'observ_militar', 'observatorioumh', 'ocanajavier', 'occupf', 'octavioolano', 'ojkiitar', 'olallac', 'olgablanfe', 'olgapradells', 'olgarodriguezfr', 'omar2Stroke', 'ondaceromn', 'ondamadrid', 'oneto_p', 'ontiverosemilio', 'ordendeltiempo', 'oriolgd', 'orioljara', 'orizon_es', 'oscarmh', 'oscarvalcuende', 'oscarvazquezcar', 'oxfam_es', 'pablo_herraiz', 'pablo_ordaz', 'pablo_pazos_', 'pabloalbores', 'pabloegea', 'paco_roca', 'pacoleonbarrios', 'pacotous', 'pakigm', 'pakitos46', 'paleartico', 'palomaabad', 'paloserrano', 'pandekinos', 'pantxopaniagua', 'pardodevera', 'patricialopezl', 'patrimoralesq', 'patrisocial', 'patxilopez', 'pauilaia', 'paulajarrin', 'paulamonroy', 'paularluengo', 'paulocoelho', 'pcivilmorata', 'pedroblancoa', 'pedroduque1', 'peigis', 'pelisenuntweet', 'penabadp', 'pepbras', 'pepe_mel', 'pepecolubi', 'pere_navarro', 'perezreverte', 'pfaraluce', 'pgarcia_ramos', 'pgaspar66', 'phumano', 'pilarvelasco71', 'plathematics', 'plazayvaldes', 'pnud', 'poetanllerena', 'portAmerica', 'ppstevez', 'pradobenjamin', 'prcantabria', 'prcsantander', 'prensaAlcala', 'presscamaraVLC', 'profiteditorial', 'prsalud', 'publico_es', 'pumarola', 'purplemarbl', 'qoalex', 'quimyo', 'r_corral', 'rachelarieff', 'radio1_rne', 'rafadamuz', 'rafaela_romero', 'rafapachecocom', 'rafarivelles', 'ralvareza', 'ramonlobo', 'ramonscarbo', 'randrade7', 'raona_es', 'raqsanchezsilva', 'raquelduva', 'raquelejerique', 'raquelpico', 'raquelsantosyo', 'rbesac', 'rebecmarin', 'reiaguilera', 'revista_efeeme', 'revistamongolia', 'rgilocon', 'riarcas', 'ricardogomez10', 'rickypedraza', 'rititi', 'rmferrero', 'ro_santiago', 'robertdeniro94', 'robertfonollosa', 'robertobecares', 'robinfood', 'rociogara', 'rocioorellanap', 'rodrigo_marciel', 'rodriguezbraun', 'romeroabreu', 'rosagarciatwitt', 'rosamariaartal', 'rosauradf', 'rraulroman', 'rsierraplus', 'rtve', 'rubenmartinweb', 'rubenmateos', 'rubenuria', 'ruteniado', 'ruthtoledano', 'sailormercury91', 'salazar_octavio', 'salonsogon', 'saludonline', 'salvadorsuarez', 'salvavictoria', 'sanchez_sonia', 'sandrasabates11', 'sanidadgob', 'santigonzalez10', 'sarasolomando', 'satrintxa', 'sausiro', 'sdlfv', 'sebastianforero', 'sebuky', 'semanacienciam', 'sergioprin_her', 'sergiov', 'serrod13', 'sertxusanchez', 'servimedia', 'sfernandezh', 'sfmiralles', 'sgcaso', 'sguasch', 'silvialarsen', 'silviaroblesc', 'sindolafuente', 'sintetia', 'siravil', 'skyscanner_es', 'smoges', 'smoralejo', 'smorcuend', 'snowhite_93', 'sociedadantena3', 'sofiaruiz93', 'solomarta', 'somosyoigo', 'soniagot', 'soniaruizmoreno', 'soniazt', 'sonsolesonega', 'sopetero', 'sophiecortina', 'sorayapacios', 'soyhelensan', 'spanishblog', 'sportell65', 'squalius', 'sraposog', 'stephenrs11', 'stermartinz', 'subiendoelpan', 'subirats9', 'subvencioness', 'sueca7', 'suegonzalez', 'sunsets29', 'surrealitybytes', 'susannagriso', 'svsspain', 'tableroglobal', 'tandujar', 'tango_alfa2', 'tanialozano', 'tatianagrivas', 'tecnohotelnews', 'telecoupm', 'telefonicaid', 'telemadrid', 'teletuits', 'tentacionespais', 'teresa_perales', 'theprojectbcn', 'tinmpr', 'tirandoalpalo', 'tjcope', 'todoinformacion', 'tonocalleja', 'topolaborioso', 'torrrente', 'totemguard', 'treceversos', 'truita_barbera', 'tsisquella', 'tuSEAT', 'tvspot', 'twitter_es', 'twitvarela', 'txalo68', 'txemaa', 'uned', 'unicef_es', 'unicomplutense', 'universidadcjc', 'unpatitodegoma', 'upsamenfurecido', 'usembassysjo', 'valeria_vale8', 'vaquerizo', 'varete', 'vbenayas', 'verdel99', 'vgolaya', 'vicentenieto8', 'viclunac', 'victor_caslab', 'victorgomezr', 'victoriabianco', 'vigalondo', 'viktorman67', 'villalobos_mar', 'virginiaolmedo', 'vixxcortes', 'vpedrosarivas', 'vvvvillar', 'whect', 'wineissocial', 'wonderandrews', 'xClickclickx', 'xavier_vidal', 'xaviermcelorrio', 'xavimestre', 'xdelucas', 'xensubirats', 'xgraset', 'xmBEIRAS', 'yeicofff', 'yesyeska', 'yol', 'yolanda_glez', 'yolandaruiz', 'yomartaytu', 'yriosgarcia', 'yuyudecai', 'zhurnalist_']\n",
      "-------------------------\n",
      "User clustering coefficient (top 5): {'AlanaMurrin': 1, 'AsFerreiro': 1, 'AsTheyBurn': 1, 'BJRatedR': 1, 'BarrierMetal': 1}\n",
      "  CC(el_pais) =              0.04107979852964596\n",
      "Network clustering coefficient:\n",
      "  Macro-average =      0.27323798190863785\n",
      "\u001b[34m  --> elapsed time: 0:00:17 <--\u001b[0m\n",
      "  Micro-average =      0.15427624395722964\n",
      "\u001b[34m  --> elapsed time: 0:00:57 <--\u001b[0m\n",
      "Edge embeddedness (top 5): {('EpochKid', 'Leo6ft'): 1, ('BandasDeGranada', 'GjConcepcion'): 0.8667, ('GjConcepcion', 'bandagranpoder'): 0.8667, ('peytonstevens', 'silly_dwilli'): 0.8462, ('cristiaaandiaz', 'masonshreds'): 0.7647}\n",
      "  Embeddedness(el_pais, ElviraLindo) = 0.15813028812408447\n",
      "  Average =            0.008816742338240147\n",
      "\u001b[34m  --> elapsed time: 0:01:42 <--\u001b[0m\n",
      "==================================================\n",
      "Testing networks/barabasi.csv network\n",
      "Network matrix takes 61.0 MB in RAM\n",
      "4,000 users and 39,932.0 contact relationships\n",
      "User 2000 has 16.0 contacts:  [62, 120, 351, 403, 421, 809, 1555, 1770, 1819, 1907, 2272, 2470, 2812, 3374, 3888, 3916]\n",
      "-------------------------\n",
      "User clustering coefficient (top 5): {2624: 0.2, 2004: 0.1818, 3699: 0.1778, 2784: 0.1667, 2826: 0.1636}\n",
      "  CC(2000) =              0.008333333333333333\n",
      "Network clustering coefficient:\n",
      "  Macro-average =      0.02515724975351217\n",
      "\u001b[34m  --> elapsed time: 0:00:01 <--\u001b[0m\n",
      "  Micro-average =      0.020789102138512764\n",
      "\u001b[34m  --> elapsed time: 0:00:06 <--\u001b[0m\n",
      "Edge embeddedness (top 5): {(3211, 3219): 0.2222, (1034, 2790): 0.1905, (1850, 3532): 0.1818, (3356, 3822): 0.1765, (3590, 3708): 0.1765}\n",
      "  Embeddedness(2000, 3000) = 0.0\n",
      "  Average =            0.004919842351227999\n",
      "\u001b[34m  --> elapsed time: 0:00:13 <--\u001b[0m\n",
      "==================================================\n",
      "Testing networks/erdos.csv network\n",
      "Network matrix takes 61.0 MB in RAM\n",
      "4,000 users and 800,271.0 contact relationships\n",
      "User 2000 has 394.0 contacts:  [39, 40, 42, 44, 49, 63, 66, 74, 104, 107, 111, 115, 124, 130, 136, 143, 153, 159, 160, 175, 176, 202, 215, 223, 224, 226, 256, 261, 290, 317, 323, 332, 356, 361, 366, 369, 376, 378, 396, 417, 420, 447, 451, 457, 462, 470, 482, 486, 502, 529, 535, 537, 559, 567, 568, 575, 591, 608, 622, 627, 634, 646, 663, 705, 717, 719, 737, 740, 752, 757, 766, 779, 780, 782, 807, 816, 825, 855, 860, 887, 918, 924, 927, 941, 965, 978, 985, 994, 996, 1017, 1019, 1025, 1027, 1028, 1029, 1033, 1039, 1041, 1044, 1061, 1081, 1083, 1085, 1089, 1105, 1119, 1134, 1140, 1147, 1185, 1192, 1196, 1202, 1217, 1221, 1222, 1235, 1243, 1249, 1258, 1262, 1265, 1276, 1278, 1283, 1284, 1285, 1298, 1301, 1306, 1307, 1315, 1317, 1326, 1336, 1343, 1378, 1379, 1390, 1430, 1438, 1469, 1474, 1475, 1477, 1520, 1524, 1532, 1535, 1542, 1558, 1581, 1594, 1597, 1604, 1613, 1620, 1638, 1646, 1648, 1649, 1681, 1682, 1686, 1697, 1720, 1722, 1731, 1735, 1738, 1764, 1766, 1780, 1785, 1807, 1822, 1843, 1858, 1870, 1871, 1880, 1882, 1890, 1898, 1905, 1914, 1920, 1934, 1959, 1961, 1962, 1968, 1976, 1977, 1980, 1990, 1996, 2009, 2024, 2026, 2027, 2028, 2044, 2046, 2049, 2065, 2079, 2085, 2098, 2121, 2153, 2162, 2164, 2166, 2181, 2182, 2183, 2195, 2198, 2206, 2221, 2230, 2231, 2233, 2245, 2253, 2258, 2269, 2287, 2299, 2300, 2318, 2321, 2340, 2370, 2380, 2397, 2402, 2416, 2431, 2444, 2451, 2481, 2490, 2492, 2496, 2502, 2506, 2510, 2511, 2514, 2536, 2542, 2544, 2550, 2557, 2559, 2586, 2588, 2608, 2624, 2628, 2637, 2639, 2648, 2653, 2657, 2660, 2663, 2669, 2701, 2711, 2718, 2719, 2731, 2737, 2756, 2783, 2786, 2801, 2809, 2810, 2817, 2842, 2846, 2852, 2867, 2875, 2904, 2906, 2908, 2909, 2935, 2947, 2958, 2970, 2976, 2979, 2982, 2984, 2988, 3000, 3004, 3015, 3026, 3034, 3045, 3056, 3071, 3112, 3118, 3121, 3147, 3172, 3187, 3200, 3203, 3223, 3227, 3253, 3256, 3268, 3280, 3282, 3299, 3314, 3324, 3330, 3340, 3343, 3354, 3356, 3360, 3361, 3365, 3378, 3382, 3389, 3402, 3410, 3425, 3439, 3440, 3464, 3465, 3472, 3500, 3534, 3552, 3560, 3569, 3577, 3589, 3594, 3601, 3614, 3616, 3624, 3625, 3639, 3641, 3649, 3656, 3664, 3668, 3671, 3678, 3687, 3709, 3722, 3726, 3733, 3738, 3751, 3780, 3789, 3790, 3817, 3818, 3822, 3826, 3830, 3843, 3850, 3860, 3864, 3866, 3885, 3910, 3941, 3946, 3955, 3985, 3997]\n",
      "-------------------------\n",
      "User clustering coefficient (top 5): {1562: 0.1043, 3153: 0.1038, 2478: 0.1038, 1042: 0.1036, 2848: 0.1036}\n",
      "  CC(2000) =              0.10051536404851397\n",
      "Network clustering coefficient:\n",
      "  Macro-average =      0.10003154526609603\n",
      "\u001b[34m  --> elapsed time: 0:00:18 <--\u001b[0m\n",
      "  Micro-average =      0.1000337624891973\n",
      "\u001b[34m  --> elapsed time: 0:00:06 <--\u001b[0m\n",
      "Edge embeddedness (top 5): {(1842, 3427): 0.1036, (1084, 3502): 0.0991, (410, 1973): 0.0978, (328, 1285): 0.0976, (994, 2923): 0.0973}\n",
      "  Embeddedness(2000, 3000) = 0.0534246563911438\n",
      "  Average =            0.05266478657722473\n",
      "\u001b[34m  --> elapsed time: 0:00:13 <--\u001b[0m\n",
      "==================================================\n",
      "Done.\n"
     ]
    }
   ],
   "source": [
    "import datetime, time\n",
    "\n",
    "def test_network(file, topn, example_u, example_v, sep=','):\n",
    "    print(f'==================================================\\nTesting {file} network')\n",
    "    network = UndirectedSocialNetwork(file, sep=sep)\n",
    "    print(f'Network matrix takes {round(10 * network.matrix().nbytes / 1024 / 1024) / 10:,} MB in RAM')\n",
    "    print(f'{network.nusers():,} users and {network.nedges():,} contact relationships')\n",
    "    print(f'User {example_u} has {network.degree(example_u):,} contacts: ', network.friends(example_u))\n",
    "    print('-------------------------')\n",
    "    start = time.time()\n",
    "    c = network.avg_clustering()\n",
    "    print(f'User clustering coefficient (top {topn}): {c.values(5)}')\n",
    "    print(f'  CC({example_u}) =              {c.value(example_u)}')\n",
    "    print('Network clustering coefficient:')\n",
    "    print(f'  Macro-average =      {c.mean()}')  \n",
    "    start = timer(start)\n",
    "    print(f'  Micro-average =      {network.clustering()}')\n",
    "    #start = timer(start)\n",
    "    # print(f'Assortativity =        {network.assortativity()}')\n",
    "    start = timer(start)\n",
    "    e = network.embeddedness()\n",
    "    print(f'Edge embeddedness (top {topn}): {e.values(5)}')\n",
    "    print(f'  Embeddedness({example_u}, {example_v}) = {e.value(example_u, example_v)}')\n",
    "    print(f'  Average =            {e.mean()}')\n",
    "    timer(start)\n",
    "\n",
    "    # Otros tests?\n",
    "    student_test(network)\n",
    "\n",
    "from termcolor import colored\n",
    "def timer(start):\n",
    "    print(colored(f'  --> elapsed time: {datetime.timedelta(seconds=round(time.time() - start))} <--', 'blue'))\n",
    "    return time.time()\n",
    "    \n",
    "test_network('networks/toy1.csv',              topn=5, example_u='a',       example_v='b')\n",
    "test_network('networks/toy2.csv',              topn=5, example_u=5,         example_v=6)\n",
    "test_network('networks/toy3.csv',              topn=5, example_u=6,         example_v=4)\n",
    "test_network('networks/facebook_combined.txt', topn=5, example_u=9,         example_v=3, sep=' ')\n",
    "test_network('networks/twitter.csv',           topn=5, example_u='el_pais', example_v='ElviraLindo') # Contains a number of reciprocal edges but we ignore direction.\n",
    "test_network('networks/barabasi.csv',          topn=5, example_u=2000,         example_v=3000)\n",
    "test_network('networks/erdos.csv',             topn=5, example_u=2000,         example_v=3000)\n",
    "print('==================================================\\nDone.')"
   ]
  },
  {
   "cell_type": "markdown",
   "metadata": {
    "id": "V5JhJJSFiSl5",
    "tags": []
   },
   "source": [
    "### Salida obtenida por el estudiante\n",
    "\n",
    "*(por hacer)*"
   ]
  }
 ],
 "metadata": {
  "colab": {
   "collapsed_sections": [],
   "name": "Enunciado P2",
   "provenance": [],
   "toc_visible": true
  },
  "kernelspec": {
   "display_name": "Python 3 (ipykernel)",
   "language": "python",
   "name": "python3"
  },
  "language_info": {
   "codemirror_mode": {
    "name": "ipython",
    "version": 3
   },
   "file_extension": ".py",
   "mimetype": "text/x-python",
   "name": "python",
   "nbconvert_exporter": "python",
   "pygments_lexer": "ipython3",
   "version": "3.8.10"
  }
 },
 "nbformat": 4,
 "nbformat_minor": 4
}
