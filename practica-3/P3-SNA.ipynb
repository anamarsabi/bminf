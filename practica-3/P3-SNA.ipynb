{
 "cells": [
  {
   "cell_type": "markdown",
   "metadata": {},
   "source": [
    "Copyright (C) 2023 Pablo Castells y Alejandro Bellogín\n",
    "\n",
    "El código que contine este notebook se ha implementado para la realización de las prácticas de la asignatura \"Búsqueda y minería de información\" de 4º del Grado en Ingeniería Informática, impartido en la Escuela Politécnica Superior de la Universidad Autónoma de Madrid. El fin del mismo, así como su uso, se ciñe a las actividades docentes de dicha asignatura."
   ]
  },
  {
   "cell_type": "markdown",
   "metadata": {
    "id": "--pSxv2vpvUg"
   },
   "source": [
    "### **Búsqueda y Minería de Información 2022-23**\n",
    "### Universidad Autónoma de Madrid, Escuela Politécnica Superior\n",
    "### Grado en Ingeniería Informática, 4º curso\n",
    "\n",
    "# Bloque 2 - Análisis de redes sociales\n",
    "\n",
    "Fechas:\n",
    "\n",
    "* Comienzo: martes 28 / jueves 30 de marzo.\n",
    "* Entrega: lunes 8 de mayo, 23:59.\n",
    "\n",
    "## Objetivos\n",
    "\n",
    "Este segundo bloque de la práctica tiene por objetivo la implementación de funcionalidades de análisis de redes sociales. En este bloque se desarrollarán:\n",
    "\n",
    "* Métricas que se utilizan en el análisis de redes sociales.\n",
    "* Otras funcionalidades a elección opcional del estudiante, tales como más métricas, la detección de comunidades, la generación aleatoria de redes sociales, o la recomendación de contactos.\n",
    "\n",
    "## Material proporcionado\n",
    "\n",
    "Se proporcionan software y datos para la realización de la práctica:\n",
    "\n",
    "* Un esqueleto de clases y funciones donde el estudiante desarrollará sus implementaciones. De modo similar a las prácticas anteriores, se proporciona una celda de prueba al final, que deberá funcionar con el código implementado por el estudiante.\n",
    "* Redes sociales de prueba:\n",
    "  - Tres redes pequeñas de prueba.\n",
    "  - Redes reales: la red disponible en [SNAP (facebook_combined)](https://snap.stanford.edu/data/egonets-Facebook.html), y <ins>twitter.csv</ins> obtenida mediante una descarga de Twitter (unos 10 mil usuarios con medio millón de relaciones follow).\n",
    "  - Al conjunto de redes de prueba, el estudiante añadirá dos redes más, simuladas, en el ejercicio 5.\n",
    "  \n",
    "Los esqueletos de código que se proporcionan aquí son a modo de guía: el estudiante puede modificarlo todo libremente, siempre que la celda de prueba funcione correctamente **sin cambios**.\n",
    "\n",
    "## Calificación\n",
    "\n",
    "El peso de esta práctica (recomendación + redes sociales) en la nota final de prácticas es del **40%**.\n",
    "\n",
    "La calificación se basará en el **número** de ejercicios realizados y la **calidad** de los mismos. La puntuación que se indica en cada apartado es orientativa, en principio se aplicará tal cual se refleja pero podrá matizarse por criterios de buen sentido si se da el caso.\n",
    "\n",
    "Para dar por válida la realización de un ejercicio, el código deberá funcionar (a la primera) integrado con las clases que se facilitan. El profesor comprobará este aspecto ejecutando la celda de prueba y otras adicionales.\n",
    "\n",
    "La corrección de las implementaciones se observará por la **coherencia de los resultados**, y se valorará la eficiencia en tiempo de ejecución.\n",
    "\n",
    "## Entrega\n",
    "\n",
    "La entrega consistirá en dos ficheros tipo *notebook* (uno para recomendación y otro para redes sociales) donde se incluirán todas las **implementaciones** solicitadas en cada ejercicio, así como una explicación de cada uno a modo de **memoria**.\n",
    "\n",
    "## Indicaciones\n",
    "\n",
    "La realización de los ejercicios conducirá en muchos casos a la implementación de funciones y/o clases adicionales a las que se indican en el enunciado. Algunas vendrán dadas por su aparición en los propias celdas de prueba, y otras por conveniencia a criterio del estudiante.\n",
    "\n",
    "Igual que en prácticas anteriores, no deberán editarse las celdas de prueba. Estas celdas deberán ejecutar sin errores a la primera con el código entregado por el estudiante (naturalmente con salvedad de los ejercicios que no se hayan implementado."
   ]
  },
  {
   "cell_type": "markdown",
   "metadata": {
    "id": "7lOWgbqZpV01"
   },
   "source": [
    "## Ejercicio 5: Preliminares (1.5pt)\n",
    "\n",
    "Generar dos **redes sociales simuladas** siguiendo los modelos de Barabási-Albert y Erdös-Rényi. El tamaño y densidad de los grafos se deja a elección propia. Se puede utilizar para ello cualquier herramienta (como NetworkX, o el entorno interactivo de Gephi), o bien programar implementaciones propias (lo cual también es muy sencillo).\n",
    "\n",
    "Realizar un análisis básico de la **distribución del grado** en las siete redes sociales de la práctica: small x 3, Facebook, Twitter, Barabási-Albert y Erdös-Rényi. Para cada red:\n",
    "\n",
    "* Generar una gráfica de distribución del grado (utilizando escala log-log cuando ello sea útil) y comprobar en qué medida se observa una distribución power law.\n",
    "* Verificar si se observa la paradoja de la amistad (en sus diferentes versiones).\n",
    "\n",
    "Los resultados de este ejercicio no conllevan entrega de software, sino sólo la documentación de los mismos en el apartado de memoria."
   ]
  },
  {
   "cell_type": "code",
   "execution_count": 23,
   "metadata": {
    "id": "br7yqFrnpZYl"
   },
   "outputs": [],
   "source": [
    "# Si se ha implementado algún código, se puede incluir aquí\n",
    "# Si no se ha utilizado Python, se puede utilizar el apartado de explicación siguiente para describir el proceso y las herramientas utilizadas"
   ]
  },
  {
   "cell_type": "code",
   "execution_count": 31,
   "metadata": {},
   "outputs": [],
   "source": [
    "import pandas as pd\n",
    "import os\n",
    "import numpy as np\n",
    "import networkx as nx\n",
    "import matplotlib.pyplot as plt\n"
   ]
  },
  {
   "cell_type": "code",
   "execution_count": 46,
   "metadata": {},
   "outputs": [
    {
     "data": {
      "text/html": [
       "<div>\n",
       "<style scoped>\n",
       "    .dataframe tbody tr th:only-of-type {\n",
       "        vertical-align: middle;\n",
       "    }\n",
       "\n",
       "    .dataframe tbody tr th {\n",
       "        vertical-align: top;\n",
       "    }\n",
       "\n",
       "    .dataframe thead th {\n",
       "        text-align: right;\n",
       "    }\n",
       "</style>\n",
       "<table border=\"1\" class=\"dataframe\">\n",
       "  <thead>\n",
       "    <tr style=\"text-align: right;\">\n",
       "      <th></th>\n",
       "      <th>u</th>\n",
       "      <th>v</th>\n",
       "    </tr>\n",
       "  </thead>\n",
       "  <tbody>\n",
       "    <tr>\n",
       "      <th>0</th>\n",
       "      <td>celiagnaranjo</td>\n",
       "      <td>012CMadrid</td>\n",
       "    </tr>\n",
       "    <tr>\n",
       "      <th>1</th>\n",
       "      <td>CronicaNorte</td>\n",
       "      <td>012CMadrid</td>\n",
       "    </tr>\n",
       "    <tr>\n",
       "      <th>2</th>\n",
       "      <td>CanalCAMTV</td>\n",
       "      <td>012CMadrid</td>\n",
       "    </tr>\n",
       "    <tr>\n",
       "      <th>3</th>\n",
       "      <td>asociaciondia</td>\n",
       "      <td>012CMadrid</td>\n",
       "    </tr>\n",
       "    <tr>\n",
       "      <th>4</th>\n",
       "      <td>kaikuland</td>\n",
       "      <td>012CMadrid</td>\n",
       "    </tr>\n",
       "    <tr>\n",
       "      <th>...</th>\n",
       "      <td>...</td>\n",
       "      <td>...</td>\n",
       "    </tr>\n",
       "    <tr>\n",
       "      <th>560220</th>\n",
       "      <td>sjw</td>\n",
       "      <td>zsims</td>\n",
       "    </tr>\n",
       "    <tr>\n",
       "      <th>560221</th>\n",
       "      <td>kenum</td>\n",
       "      <td>zsims</td>\n",
       "    </tr>\n",
       "    <tr>\n",
       "      <th>560222</th>\n",
       "      <td>_mariabg</td>\n",
       "      <td>zsims</td>\n",
       "    </tr>\n",
       "    <tr>\n",
       "      <th>560223</th>\n",
       "      <td>StartSpain</td>\n",
       "      <td>zsims</td>\n",
       "    </tr>\n",
       "    <tr>\n",
       "      <th>560224</th>\n",
       "      <td>ali_nicolas</td>\n",
       "      <td>zsims</td>\n",
       "    </tr>\n",
       "  </tbody>\n",
       "</table>\n",
       "<p>560225 rows × 2 columns</p>\n",
       "</div>"
      ],
      "text/plain": [
       "                    u           v\n",
       "0       celiagnaranjo  012CMadrid\n",
       "1        CronicaNorte  012CMadrid\n",
       "2          CanalCAMTV  012CMadrid\n",
       "3       asociaciondia  012CMadrid\n",
       "4           kaikuland  012CMadrid\n",
       "...               ...         ...\n",
       "560220            sjw       zsims\n",
       "560221          kenum       zsims\n",
       "560222       _mariabg       zsims\n",
       "560223     StartSpain       zsims\n",
       "560224    ali_nicolas       zsims\n",
       "\n",
       "[560225 rows x 2 columns]"
      ]
     },
     "execution_count": 46,
     "metadata": {},
     "output_type": "execute_result"
    }
   ],
   "source": [
    "file = os.path.join('networks', 'twitter.csv')\n",
    "df = pd.read_csv(file, names=['u', 'v'], delimiter=',')\n",
    "df"
   ]
  },
  {
   "cell_type": "code",
   "execution_count": 47,
   "metadata": {},
   "outputs": [
    {
     "data": {
      "text/plain": [
       "array([[0, 0, 0, ..., 0, 0, 0],\n",
       "       [0, 0, 0, ..., 0, 0, 0],\n",
       "       [0, 0, 0, ..., 0, 0, 0],\n",
       "       ...,\n",
       "       [0, 0, 0, ..., 0, 0, 0],\n",
       "       [0, 0, 0, ..., 0, 0, 1],\n",
       "       [0, 0, 0, ..., 0, 1, 0]])"
      ]
     },
     "execution_count": 47,
     "metadata": {},
     "output_type": "execute_result"
    }
   ],
   "source": [
    "# Creamos la matriz de adyacencia a partir de las conexiones\n",
    "adjacency_matrix = pd.crosstab(df.u, df.v)\n",
    "idx = adjacency_matrix.columns.union(adjacency_matrix.index)\n",
    "adjacency_matrix = adjacency_matrix.reindex(index = idx, columns=idx, fill_value=0)\n",
    "\n",
    "# Lo convertimos a numpy array\n",
    "adjacency_matrix = adjacency_matrix.to_numpy()\n",
    "\n",
    "# Sumamos la transpuesta ya que todos los enlaces son bidireccionales\n",
    "adjacency_matrix = adjacency_matrix + adjacency_matrix.T\n",
    "\n",
    "# Eliminamos los enlaces que se repiten (es decir, los que tienen un valor mayor a 1\n",
    "# después de la suma)\n",
    "adjacency_matrix[adjacency_matrix > 1] = 1\n",
    "\n",
    "# Eliminamos los enlaces de un nodo a sí mismo\n",
    "np.fill_diagonal(adjacency_matrix, 0)\n",
    "\n",
    "adjacency_matrix"
   ]
  },
  {
   "cell_type": "code",
   "execution_count": null,
   "metadata": {},
   "outputs": [],
   "source": [
    "# Sum by rows\n",
    "nodes_degrees = adjacency_matrix.sum(axis=1)"
   ]
  },
  {
   "cell_type": "code",
   "execution_count": 75,
   "metadata": {},
   "outputs": [
    {
     "data": {
      "image/png": "[encoded data removed]",
      "text/plain": [
       "<Figure size 432x288 with 1 Axes>"
      ]
     },
     "metadata": {
      "needs_background": "light"
     },
     "output_type": "display_data"
    }
   ],
   "source": [
    "# Histogram with points and infinite bars\n",
    "plt.hist(nodes_degrees, bins = 50, rwidth=0.8, log=True)\n",
    "plt.title('Histograma de los grados de los nodos')\n",
    "plt.xlabel('Grado')\n",
    "plt.ylabel('Frecuencia')\n",
    "plt.show()\n"
   ]
  },
  {
   "cell_type": "markdown",
   "metadata": {
    "id": "IzTje0viiM9I"
   },
   "source": [
    "### Explicación/documentación/imágenes generadas\n",
    "\n",
    "(por hacer)"
   ]
  },
  {
   "cell_type": "markdown",
   "metadata": {
    "id": "DcxuclLwpaM-"
   },
   "source": [
    "## Ejercicio 6: Métricas (1.5pt)\n",
    "\n",
    "Se implementarán las siguientes métricas topológicas:\n",
    "\n",
    "* Coeficiente de **clustering de un usuario**.\n",
    "* **Arraigo** de un arco (o de un par de usuarios).\n",
    "* Coeficiente de **clustering de una red social**.\n",
    "* Coeficiente de **asortatividad** de grado de una red.\n",
    "\n",
    "Algunas indicaciones en forma de pregunta:\n",
    "\n",
    "* ¿Cómo obtener la red ego de un usuario en una sóla operación de *slicing* del array 2D de adyacencia?\n",
    "* ¿Cómo calcular la densidad de una red social en *una* sola operación sobre su matriz de adyacencia? \n",
    "* ¿Cómo obtener el solapamiento de los amigos de dos usuarios con una sola operación vectorial?\n",
    "* ¿Cómo obtener la unión de dos vecindarios de forma eficiente sabiendo su solapamiento?"
   ]
  },
  {
   "cell_type": "code",
   "execution_count": 49,
   "metadata": {
    "id": "e3uq565SpfSA",
    "tags": []
   },
   "outputs": [
    {
     "ename": "IndentationError",
     "evalue": "expected an indented block (3843091388.py, line 49)",
     "output_type": "error",
     "traceback": [
      "\u001b[0;36m  Cell \u001b[0;32mIn [49], line 49\u001b[0;36m\u001b[0m\n\u001b[0;31m    def nusers(self):\u001b[0m\n\u001b[0m    ^\u001b[0m\n\u001b[0;31mIndentationError\u001b[0m\u001b[0;31m:\u001b[0m expected an indented block\n"
     ]
    }
   ],
   "source": [
    "import pandas as pd\n",
    "import numpy as np\n",
    "from scipy.stats import rankdata\n",
    "import os.path\n",
    "import networkx as nx\n",
    "from matplotlib import pyplot as plt\n",
    "\n",
    "class UndirectedSocialNetwork:\n",
    "    #\n",
    "    # In order to spare you some routine coding, we provide this constructor for you, \n",
    "    # that builds the basic structures you need to implement your metrics: the network \n",
    "    # adjacency matrix, the uid <--> uiidx back and forth mappings, and the number of edges.\n",
    "    #\n",
    "    # For your purposes you don't need to go into the implementation details or fully\n",
    "    # understand every step how they are built -- you just need to use the  provided matrix \n",
    "    # and id mapping structure.\n",
    "    #\n",
    "    def __init__(self, file, sep=','):\n",
    "        self.file=file\n",
    "        edges = pd.read_csv(file, names=['u', 'v'], delimiter=sep)\n",
    "        edges['r'] = np.ones(len(edges))\n",
    "\n",
    "        # Take the union of uids, as there may be users who only appear in one data frame column and not the other.\n",
    "        us = edges.u.unique()\n",
    "        vs = edges.v.unique()\n",
    "        self.uids = np.union1d(us, vs)\n",
    "        self.uidxs = {u:j for j, u in enumerate(self.uids)}\n",
    "        \n",
    "        # Add dummy columns (with r=0) so that all userids appear in both data frame columns (otherwise they'd fail\n",
    "        # to have a row or column in the adjacency matrix). \n",
    "        udiff = np.setdiff1d(us, vs)\n",
    "        vdiff = np.setdiff1d(vs, us)\n",
    "        edges = pd.concat([edges, pd.DataFrame({'u': vdiff, 'v': np.full(len(vdiff), us[0]), 'r': np.zeros(len(vdiff))})])\n",
    "        edges = pd.concat([edges, pd.DataFrame({'u': np.full(len(udiff), vs[0]), 'v': udiff, 'r': np.zeros(len(udiff))})])\n",
    "        \n",
    "        # Get adjacency matrix.\n",
    "        edges = edges.pivot(index='u', columns='v', values='r')\n",
    "        self.m = edges.fillna(0).to_numpy(dtype=np.bool_)\n",
    "        # Make the adjacency matrix symmetric for an undirected network.\n",
    "        self.m = np.logical_or(self.m, self.m.T).astype(np.float32)\n",
    "        # We only count the edges now in case the network file contained reciprocal edges for a directed network,\n",
    "        # in which case we ignored the edge direction, while the csv file contained more rows than the number of\n",
    "        # undirected edges.\n",
    "        self._nedges = self.m.sum()/2\n",
    "\n",
    "    def matrix(self):\n",
    "        # Código aquí...\n",
    "\n",
    "    def nusers(self):\n",
    "        # Código aquí...\n",
    "    \n",
    "    def nedges(self):\n",
    "        # Código aquí...\n",
    "\n",
    "    def uid_to_uidx(self, uid):\n",
    "        # Código aquí...\n",
    "    \n",
    "    # uidx can be an int of an array of ints.\n",
    "    def uidx_to_uid(self, uidx):\n",
    "        # Código aquí...\n",
    "\n",
    "    def _friends(self, uidx):\n",
    "        # Código aquí...\n",
    "    \n",
    "    #\n",
    "    # For debugging purposes.\n",
    "    #\n",
    "    \n",
    "    def degree(self, uid):\n",
    "        # Código aquí...\n",
    "\n",
    "    def friends(self, uid):\n",
    "        # Código aquí...\n",
    "        \n",
    "    #\n",
    "    # Network metrics.\n",
    "    #\n",
    "    \n",
    "    # Global computation of the clustering coefficient (micro-average).\n",
    "    def clustering(self):\n",
    "        # Código aquí...\n",
    "\n",
    "    def assortativity(self):\n",
    "        # Código aquí...\n",
    "\n",
    "    #\n",
    "    # User metrics.\n",
    "    #\n",
    "    \n",
    "    # Network clustering coefficient as the average clustering coefficient of users.\n",
    "    def avg_clustering(self):\n",
    "        return UserMetric(self, np.array([self.user_clustering(uidx) for uidx in range(self.nusers())]))\n",
    "\n",
    "    # Clustering coefficient of individual user - just needed for the average CC.\n",
    "    def user_clustering(self, uidx):\n",
    "        # Código aquí...\n",
    "\n",
    "    #\n",
    "    # Edge metrics.\n",
    "    #\n",
    "    \n",
    "    def embeddedness(self):\n",
    "        # Código aquí...\n",
    "        return EdgeMetric(self, intersections / unions)\n",
    "\n",
    "#\n",
    "# Auxiliary classes to hold and return values of user metrics and edge metrics.\n",
    "#\n",
    "    \n",
    "# Aiming to spare you some routine coding, the purpose of these two classes is \n",
    "# to hold the metric values through their constructur, and return the mean and \n",
    "# ranked values of user and edge metrics when requested. \n",
    "#\n",
    "# For your purposes you don't need to go into the implementation details, or\n",
    "# understand every step of these functions -- you just need to use the simple\n",
    "# API they provide.\n",
    "    \n",
    "class UserMetric:\n",
    "    def __init__(self, network, values):\n",
    "        self.network = network\n",
    "        self._values = values\n",
    "        self.sorted_uidx = (rankdata(-values, method='ordinal')).argsort()\n",
    "\n",
    "    # Return the mean value across all users in the network.\n",
    "    def mean(self):\n",
    "        return self._values.mean()\n",
    "\n",
    "    # Return the metric value for one user.\n",
    "    def value(self, uid):\n",
    "        return self._values[self.network.uid_to_uidx(uid)]\n",
    "\n",
    "    # Return a dictionary with the top n users in the metric.\n",
    "    def values(self, n):\n",
    "        return {l:fround(v, 4) for l, v in zip(self.network.uids[self.sorted_uidx[:n]],\n",
    "                                                   self._values[self.sorted_uidx[:n]])}\n",
    "\n",
    "class EdgeMetric:\n",
    "    def __init__(self, network, values):\n",
    "        self.network = network\n",
    "        values[np.tril_indices(values.shape[0])] = np.iinfo(int).min\n",
    "        self._values = values\n",
    "        tri = int(network.nusers() * (network.nusers() - 1) / 2)\n",
    "        self.order = np.dstack(np.unravel_index(np.argsort(rankdata(-values.ravel(), method='ordinal')), values.shape))[0][:tri]\n",
    "        self.ordered_values = np.array([self._values[e[0],e[1]] for e in self.order])\n",
    "\n",
    "    # Return the mean value across all edges in the network.\n",
    "    def mean(self):\n",
    "        return self.ordered_values.mean()\n",
    "\n",
    "    # Return the metric value for one edge (the edge may or may not exist).\n",
    "    def value(self, uid, vid):\n",
    "        uidx, vidx = self.network.uid_to_uidx(uid), self.network.uid_to_uidx(vid)\n",
    "        return self._values[min(uidx, vidx), max(uidx, vidx)]\n",
    "\n",
    "    # Return a dictionary with the top n edges in the metric.\n",
    "    def values(self, n):\n",
    "        n = min(n, len(self.order))\n",
    "        return {tuple(self.network.uidx_to_uid(e)):fround(self._values[e[0],e[1]], 4) for e in self.order[:n]}\n",
    "    \n",
    "# Just for pretty-printing numbers.\n",
    "def fround(x, n=20):\n",
    "    r = round(x)\n",
    "    rn = round(x, n)\n",
    "    return r if rn == r else rn"
   ]
  },
  {
   "cell_type": "markdown",
   "metadata": {
    "id": "-d4hWTstiOIT",
    "tags": []
   },
   "source": [
    "### Explicación/documentación\n",
    "\n",
    "(por hacer)\n",
    "\n",
    "Además, se documentarán en la memoria los tiempos de ejecución de las métricas en las redes de Facebook y Twitter, en una tabla con la siguiente estructura:\n",
    "\n",
    "||Facebook|Twitter\n",
    "|-|:-:|:-:\n",
    "|Coef. clustering usuario|...|... \n",
    "|Embededness|...|...\n",
    "|Coef. clustering global|...|...\n",
    "|Asortatividad|...|..."
   ]
  },
  {
   "cell_type": "markdown",
   "metadata": {
    "id": "JPPWV7pepf85",
    "tags": []
   },
   "source": [
    "## Ejercicio 7: Ejercicio libre (fuera de puntuación)\n",
    "\n",
    "El estudiante desarrollará uno o varios métodos de análisis de redes a su propia elección. Se sugiere por ejemplo: \n",
    "\n",
    "* Implementación de métricas adicionales, tales como betweenness, closeness, distancia promedio, diámetro, modularidad, etc. (Para la modularidad, se necesitará definir una partición de los nodos &ndash; consultar con el profesor.)\n",
    "* Detección de comunidades y enlaces débiles.\n",
    "* Creación de modelos para la generación aleatoria de redes sociales (p.e. amigos de amigos, etc.).\n",
    "* Recomendación de contactos.\n",
    "\n",
    "Para este ejercicio deberá completarse la implementación de una función adicional `student_test()` ilustrando la ejecución de las métricas y algoritmos implementados. \n",
    "\n",
    "El software que se desarrolle se incluirá en la celda que sigue, y se documentarán en la memoria las pruebas realizadas y los resultados obtenidos. \n",
    "\n",
    "Este ejercicio se evaluará en base a la cantidad, calidad e interés del trabajo realizado."
   ]
  },
  {
   "cell_type": "code",
   "execution_count": null,
   "metadata": {
    "id": "zg8MIMpipih1",
    "tags": []
   },
   "outputs": [],
   "source": [
    "# Implementación o implementaciones elegidas"
   ]
  },
  {
   "cell_type": "code",
   "execution_count": null,
   "metadata": {
    "tags": []
   },
   "outputs": [],
   "source": [
    "def student_test(data):\n",
    "    pass\n",
    "    # Código aquí..."
   ]
  },
  {
   "cell_type": "markdown",
   "metadata": {
    "id": "H1gukouXiPV3",
    "tags": []
   },
   "source": [
    "### Explicación/documentación\n",
    "\n",
    "(por hacer)"
   ]
  },
  {
   "cell_type": "markdown",
   "metadata": {
    "id": "8zXhPtFzon72"
   },
   "source": [
    "## Visualización de las redes pequeñas de prueba\n",
    "\n",
    "Descarga los ficheros del curso de Moodle y coloca sus contenidos en una carpeta **networks** en el mismo directorio que este *notebook*. Visualizar las redes de prueba facilita las comprobaciones que puedan ser necesarias durante la depuración del código."
   ]
  },
  {
   "cell_type": "code",
   "execution_count": null,
   "metadata": {},
   "outputs": [],
   "source": [
    "import pandas as pd\n",
    "import numpy as np\n",
    "from scipy.stats import rankdata\n",
    "import os.path\n",
    "import networkx as nx\n",
    "from matplotlib import pyplot as plt"
   ]
  },
  {
   "cell_type": "code",
   "execution_count": null,
   "metadata": {},
   "outputs": [
    {
     "name": "stdout",
     "output_type": "stream",
     "text": [
      "networks/toy1.html\n",
      "networks/toy2.html\n",
      "networks/toy3.html\n"
     ]
    },
    {
     "data": {
      "image/png": "[encoded data removed]",
      "text/plain": [
       "<Figure size 1440x432 with 3 Axes>"
      ]
     },
     "metadata": {},
     "output_type": "display_data"
    }
   ],
   "source": [
    "from pyvis.network import Network\n",
    "\n",
    "def plot(file, ax=None, sep=','):\n",
    "    g = nx.from_pandas_edgelist(pd.read_csv(file, names=['u', 'v'], delimiter=sep), \n",
    "                                source='u', target='v')\n",
    "    options = {\n",
    "        'node_size': 750, 'node_color': 'mediumblue', 'edgecolors': \"black\",\n",
    "        'font_color': 'white', 'font_weight': 'bold', 'font_size': 13\n",
    "    }\n",
    "    if not ax: \n",
    "        f = plt.figure()\n",
    "        f.set_size_inches(3, 3)\n",
    "        \n",
    "    # Plot the graphs in the output cell.\n",
    "    nx.draw(g, ax=ax, with_labels=True, **options)\n",
    "    filename = os.path.split(file)[1]\n",
    "    (ax if ax else plt.gca()).set_title(filename, fontsize=15)\n",
    "    \n",
    "    # Plot the graphs into interactive HTML files.\n",
    "    net = Network(notebook=True, cdn_resources='remote')\n",
    "    net.from_nx(g)\n",
    "    net.show(file.split('.')[0] + '.html')\n",
    "    \n",
    "\n",
    "f, (ax1, ax2, ax3) = plt.subplots(1, 3)\n",
    "f.set_size_inches(20, 6)\n",
    "plot('networks/toy1.csv', ax1)\n",
    "plot('networks/toy2.csv', ax2)\n",
    "plot('networks/toy3.csv', ax3)"
   ]
  },
  {
   "cell_type": "markdown",
   "metadata": {
    "id": "8zXhPtFzon72"
   },
   "source": [
    "## Celda de prueba"
   ]
  },
  {
   "cell_type": "code",
   "execution_count": null,
   "metadata": {
    "id": "fTdDacCRn0u6"
   },
   "outputs": [
    {
     "name": "stdout",
     "output_type": "stream",
     "text": [
      "==================================================\n",
      "Testing networks/toy1.csv network\n"
     ]
    },
    {
     "ename": "NameError",
     "evalue": "name 'UndirectedSocialNetwork' is not defined",
     "output_type": "error",
     "traceback": [
      "\u001b[0;31m---------------------------------------------------------------------------\u001b[0m",
      "\u001b[0;31mNameError\u001b[0m                                 Traceback (most recent call last)",
      "\u001b[1;32m/home/xu/Escritorio/Universidad/BMINF/Practicas/bminf/practica-3/P3-SNA.ipynb Cell 17\u001b[0m in \u001b[0;36m3\n\u001b[1;32m     <a href='vscode-notebook-cell:/home/xu/Escritorio/Universidad/BMINF/Practicas/bminf/practica-3/P3-SNA.ipynb#X42sZmlsZQ%3D%3D?line=31'>32</a>\u001b[0m     \u001b[39mprint\u001b[39m(colored(\u001b[39mf\u001b[39m\u001b[39m'\u001b[39m\u001b[39m  --> elapsed time: \u001b[39m\u001b[39m{\u001b[39;00mdatetime\u001b[39m.\u001b[39mtimedelta(seconds\u001b[39m=\u001b[39m\u001b[39mround\u001b[39m(time\u001b[39m.\u001b[39mtime() \u001b[39m-\u001b[39m start))\u001b[39m}\u001b[39;00m\u001b[39m <--\u001b[39m\u001b[39m'\u001b[39m, \u001b[39m'\u001b[39m\u001b[39mblue\u001b[39m\u001b[39m'\u001b[39m))\n\u001b[1;32m     <a href='vscode-notebook-cell:/home/xu/Escritorio/Universidad/BMINF/Practicas/bminf/practica-3/P3-SNA.ipynb#X42sZmlsZQ%3D%3D?line=32'>33</a>\u001b[0m     \u001b[39mreturn\u001b[39;00m time\u001b[39m.\u001b[39mtime()\n\u001b[0;32m---> <a href='vscode-notebook-cell:/home/xu/Escritorio/Universidad/BMINF/Practicas/bminf/practica-3/P3-SNA.ipynb#X42sZmlsZQ%3D%3D?line=34'>35</a>\u001b[0m test_network(\u001b[39m'\u001b[39;49m\u001b[39mnetworks/toy1.csv\u001b[39;49m\u001b[39m'\u001b[39;49m,              topn\u001b[39m=\u001b[39;49m\u001b[39m5\u001b[39;49m, example_u\u001b[39m=\u001b[39;49m\u001b[39m'\u001b[39;49m\u001b[39ma\u001b[39;49m\u001b[39m'\u001b[39;49m,       example_v\u001b[39m=\u001b[39;49m\u001b[39m'\u001b[39;49m\u001b[39mb\u001b[39;49m\u001b[39m'\u001b[39;49m)\n\u001b[1;32m     <a href='vscode-notebook-cell:/home/xu/Escritorio/Universidad/BMINF/Practicas/bminf/practica-3/P3-SNA.ipynb#X42sZmlsZQ%3D%3D?line=35'>36</a>\u001b[0m test_network(\u001b[39m'\u001b[39m\u001b[39mnetworks/toy2.csv\u001b[39m\u001b[39m'\u001b[39m,              topn\u001b[39m=\u001b[39m\u001b[39m5\u001b[39m, example_u\u001b[39m=\u001b[39m\u001b[39m5\u001b[39m,         example_v\u001b[39m=\u001b[39m\u001b[39m6\u001b[39m)\n\u001b[1;32m     <a href='vscode-notebook-cell:/home/xu/Escritorio/Universidad/BMINF/Practicas/bminf/practica-3/P3-SNA.ipynb#X42sZmlsZQ%3D%3D?line=36'>37</a>\u001b[0m test_network(\u001b[39m'\u001b[39m\u001b[39mnetworks/toy3.csv\u001b[39m\u001b[39m'\u001b[39m,              topn\u001b[39m=\u001b[39m\u001b[39m5\u001b[39m, example_u\u001b[39m=\u001b[39m\u001b[39m6\u001b[39m,         example_v\u001b[39m=\u001b[39m\u001b[39m4\u001b[39m)\n",
      "\u001b[1;32m/home/xu/Escritorio/Universidad/BMINF/Practicas/bminf/practica-3/P3-SNA.ipynb Cell 17\u001b[0m in \u001b[0;36m5\n\u001b[1;32m      <a href='vscode-notebook-cell:/home/xu/Escritorio/Universidad/BMINF/Practicas/bminf/practica-3/P3-SNA.ipynb#X42sZmlsZQ%3D%3D?line=2'>3</a>\u001b[0m \u001b[39mdef\u001b[39;00m \u001b[39mtest_network\u001b[39m(file, topn, example_u, example_v, sep\u001b[39m=\u001b[39m\u001b[39m'\u001b[39m\u001b[39m,\u001b[39m\u001b[39m'\u001b[39m):\n\u001b[1;32m      <a href='vscode-notebook-cell:/home/xu/Escritorio/Universidad/BMINF/Practicas/bminf/practica-3/P3-SNA.ipynb#X42sZmlsZQ%3D%3D?line=3'>4</a>\u001b[0m     \u001b[39mprint\u001b[39m(\u001b[39mf\u001b[39m\u001b[39m'\u001b[39m\u001b[39m==================================================\u001b[39m\u001b[39m\\n\u001b[39;00m\u001b[39mTesting \u001b[39m\u001b[39m{\u001b[39;00mfile\u001b[39m}\u001b[39;00m\u001b[39m network\u001b[39m\u001b[39m'\u001b[39m)\n\u001b[0;32m----> <a href='vscode-notebook-cell:/home/xu/Escritorio/Universidad/BMINF/Practicas/bminf/practica-3/P3-SNA.ipynb#X42sZmlsZQ%3D%3D?line=4'>5</a>\u001b[0m     network \u001b[39m=\u001b[39m UndirectedSocialNetwork(file, sep\u001b[39m=\u001b[39msep)\n\u001b[1;32m      <a href='vscode-notebook-cell:/home/xu/Escritorio/Universidad/BMINF/Practicas/bminf/practica-3/P3-SNA.ipynb#X42sZmlsZQ%3D%3D?line=5'>6</a>\u001b[0m     \u001b[39mprint\u001b[39m(\u001b[39mf\u001b[39m\u001b[39m'\u001b[39m\u001b[39mNetwork matrix takes \u001b[39m\u001b[39m{\u001b[39;00m\u001b[39mround\u001b[39m(\u001b[39m10\u001b[39m \u001b[39m*\u001b[39m network\u001b[39m.\u001b[39mmatrix()\u001b[39m.\u001b[39mnbytes \u001b[39m/\u001b[39m \u001b[39m1024\u001b[39m \u001b[39m/\u001b[39m \u001b[39m1024\u001b[39m) \u001b[39m/\u001b[39m \u001b[39m10\u001b[39m\u001b[39m:\u001b[39;00m\u001b[39m,\u001b[39m\u001b[39m}\u001b[39;00m\u001b[39m MB in RAM\u001b[39m\u001b[39m'\u001b[39m)\n\u001b[1;32m      <a href='vscode-notebook-cell:/home/xu/Escritorio/Universidad/BMINF/Practicas/bminf/practica-3/P3-SNA.ipynb#X42sZmlsZQ%3D%3D?line=6'>7</a>\u001b[0m     \u001b[39mprint\u001b[39m(\u001b[39mf\u001b[39m\u001b[39m'\u001b[39m\u001b[39m{\u001b[39;00mnetwork\u001b[39m.\u001b[39mnusers()\u001b[39m:\u001b[39;00m\u001b[39m,\u001b[39m\u001b[39m}\u001b[39;00m\u001b[39m users and \u001b[39m\u001b[39m{\u001b[39;00mnetwork\u001b[39m.\u001b[39mnedges()\u001b[39m:\u001b[39;00m\u001b[39m,\u001b[39m\u001b[39m}\u001b[39;00m\u001b[39m contact relationships\u001b[39m\u001b[39m'\u001b[39m)\n",
      "\u001b[0;31mNameError\u001b[0m: name 'UndirectedSocialNetwork' is not defined"
     ]
    }
   ],
   "source": [
    "import datetime, time\n",
    "\n",
    "def test_network(file, topn, example_u, example_v, sep=','):\n",
    "    print(f'==================================================\\nTesting {file} network')\n",
    "    network = UndirectedSocialNetwork(file, sep=sep)\n",
    "    print(f'Network matrix takes {round(10 * network.matrix().nbytes / 1024 / 1024) / 10:,} MB in RAM')\n",
    "    print(f'{network.nusers():,} users and {network.nedges():,} contact relationships')\n",
    "    print(f'User {example_u} has {network.degree(example_u):,} contacts: ', network.friends(example_u))\n",
    "    print('-------------------------')\n",
    "    start = time.time()\n",
    "    c = network.avg_clustering()\n",
    "    print(f'User clustering coefficient (top {topn}): {c.values(5)}')\n",
    "    print(f'  CC({example_u}) =              {c.value(example_u)}')\n",
    "    print('Network clustering coefficient:')\n",
    "    print(f'  Macro-average =      {c.mean()}')  \n",
    "    start = timer(start)\n",
    "    print(f'  Micro-average =      {network.clustering()}')\n",
    "    start = timer(start)\n",
    "    print(f'Assortativity =        {network.assortativity()}')\n",
    "    start = timer(start)\n",
    "    e = network.embeddedness()\n",
    "    print(f'Edge embeddedness (top {topn}): {e.values(5)}')\n",
    "    print(f'  Embeddedness({example_u}, {example_v}) = {e.value(example_u, example_v)}')\n",
    "    print(f'  Average =            {e.mean()}')\n",
    "    timer(start)\n",
    "\n",
    "    # Otros tests?\n",
    "    student_test(network)\n",
    "\n",
    "from termcolor import colored\n",
    "def timer(start):\n",
    "    print(colored(f'  --> elapsed time: {datetime.timedelta(seconds=round(time.time() - start))} <--', 'blue'))\n",
    "    return time.time()\n",
    "    \n",
    "test_network('networks/toy1.csv',              topn=5, example_u='a',       example_v='b')\n",
    "test_network('networks/toy2.csv',              topn=5, example_u=5,         example_v=6)\n",
    "test_network('networks/toy3.csv',              topn=5, example_u=6,         example_v=4)\n",
    "test_network('networks/facebook_combined.txt', topn=5, example_u=9,         example_v=3, sep=' ')\n",
    "test_network('networks/twitter.csv',           topn=5, example_u='el_pais', example_v='ElviraLindo') # Contains a number of reciprocal edges but we ignore direction.\n",
    "test_network('networks/barabasi.csv',          topn=5, example_u=2000,         example_v=3000)\n",
    "test_network('networks/erdos.csv',             topn=5, example_u=2000,         example_v=3000)\n",
    "print('==================================================\\nDone.')"
   ]
  },
  {
   "cell_type": "markdown",
   "metadata": {
    "id": "V5JhJJSFiSl5",
    "tags": []
   },
   "source": [
    "### Salida obtenida por el estudiante\n",
    "\n",
    "*(por hacer)*"
   ]
  }
 ],
 "metadata": {
  "colab": {
   "collapsed_sections": [],
   "name": "Enunciado P2",
   "provenance": [],
   "toc_visible": true
  },
  "kernelspec": {
   "display_name": "Python 3 (ipykernel)",
   "language": "python",
   "name": "python3"
  },
  "language_info": {
   "codemirror_mode": {
    "name": "ipython",
    "version": 3
   },
   "file_extension": ".py",
   "mimetype": "text/x-python",
   "name": "python",
   "nbconvert_exporter": "python",
   "pygments_lexer": "ipython3",
   "version": "3.8.10"
  }
 },
 "nbformat": 4,
 "nbformat_minor": 4
}
