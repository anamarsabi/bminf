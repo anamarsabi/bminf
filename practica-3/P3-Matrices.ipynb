{
 "cells": [
  {
   "cell_type": "markdown",
   "id": "9d1af723-16a6-4ab9-a7f8-16f3440ed694",
   "metadata": {},
   "source": [
    "Copyright (C) 2023 Pablo Castells y Alejandro Bellogín\n",
    "\n",
    "El código que contiene este notebook se ha implementado para la realización de las prácticas de la asignatura \"Búsqueda y minería de información\" de 4º del Grado en Ingeniería Informática, impartido en la Escuela Politécnica Superior de la Universidad Autónoma de Madrid. El fin del mismo, así como su uso, se ciñe a las actividades docentes de dicha asignatura.\n",
    "\n",
    "### **Búsqueda y Minería de Información 2022-23**\n",
    "### Universidad Autónoma de Madrid, Escuela Politécnica Superior\n",
    "### Grado en Ingeniería Informática, 4º curso"
   ]
  },
  {
   "cell_type": "markdown",
   "id": "4be59073-0b7b-4331-af6c-2e0d7ffea744",
   "metadata": {},
   "source": [
    "# Matrix-based implementation of recommender systems \n",
    "\n",
    "This notebook is a warmup exercise and provides many of the elements you need to build your implementation of recommender systems in the lab assignment. Some blanks are left for you to fill in: they are all labeled with \"# Your code here...\". In general the blanks can all be filled in one line: many operations consist of matrix multiplications (of the two kinds: dot product and element-wise multiplications), and others can be done in just one function call using the np array API. Using NumPy makes these operations extremely fast.\n",
    "\n",
    "You don't need to hand in this notebook &mdash; it will provide you with many bits of code though and a step by step understanding of how to handle data and produce recommendations with NumPy matrix operations.\n",
    "\n",
    "What you will see here reflects representative aspects that are also common in how other algorithms in recommender systems, machine learning, and data science at large are built."
   ]
  },
  {
   "cell_type": "markdown",
   "id": "02160f8b-0233-40a6-a34e-6878b66805b1",
   "metadata": {},
   "source": [
    "## Creating a rating matrix from a dataframe of ratings"
   ]
  },
  {
   "cell_type": "markdown",
   "id": "e38f93b2-4244-4556-971e-f85aae15f089",
   "metadata": {},
   "source": [
    "Example ratings data frame."
   ]
  },
  {
   "cell_type": "code",
   "execution_count": 71,
   "id": "46c37bcb-3167-49a5-95b2-2dd6e0d7fd4d",
   "metadata": {},
   "outputs": [
    {
     "data": {
      "text/html": [
       "<div>\n",
       "<style scoped>\n",
       "    .dataframe tbody tr th:only-of-type {\n",
       "        vertical-align: middle;\n",
       "    }\n",
       "\n",
       "    .dataframe tbody tr th {\n",
       "        vertical-align: top;\n",
       "    }\n",
       "\n",
       "    .dataframe thead th {\n",
       "        text-align: right;\n",
       "    }\n",
       "</style>\n",
       "<table border=\"1\" class=\"dataframe\">\n",
       "  <thead>\n",
       "    <tr style=\"text-align: right;\">\n",
       "      <th></th>\n",
       "      <th>u</th>\n",
       "      <th>i</th>\n",
       "      <th>r</th>\n",
       "    </tr>\n",
       "  </thead>\n",
       "  <tbody>\n",
       "    <tr>\n",
       "      <th>0</th>\n",
       "      <td>v</td>\n",
       "      <td>b</td>\n",
       "      <td>4</td>\n",
       "    </tr>\n",
       "    <tr>\n",
       "      <th>1</th>\n",
       "      <td>v</td>\n",
       "      <td>c</td>\n",
       "      <td>5</td>\n",
       "    </tr>\n",
       "    <tr>\n",
       "      <th>2</th>\n",
       "      <td>v</td>\n",
       "      <td>d</td>\n",
       "      <td>3</td>\n",
       "    </tr>\n",
       "    <tr>\n",
       "      <th>3</th>\n",
       "      <td>x</td>\n",
       "      <td>a</td>\n",
       "      <td>5</td>\n",
       "    </tr>\n",
       "    <tr>\n",
       "      <th>4</th>\n",
       "      <td>x</td>\n",
       "      <td>b</td>\n",
       "      <td>2</td>\n",
       "    </tr>\n",
       "    <tr>\n",
       "      <th>5</th>\n",
       "      <td>x</td>\n",
       "      <td>e</td>\n",
       "      <td>4</td>\n",
       "    </tr>\n",
       "    <tr>\n",
       "      <th>6</th>\n",
       "      <td>y</td>\n",
       "      <td>a</td>\n",
       "      <td>1</td>\n",
       "    </tr>\n",
       "    <tr>\n",
       "      <th>7</th>\n",
       "      <td>y</td>\n",
       "      <td>b</td>\n",
       "      <td>4</td>\n",
       "    </tr>\n",
       "    <tr>\n",
       "      <th>8</th>\n",
       "      <td>y</td>\n",
       "      <td>c</td>\n",
       "      <td>4</td>\n",
       "    </tr>\n",
       "    <tr>\n",
       "      <th>9</th>\n",
       "      <td>z</td>\n",
       "      <td>c</td>\n",
       "      <td>3</td>\n",
       "    </tr>\n",
       "    <tr>\n",
       "      <th>10</th>\n",
       "      <td>z</td>\n",
       "      <td>d</td>\n",
       "      <td>5</td>\n",
       "    </tr>\n",
       "  </tbody>\n",
       "</table>\n",
       "</div>"
      ],
      "text/plain": [
       "    u  i  r\n",
       "0   v  b  4\n",
       "1   v  c  5\n",
       "2   v  d  3\n",
       "3   x  a  5\n",
       "4   x  b  2\n",
       "5   x  e  4\n",
       "6   y  a  1\n",
       "7   y  b  4\n",
       "8   y  c  4\n",
       "9   z  c  3\n",
       "10  z  d  5"
      ]
     },
     "execution_count": 71,
     "metadata": {},
     "output_type": "execute_result"
    }
   ],
   "source": [
    "import pandas as pd\n",
    "\n",
    "ratings_df = pd.DataFrame(columns=['u', 'i', 'r'],\n",
    "                          data=[['v', 'b', 4], ['v', 'c', 5], ['v', 'd', 3],\n",
    "                                ['x', 'a', 5], ['x', 'b', 2], ['x', 'e', 4], \n",
    "                                ['y', 'a', 1], ['y', 'b', 4], ['y', 'c', 4],\n",
    "                                ['z', 'c', 3], ['z', 'd', 5]])\n",
    "ratings_df.to_csv('recsys-data/toy1.csv', index=False)\n",
    "ratings_df"
   ]
  },
  {
   "cell_type": "markdown",
   "id": "9f16c162-ae79-47e4-902a-181844f026bb",
   "metadata": {},
   "source": [
    "Create a ratings matrix."
   ]
  },
  {
   "cell_type": "code",
   "execution_count": 72,
   "id": "66bad0f9-7a3b-49f3-a1ea-b8740f3b3a7d",
   "metadata": {},
   "outputs": [
    {
     "data": {
      "text/html": [
       "<div>\n",
       "<style scoped>\n",
       "    .dataframe tbody tr th:only-of-type {\n",
       "        vertical-align: middle;\n",
       "    }\n",
       "\n",
       "    .dataframe tbody tr th {\n",
       "        vertical-align: top;\n",
       "    }\n",
       "\n",
       "    .dataframe thead th {\n",
       "        text-align: right;\n",
       "    }\n",
       "</style>\n",
       "<table border=\"1\" class=\"dataframe\">\n",
       "  <thead>\n",
       "    <tr style=\"text-align: right;\">\n",
       "      <th>i</th>\n",
       "      <th>a</th>\n",
       "      <th>b</th>\n",
       "      <th>c</th>\n",
       "      <th>d</th>\n",
       "      <th>e</th>\n",
       "    </tr>\n",
       "    <tr>\n",
       "      <th>u</th>\n",
       "      <th></th>\n",
       "      <th></th>\n",
       "      <th></th>\n",
       "      <th></th>\n",
       "      <th></th>\n",
       "    </tr>\n",
       "  </thead>\n",
       "  <tbody>\n",
       "    <tr>\n",
       "      <th>v</th>\n",
       "      <td>NaN</td>\n",
       "      <td>4.0</td>\n",
       "      <td>5.0</td>\n",
       "      <td>3.0</td>\n",
       "      <td>NaN</td>\n",
       "    </tr>\n",
       "    <tr>\n",
       "      <th>x</th>\n",
       "      <td>5.0</td>\n",
       "      <td>2.0</td>\n",
       "      <td>NaN</td>\n",
       "      <td>NaN</td>\n",
       "      <td>4.0</td>\n",
       "    </tr>\n",
       "    <tr>\n",
       "      <th>y</th>\n",
       "      <td>1.0</td>\n",
       "      <td>4.0</td>\n",
       "      <td>4.0</td>\n",
       "      <td>NaN</td>\n",
       "      <td>NaN</td>\n",
       "    </tr>\n",
       "    <tr>\n",
       "      <th>z</th>\n",
       "      <td>NaN</td>\n",
       "      <td>NaN</td>\n",
       "      <td>3.0</td>\n",
       "      <td>5.0</td>\n",
       "      <td>NaN</td>\n",
       "    </tr>\n",
       "  </tbody>\n",
       "</table>\n",
       "</div>"
      ],
      "text/plain": [
       "i    a    b    c    d    e\n",
       "u                         \n",
       "v  NaN  4.0  5.0  3.0  NaN\n",
       "x  5.0  2.0  NaN  NaN  4.0\n",
       "y  1.0  4.0  4.0  NaN  NaN\n",
       "z  NaN  NaN  3.0  5.0  NaN"
      ]
     },
     "execution_count": 72,
     "metadata": {},
     "output_type": "execute_result"
    }
   ],
   "source": [
    "matrix = ratings_df.pivot(index='u', columns='i', values='r')\n",
    "matrix"
   ]
  },
  {
   "cell_type": "markdown",
   "id": "0cc75978-bc37-4519-a35d-865f206ad196",
   "metadata": {},
   "source": [
    "Handle missing ratings as zeros, convert to numpy 2D array."
   ]
  },
  {
   "cell_type": "code",
   "execution_count": 73,
   "id": "7a09a377-08a3-410c-8a1c-cff0501efb6d",
   "metadata": {},
   "outputs": [
    {
     "data": {
      "text/plain": [
       "array([[0., 4., 5., 3., 0.],\n",
       "       [5., 2., 0., 0., 4.],\n",
       "       [1., 4., 4., 0., 0.],\n",
       "       [0., 0., 3., 5., 0.]])"
      ]
     },
     "execution_count": 73,
     "metadata": {},
     "output_type": "execute_result"
    }
   ],
   "source": [
    "matrix = # Your code here...\n",
    "matrix"
   ]
  },
  {
   "cell_type": "markdown",
   "id": "bb579b71-9a0c-40e3-a04a-9e4be9e27818",
   "metadata": {},
   "source": [
    "How to access internal rating matrix from external user and item ids.\n",
    "\n",
    "*Why is this needed?* In the internal matrix representation, user and item ids are implicit: they are the row numbers and column numbers, ranging from zero to the number of users and items, respectively &mdash; we will refer to them as idx's. Working with ratings as a matrix is highly efficient in NumPy. However, users and items have an external id representation that may not be an integer, or even when they are an integer, they may not range from zero to the number of users/items. Hence, we map external to internal ids, compute recommendations, and map them back to external ids when serving the results. This is alike to doc titles, URLs or pathnames vs. internal doc ids in a search engine."
   ]
  },
  {
   "cell_type": "code",
   "execution_count": 74,
   "id": "fc47dc41-57b3-4a94-90be-899217df8c2b",
   "metadata": {},
   "outputs": [
    {
     "name": "stdout",
     "output_type": "stream",
     "text": [
      "['v' 'x' 'y' 'z']\n",
      "['a' 'b' 'c' 'd' 'e']\n",
      "{'v': 0, 'x': 1, 'y': 2, 'z': 3}\n",
      "{'a': 0, 'b': 1, 'c': 2, 'd': 3, 'e': 4}\n",
      "\n",
      "3.0\n"
     ]
    },
    {
     "data": {
      "text/plain": [
       "array(['b', 'c', 'd'], dtype=object)"
      ]
     },
     "execution_count": 74,
     "metadata": {},
     "output_type": "execute_result"
    }
   ],
   "source": [
    "# Create mappings between internal and external user and item ids.\n",
    "\n",
    "import numpy as np\n",
    "\n",
    "uidx_to_uid = np.sort(ratings_df.u.unique())\n",
    "iidx_to_iid = np.sort(ratings_df.i.unique())\n",
    "uid_to_uidx = {u:j for j, u in enumerate(uidx_to_uid)}\n",
    "iid_to_iidx = {i:j for j, i in enumerate(iidx_to_iid)}\n",
    "\n",
    "print(uidx_to_uid)\n",
    "print(iidx_to_iid)\n",
    "print(uid_to_uidx)\n",
    "print(iid_to_iidx)\n",
    "print()\n",
    "\n",
    "def rating(uid, iid):\n",
    "    # Your code here...\n",
    "\n",
    "def items_rated_by(uid):\n",
    "    return # Your code here... Hint: numpy.ndarray.nonzero() returns a subarray with the values that are not zero\n",
    "\n",
    "# Example how to get data from external ids through internal idxs.\n",
    "print(rating('v', 'd'))\n",
    "items_rated_by('v')"
   ]
  },
  {
   "cell_type": "markdown",
   "id": "10d237c9-8371-4243-8cc5-6e280e96cae6",
   "metadata": {},
   "source": [
    "## Computing a similarity matrix"
   ]
  },
  {
   "cell_type": "markdown",
   "id": "0a393da1-f7ab-470d-938e-8e06cd03f651",
   "metadata": {},
   "source": [
    "Example ratings matrix."
   ]
  },
  {
   "cell_type": "code",
   "execution_count": 75,
   "id": "351668c8-cc5e-4a66-9e13-6d0d75a995e1",
   "metadata": {},
   "outputs": [
    {
     "data": {
      "text/plain": [
       "array([[0, 4, 5, 3, 0],\n",
       "       [5, 2, 0, 0, 4],\n",
       "       [1, 4, 4, 0, 0],\n",
       "       [0, 0, 3, 5, 0]])"
      ]
     },
     "execution_count": 75,
     "metadata": {},
     "output_type": "execute_result"
    }
   ],
   "source": [
    "import numpy as np\n",
    "ratings_matrix = np.array([[0, 4, 5, 3, 0],\n",
    "                           [5, 2, 0, 0, 4],\n",
    "                           [1, 4, 4, 0, 0],\n",
    "                           [0, 0, 3, 5, 0]])\n",
    "ratings_matrix"
   ]
  },
  {
   "cell_type": "markdown",
   "id": "0a755ac9-d154-48cb-85bd-46270141b0cb",
   "metadata": {},
   "source": [
    "Compute dot products of all matrix rows against each other."
   ]
  },
  {
   "cell_type": "code",
   "execution_count": 76,
   "id": "535e1d64-dfdd-4289-9561-170f1166302f",
   "metadata": {},
   "outputs": [
    {
     "data": {
      "text/plain": [
       "array([[50,  8, 36, 30],\n",
       "       [ 8, 45, 13,  0],\n",
       "       [36, 13, 33, 12],\n",
       "       [30,  0, 12, 34]])"
      ]
     },
     "execution_count": 76,
     "metadata": {},
     "output_type": "execute_result"
    }
   ],
   "source": [
    "dots = # Your code here...\n",
    "dots"
   ]
  },
  {
   "cell_type": "markdown",
   "id": "14fd6d61-8c26-4033-a5a1-8d78fb3755c3",
   "metadata": {},
   "source": [
    "Get modulus of rows as the square of the dot product of each row against itself &mdash; hint: the data you need is already in the dot product matrix."
   ]
  },
  {
   "cell_type": "code",
   "execution_count": 77,
   "id": "cde2ad55-a784-4431-b3f0-0c8a929f219b",
   "metadata": {},
   "outputs": [
    {
     "data": {
      "text/plain": [
       "array([7.07106781, 6.70820393, 5.74456265, 5.83095189])"
      ]
     },
     "execution_count": 77,
     "metadata": {},
     "output_type": "execute_result"
    }
   ],
   "source": [
    "mods = # Your code here...\n",
    "mods[mods==0] = 1 # To avoid 0/0 later if some row is all zeros (and hence the row modulus is zero).\n",
    "mods"
   ]
  },
  {
   "cell_type": "markdown",
   "id": "5bc986c7-b498-4089-9132-056ea8e2ddaf",
   "metadata": {},
   "source": [
    "Divide all rows and all columns of the dot product matrix by the modulus of the corresponding original matrix row."
   ]
  },
  {
   "cell_type": "code",
   "execution_count": 78,
   "id": "3fa44970-2ca7-40ca-9f4e-2512518355d1",
   "metadata": {},
   "outputs": [
    {
     "data": {
      "text/plain": [
       "array([[1.        , 0.16865481, 0.88625874, 0.72760688],\n",
       "       [0.16865481, 1.        , 0.33734954, 0.        ],\n",
       "       [0.88625874, 0.33734954, 1.        , 0.35824886],\n",
       "       [0.72760688, 0.        , 0.35824886, 1.        ]])"
      ]
     },
     "execution_count": 78,
     "metadata": {},
     "output_type": "execute_result"
    }
   ],
   "source": [
    "sim = # Your code here...\n",
    "sim"
   ]
  },
  {
   "cell_type": "markdown",
   "id": "aaca166e-e3ff-4b73-bf45-04ceeb6fa178",
   "metadata": {},
   "source": [
    "Remove self-similarities: we don't want users to be their own neighbors."
   ]
  },
  {
   "cell_type": "code",
   "execution_count": 79,
   "id": "e1ab0278-43cd-45e7-b1ec-2d81105038dd",
   "metadata": {},
   "outputs": [
    {
     "data": {
      "text/plain": [
       "array([[0.        , 0.16865481, 0.88625874, 0.72760688],\n",
       "       [0.16865481, 0.        , 0.33734954, 0.        ],\n",
       "       [0.88625874, 0.33734954, 0.        , 0.35824886],\n",
       "       [0.72760688, 0.        , 0.35824886, 0.        ]])"
      ]
     },
     "execution_count": 79,
     "metadata": {},
     "output_type": "execute_result"
    }
   ],
   "source": [
    "# Your code here... Hint: can be done in just one np array operation.\n",
    "sim"
   ]
  },
  {
   "cell_type": "markdown",
   "id": "de35400b-37b7-4e34-8f84-71054d1d4901",
   "metadata": {},
   "source": [
    "Zero out all but top k similarities of each row."
   ]
  },
  {
   "cell_type": "code",
   "execution_count": 80,
   "id": "d7a194a6-4229-465d-a445-2ab08e9f1579",
   "metadata": {},
   "outputs": [
    {
     "name": "stdout",
     "output_type": "stream",
     "text": [
      "2 nearest users per user row:\n"
     ]
    },
    {
     "data": {
      "text/plain": [
       "array([[3, 2],\n",
       "       [0, 2],\n",
       "       [3, 0],\n",
       "       [2, 0]], dtype=int64)"
      ]
     },
     "metadata": {},
     "output_type": "display_data"
    },
    {
     "name": "stdout",
     "output_type": "stream",
     "text": [
      "\n",
      "In mask form:\n"
     ]
    },
    {
     "data": {
      "text/plain": [
       "array([[0., 0., 1., 1.],\n",
       "       [1., 0., 1., 0.],\n",
       "       [1., 0., 0., 1.],\n",
       "       [1., 0., 1., 0.]])"
      ]
     },
     "metadata": {},
     "output_type": "display_data"
    },
    {
     "name": "stdout",
     "output_type": "stream",
     "text": [
      "\n",
      "Top 2 sim matrix:\n"
     ]
    },
    {
     "data": {
      "text/plain": [
       "array([[0.        , 0.        , 0.88625874, 0.72760688],\n",
       "       [0.16865481, 0.        , 0.33734954, 0.        ],\n",
       "       [0.88625874, 0.        , 0.        , 0.35824886],\n",
       "       [0.72760688, 0.        , 0.35824886, 0.        ]])"
      ]
     },
     "execution_count": 80,
     "metadata": {},
     "output_type": "execute_result"
    }
   ],
   "source": [
    "from IPython.display import display\n",
    "\n",
    "# Given a matrix, returns a matrix of positions of top k values per row.\n",
    "def top_positions_per_row(m, k):\n",
    "    return np.argpartition(m, -k)[:, -k:]\n",
    "\n",
    "# Positions of top k sim values of each row.\n",
    "k = 2\n",
    "uidx = top_positions_per_row(sim, k)\n",
    "print(str(k) + ' nearest users per user row:')\n",
    "display(uidx)\n",
    "\n",
    "# Create mask with 1's on the top k of each row, 0 anywhere else.\n",
    "mask = np.zeros_like(sim)\n",
    "mask[np.arange(mask.shape[0]), uidx.T] = 1\n",
    "print('\\nIn mask form:')\n",
    "display(mask)\n",
    "\n",
    "# Apply mask to sim.\n",
    "knn_sim = # Your code here...\n",
    "print('\\nTop ' + str(k) + ' sim matrix:')\n",
    "knn_sim"
   ]
  },
  {
   "cell_type": "markdown",
   "id": "7e55f536-9679-4f4b-baa5-c19d73fe49dc",
   "metadata": {},
   "source": [
    "## Computing similarity-based recommendations"
   ]
  },
  {
   "cell_type": "markdown",
   "id": "96e82991-dc50-47dc-8a17-1a8bc5861528",
   "metadata": {},
   "source": [
    "Example data from previous steps."
   ]
  },
  {
   "cell_type": "code",
   "execution_count": 81,
   "id": "4078f7d5-39e2-4abd-8f3f-8093ab1addfd",
   "metadata": {},
   "outputs": [],
   "source": [
    "knn_sim = np.array([[0, 0, 0.88625874, 0.72760688],\n",
    "                    [0.16865481, 0, 0.33734954, 0],\n",
    "                    [0.88625874, 0, 0, 0.35824886],\n",
    "                    [0.72760688, 0, 0.35824886, 0]])"
   ]
  },
  {
   "cell_type": "markdown",
   "id": "b5ee47bd-4e0f-4de0-9be7-f948c8593a64",
   "metadata": {},
   "source": [
    "Can you now create a matrix of user/item scores?"
   ]
  },
  {
   "cell_type": "code",
   "execution_count": 82,
   "id": "662f1155-1879-4196-be26-2ed9ab110461",
   "metadata": {},
   "outputs": [
    {
     "data": {
      "text/plain": [
       "array([[0.88625874, 3.54503496, 5.7278556 , 3.6380344 , 0.        ],\n",
       "       [0.33734954, 2.0240174 , 2.19267221, 0.50596443, 0.        ],\n",
       "       [0.        , 3.54503496, 5.50604028, 4.45002052, 0.        ],\n",
       "       [0.35824886, 4.34342296, 5.07102984, 2.18282064, 0.        ]])"
      ]
     },
     "execution_count": 82,
     "metadata": {},
     "output_type": "execute_result"
    }
   ],
   "source": [
    "scores = # Your code here...\n",
    "scores"
   ]
  },
  {
   "cell_type": "markdown",
   "id": "14115ba3-ff08-4d1e-950e-4d1b132ec647",
   "metadata": {},
   "source": [
    "Now cancel out any scores for user/item pairs in the original ratings (we don't want to recommend items that the user had already rated)."
   ]
  },
  {
   "cell_type": "code",
   "execution_count": 83,
   "id": "d6b915e0-bc0b-4aa8-b38b-f8dd8477fb06",
   "metadata": {},
   "outputs": [
    {
     "name": "stdout",
     "output_type": "stream",
     "text": [
      "Mask:\n"
     ]
    },
    {
     "data": {
      "text/plain": [
       "array([[ True, False, False, False,  True],\n",
       "       [False, False,  True,  True, False],\n",
       "       [False, False, False,  True,  True],\n",
       "       [ True,  True, False, False,  True]])"
      ]
     },
     "metadata": {},
     "output_type": "display_data"
    },
    {
     "name": "stdout",
     "output_type": "stream",
     "text": [
      "\n",
      "Scores:\n"
     ]
    },
    {
     "data": {
      "text/plain": [
       "array([[0.88625874, 0.        , 0.        , 0.        , 0.        ],\n",
       "       [0.        , 0.        , 2.19267221, 0.50596443, 0.        ],\n",
       "       [0.        , 0.        , 0.        , 4.45002052, 0.        ],\n",
       "       [0.35824886, 4.34342296, 0.        , 0.        , 0.        ]])"
      ]
     },
     "execution_count": 83,
     "metadata": {},
     "output_type": "execute_result"
    }
   ],
   "source": [
    "print('Mask:')\n",
    "display(ratings_matrix == 0)\n",
    "scores = # Your code here...\n",
    "print('\\nScores:')\n",
    "scores"
   ]
  },
  {
   "cell_type": "markdown",
   "id": "9d57f534-45bf-4c68-bf82-0f9d995e620a",
   "metadata": {},
   "source": [
    "Now from scores create ordered top n rankings, back to external user and item ids."
   ]
  },
  {
   "cell_type": "code",
   "execution_count": 88,
   "id": "b2f6dae1-1e77-41ff-bcec-9dc7cfcd6749",
   "metadata": {
    "tags": []
   },
   "outputs": [
    {
     "name": "stdout",
     "output_type": "stream",
     "text": [
      "Ranked top item iidx per user rows:\n"
     ]
    },
    {
     "data": {
      "text/plain": [
       "array([[0, 1],\n",
       "       [2, 3],\n",
       "       [3, 4],\n",
       "       [1, 0]], dtype=int64)"
      ]
     },
     "metadata": {},
     "output_type": "display_data"
    },
    {
     "name": "stdout",
     "output_type": "stream",
     "text": [
      "\n",
      "Recommendations!\n"
     ]
    },
    {
     "data": {
      "text/plain": [
       "{'v': [('a', 0.88625874)],\n",
       " 'x': [('c', 2.19267221), ('d', 0.5059644299999999)],\n",
       " 'y': [('d', 4.45002052)],\n",
       " 'z': [('b', 4.34342296), ('a', 0.35824886)]}"
      ]
     },
     "execution_count": 88,
     "metadata": {},
     "output_type": "execute_result"
    }
   ],
   "source": [
    "def get_elements(m, indices):\n",
    "    return np.array([s[t] for s, t in zip(m, indices)])\n",
    "\n",
    "n = 2\n",
    "top_iidx = top_positions_per_row(scores, n)\n",
    "# Sort because top_positions_per_row returns the top unsorted.\n",
    "ranked_iidx = get_elements(top_iidx, np.argsort(get_elements(scores, top_iidx))[:, ::-1])\n",
    "print('Ranked top item iidx per user rows:')\n",
    "display(ranked_iidx)\n",
    "\n",
    "# And now get the ranked uids and scores.\n",
    "ranked_iids = iidx_to_iid[ranked_iidx]\n",
    "rank_scores = get_elements(scores, ranked_iidx)\n",
    "\n",
    "recs = {uid : [(iid, score) for iid, score in zip(ranked_iids[uidx], rank_scores[uidx]) if score > 0] \n",
    "        for uidx, uid in enumerate(uidx_to_uid)} \n",
    "print('\\nRecommendations!')\n",
    "recs"
   ]
  }
 ],
 "metadata": {
  "kernelspec": {
   "display_name": "Python 3 (ipykernel)",
   "language": "python",
   "name": "python3"
  },
  "language_info": {
   "codemirror_mode": {
    "name": "ipython",
    "version": 3
   },
   "file_extension": ".py",
   "mimetype": "text/x-python",
   "name": "python",
   "nbconvert_exporter": "python",
   "pygments_lexer": "ipython3",
   "version": "3.9.7"
  }
 },
 "nbformat": 4,
 "nbformat_minor": 5
}
