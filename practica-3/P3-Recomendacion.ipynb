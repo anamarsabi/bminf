{
 "cells": [
  {
   "cell_type": "markdown",
   "metadata": {},
   "source": [
    "Copyright (C) 2023 Pablo Castells y Alejandro Bellogín\n",
    "\n",
    "El código que contiene este notebook se ha implementado para la realización de las prácticas de la asignatura \"Búsqueda y minería de información\" de 4º del Grado en Ingeniería Informática, impartido en la Escuela Politécnica Superior de la Universidad Autónoma de Madrid. El fin del mismo, así como su uso, se ciñe a las actividades docentes de dicha asignatura."
   ]
  },
  {
   "cell_type": "markdown",
   "metadata": {
    "id": "ZKBXprvhpqQr"
   },
   "source": [
    "### **Búsqueda y Minería de Información 2022-23**\n",
    "### Universidad Autónoma de Madrid, Escuela Politécnica Superior\n",
    "### Grado en Ingeniería Informática, 4º curso\n",
    "\n",
    "# Bloque 1 &ndash; Sistemas de recomendación\n",
    "\n",
    "Fechas:\n",
    "\n",
    "* Comienzo: martes 28 / jueves 30 de marzo\n",
    "* Entrega: lunes 8 de mayo, 23:59\n",
    "\n",
    "## Objetivos\n",
    "\n",
    "Este primer bloque de la práctica tiene por objetivo la implementación y evaluación eficiente de sistemas de recomendación. En este bloque se desarrollarán:\n",
    "\n",
    "* Estructuras para el manejo de datos de interacción entre usuarios e items (\"ratings\" para simplificar).\n",
    "* Algoritmos de recomendación basada en filtrado colaborativo.\n",
    "* Métricas de evaluación de sistemas de recomendación.\n",
    "\n",
    "## Material proporcionado\n",
    "\n",
    "Se proporcionan software y datos para la realización de la práctica:\n",
    "\n",
    "* Un esqueleto de clases y funciones donde el estudiante desarrollará sus implementaciones. \n",
    "  - De modo similar a las prácticas anteriores, se proporciona una celda de prueba al final de este notebook que deberá funcionar con las implementaciones del estudiante.\n",
    "  - Junto a la celda de prueba en este mismo notebook, se muestra como referencia un ejemplo de salida generada con una implementación de los profesores.\n",
    "* Los siguientes conjuntos de datos de ratings por usuarios a items:\n",
    "  - Dos conjuntos de juguete para prueba y depuración: <ins>toy1.csv</ins> (se genera en Matrices.ipynb) y <ins>toy2.csv</ins> (proporcionado en el curso Moodle) con ratings ficticios.\n",
    "  - Un conjunto de datos reales de ratings a películas: *ml-1m.zip* disponible en la Web de [MovieLens](https://grouplens.org/datasets/movielens/1m). De los archivos disponibles, se utilizará sólamente <ins>ratings.dat</ins>, añadiéndole una cabecera `u::i::r::t`.\n",
    "  \n",
    "Los esqueletos de código que se proporcionan aquí son a modo de guía: el estudiante puede modificarlo todo libremente, siempre que la celda de prueba funcione correctamente **sin cambios**.\n",
    "\n",
    "## Calificación\n",
    "\n",
    "El peso de esta práctica (recomendación + redes sociales) en la nota final de prácticas es del **40%**.\n",
    "\n",
    "La calificación se basará en el **número** de ejercicios realizados y la **calidad** de los mismos. La puntuación que se indica en cada apartado es orientativa, en principio se aplicará tal cual se refleja pero podrá matizarse por criterios de buen sentido si se da el caso.\n",
    "\n",
    "Para dar por válida la realización de un ejercicio, el código deberá funcionar (a la primera) integrado con las clases que se facilitan. El profesor comprobará este aspecto ejecutando la celda de prueba y otras adicionales.\n",
    "\n",
    "La corrección de las implementaciones se observará por la **coherencia de los resultados** (por ejemplo, las métricas sobre los algoritmos de recomendación), y se valorará la eficiencia en tiempo de ejecución.\n",
    "\n",
    "## Entrega\n",
    "\n",
    "La entrega consistirá en dos ficheros tipo *notebook* (uno para recomendación y otro para redes sociales) donde se incluirán todas las **implementaciones** solicitadas en cada ejercicio, así como una explicación de cada uno a modo de **memoria**.\n",
    "\n",
    "## Indicaciones\n",
    "\n",
    "La realización de los ejercicios conducirá en muchos casos a la implementación de funciones y/o clases adicionales a las que se indican en el enunciado. Algunas vendrán dadas por su aparición en los propias celdas de prueba, y otras por conveniencia a criterio del estudiante.\n",
    "\n",
    "Igual que en prácticas anteriores, no deberán editarse las celdas de prueba. Estas celdas deberán ejecutar sin errores a la primera con el código entregado por el estudiante (naturalmente con salvedad de los ejercicios que no se hayan implementado."
   ]
  },
  {
   "cell_type": "markdown",
   "metadata": {
    "tags": []
   },
   "source": [
    "## Ejercicio 1: Estructuras de datos y recomendación simple (2pt)\n",
    "\n",
    "#### 1.1 &nbsp; Estructuras de datos\n",
    "\n",
    "Implementar las clases necesarias para manejar **datos de entrada y prueba** (ratings) para los algoritmos de recomendación. La funcionalidad se implementará en una clase Ratings, que permitirá leer los datos de un fichero de texto, así como un método que genere dos particiones aleatorias de entrenamiento y test, para evaluar y comparar la efectividad de diferentes algoritmos de recomendación."
   ]
  },
  {
   "cell_type": "code",
   "execution_count": 13,
   "metadata": {
    "tags": []
   },
   "outputs": [],
   "source": [
    "import numpy as np\n",
    "import pandas as pd\n",
    "\n",
    "class Ratings:\n",
    "    def __init__(self, file=None, sep=',', df=None):\n",
    "        # Código aquí...\n",
    "        if file is not None:\n",
    "            self.ratings_df=pd.read_csv(filepath_or_buffer=file, sep = sep)\n",
    "        elif df is not None:\n",
    "            self.ratings_df=df\n",
    "        else:\n",
    "            raise Exception(\"No se ha especificado un fichero ni un dataframe\")\n",
    "\n",
    "        self.uids=self.ratings_df.u.unique()\n",
    "        self.iids=self.ratings_df.i.unique()\n",
    "        matrix = self.ratings_df.pivot(index='u', columns='i', values='r')\n",
    "        matrix = matrix.fillna(0)\n",
    "        self.m = matrix.to_numpy()\n",
    "\n",
    "        self.uidx_to_uid_dict = np.sort(self.ratings_df.u.unique())\n",
    "        self.iidx_to_iid_dict = np.sort(self.ratings_df.i.unique())\n",
    "        self.uid_to_uidx_dict = {u:j for j, u in enumerate(self.uidx_to_uid_dict)}\n",
    "        self.iid_to_iidx_dict = {i:j for j, i in enumerate(self.iidx_to_iid_dict)}\n",
    "\n",
    "    def matrix(self):\n",
    "        # Código aquí...\n",
    "        return self.m\n",
    "\n",
    "    def nusers(self):\n",
    "        return self.m.shape[0]\n",
    "\n",
    "    def nitems(self):\n",
    "        # Código aquí...\n",
    "        return self.m.shape[1]\n",
    "\n",
    "    # uidx can be an int or an array-like of ints.\n",
    "    def uidx_to_uid(self, uidx):\n",
    "        # Código aquí...\n",
    "        return self.uidx_to_uid_dict[uidx]\n",
    "\n",
    "    # iidx can be an int or an array-like of ints.\n",
    "    def iidx_to_iid(self, iidx):\n",
    "        # Código aquí...\n",
    "        return self.iidx_to_iid_dict[iidx]\n",
    "\n",
    "    # uid can be an int or an array-like of ints.\n",
    "    def uid_to_uidx(self, uid):\n",
    "        # Código aquí...\n",
    "        return self.uid_to_uidx_dict[uid]\n",
    "\n",
    "    # iid can be an int or an array-like of ints.\n",
    "    def iid_to_iidx(self, iid):\n",
    "        # Código aquí...\n",
    "        return self.iid_to_iidx_dict[iid]\n",
    "\n",
    "    def iidx_rated_by(self, uidx):\n",
    "        # Código aquí...\n",
    "        # Distintos de cero por filas\n",
    "        positions = np.where(self.m[uidx,:]!=0)\n",
    "        return positions\n",
    "\n",
    "    def uidx_who_rated(self, iidx):\n",
    "        # Código aquí...\n",
    "        # Distintos de cero por columnas\n",
    "        positions = np.where(self.m[:,iidx]!=0)\n",
    "        return positions\n",
    "\n",
    "\n",
    "    def random_split(self, ratio):\n",
    "        # Código aquí...\n",
    "        # Devuelve dos objetos ratings\n",
    "        # Usar pandas.DataFrame.Sample sobre self.ratings_df para obtener los dataframes \n",
    "        # train y test y crear un objeto Ratings a partir de esos dataframes. \n",
    "\n",
    "        # Dividimos el dataframe en dos partes\n",
    "        df1 = self.ratings_df.sample(frac=ratio)\n",
    "        df2 = self.ratings_df.loc[~self.ratings_df.index.isin(df1.index)]\n",
    "\n",
    "        # Creamos los objetos Ratings\n",
    "        ratings1 = Ratings(df=df1)\n",
    "        ratings2 = Ratings(df=df2)\n",
    "\n",
    "        return ratings1, ratings2\n",
    "\n",
    "    #\n",
    "    # The remaining functions are just for debugging purposes\n",
    "    #\n",
    "\n",
    "    def rating(self, uid, iid):\n",
    "        # Código aquí...\n",
    "        uidx=self.uid_to_uidx(uid)\n",
    "        iidx=self.iid_to_iidx(iid)\n",
    "        return self.m[uidx,iidx]\n",
    "\n",
    "    def items_rated_by(self, uid):\n",
    "        # Código aquí...\n",
    "        uidx=self.uid_to_uidx(uid)\n",
    "        return self.iidx_to_iid(self.iidx_rated_by(uidx))\n",
    "\n",
    "    def users_who_rated(self, iid):\n",
    "        # Código aquí...\n",
    "        iidx=self.iid_to_iidx(iid)\n",
    "        return self.uidx_to_uid(self.uidx_who_rated(iidx))\n",
    "\n",
    "    def user_ratings(self, uid):\n",
    "        # Código aquí...\n",
    "        return self.m[self.uid_to_uidx(uid),:]\n",
    "\n",
    "    def item_ratings(self, iid):\n",
    "        # Código aquí...\n",
    "        return self.m[:,self.iid_to_iidx(iid)]\n",
    "\n",
    "    def nratings(self):\n",
    "        # Código aquí...\n",
    "        return np.count_nonzero(self.m)\n",
    "\n",
    "    # To inspect random data splits.\n",
    "    def save(self, file):\n",
    "        df = pd.DataFrame(columns=self.iids, index=self.uids, data=self.m).unstack().reset_index(name='r')\n",
    "        df.columns = ['i', 'u', 'r']\n",
    "        df = df[df.r>0][['u', 'i', 'r']].sort_values(by=['u', 'i'])\n",
    "        df.to_csv(file, index=False)\n",
    "\n",
    "# Just for pretty-printing numbers.\n",
    "def fround(x, n=20):\n",
    "    r = round(x)\n",
    "    rn = round(x, n)\n",
    "    return r if rn == r else rn"
   ]
  },
  {
   "cell_type": "markdown",
   "metadata": {},
   "source": [
    "#### 1.2 &nbsp;  Recomendaciones: métodos simples no personalizados\n",
    "\n",
    "La **salida** de un recomendador consistirá en un diccionario con un ránking por usuario. \n",
    "\n",
    "Implementar un primer **recomendador simple** por rating promedio en una clase `AverageRecommender`. El recomendador sólo recomendará items que tengan un mínimo número de ratings, que se indicará como parámetro en el constructor (con ello se mejora el acierto de la recomendación). Se proporciona una clase `MajorityRecommender` a modo de ejemplo en el que el estudiante podrá basarse, así como `RandomRecommender`, que se utiliza en ocasiones como referencia en experimentos. \n",
    "\n",
    "**Importante**: recordar que no deben recomendarse los items que los usuarios ya hayan puntuado."
   ]
  },
  {
   "cell_type": "code",
   "execution_count": 26,
   "metadata": {},
   "outputs": [
    {
     "name": "stdout",
     "output_type": "stream",
     "text": [
      "[[4 3 2]\n",
      " [4 3 2]\n",
      " [4 3 2]]\n",
      "[[1 3]\n",
      " [3 5]]\n",
      "[[1 5]\n",
      " [3 5]]\n"
     ]
    }
   ],
   "source": [
    "# Ejemplos míos para entender las funciones de la celda siguiente.\n",
    "\n",
    "def top_positions_per_row(m, k):\n",
    "    return np.sort(np.argpartition(m, -k)[:, -k:], axis=1)[:, ::-1]\n",
    "\n",
    "def get_elements(m, indices, cutoff=np.inf):\n",
    "    return np.array([s[t[0:min(cutoff, len(t))]] for s, t in zip(m, indices)])\n",
    "\n",
    "matrix = np.array([[1, 2, 3, 4, 5],[3,4,5,6,7], [5,6,7,8,9]])\n",
    "\n",
    "print(top_positions_per_row(matrix, 3))\n",
    "\n",
    "print(get_elements(matrix, [[0,2],[0,2]]))\n",
    "\n",
    "aux = np.array([[0,4],[0,2]])\n",
    "\n",
    "print(get_elements(matrix, aux))"
   ]
  },
  {
   "cell_type": "code",
   "execution_count": 86,
   "metadata": {
    "tags": []
   },
   "outputs": [],
   "source": [
    "# Suggestion: compute the scores in the recommenders' constructor.\n",
    "\n",
    "from itertools import islice\n",
    "\n",
    "# Given a matrix, returns a matrix of positions of top k values per row.\n",
    "def top_positions_per_row(m, k):\n",
    "    return np.sort(np.argpartition(m, -k)[:, -k:], axis=1)[:, ::-1]\n",
    "\n",
    "# Given a matrix and a set of indices per rows, returns the matrix values for the indices. \n",
    "# This function is used in the Recommender class and metrics classes.\n",
    "def get_elements(m, indices, cutoff=np.inf):\n",
    "    return np.array([s[t[0:min(cutoff, len(t))]] for s, t in zip(m, indices)])\n",
    "\n",
    "class Recommendation:\n",
    "    def __init__(self, scores, n, training):\n",
    "        # Código aquí...\n",
    "        # Indicación: generar aquí los ránkings de scores, de iidx's y de iids.\n",
    "        self.scores = scores\n",
    "\n",
    "        top_iidx = top_positions_per_row(scores, n)\n",
    "        # Sort because top_positions_per_row returns the top unsorted.\n",
    "        self.ranked_iidx = get_elements(top_iidx, np.argsort(get_elements(scores, top_iidx))[:, ::-1])\n",
    "\n",
    "        # And now get the ranked uids and scores.\n",
    "        ranked_iids = training.iidx_to_iid(self.ranked_iidx)\n",
    "        rank_scores = get_elements(scores, self.ranked_iidx)\n",
    "\n",
    "        self._recommendation = {uid : [(iid, score) for iid, score in zip(ranked_iids[uidx], rank_scores[uidx]) if score > 0]\n",
    "                for uidx, uid in enumerate(training.uidx_to_uid_dict)}\n",
    "\n",
    "    def ranked_iidx(self):\n",
    "        # Código aquí...\n",
    "        return self.ranked_iidx\n",
    "\n",
    "    def recommendation(self, uid):\n",
    "        # Código aquí...\n",
    "        return self._recommendation[uid]\n",
    "\n",
    "    # Format the recommendation as a string for the first n users. Trim scores to 4 decimal digits.\n",
    "    def display(self, n):\n",
    "        r = ''\n",
    "        for uid in islice(self._recommendation, n):\n",
    "            r += f'    User {uid} -> <' \n",
    "            for iid, score in self.recommendation(uid): \n",
    "                r += f'{iid}:' + str(fround(score, 4)) + ' '\n",
    "            r = (r[:-1] + '>\\n') if len(self.recommendation(uid)) > 0 else r + 'empty>\\n'\n",
    "        return r[:-1]\n",
    "\n",
    "class Recommender():\n",
    "    def __init__(self, training):\n",
    "        self.training = training\n",
    "\n",
    "    def __repr__(self):\n",
    "        return type(self).__name__\n",
    "\n",
    "    def recommend(self, n):\n",
    "        return Recommendation(self.scores, n, self.training)\n",
    "\n",
    "class RandomRecommender(Recommender):\n",
    "    def __init__(self, training):\n",
    "        super().__init__(training)\n",
    "        self.scores = np.random.random(training.matrix().shape)\n",
    "\n",
    "class MajorityRecommender(Recommender):\n",
    "    def __init__(self, training, threshold=0):\n",
    "        super().__init__(training)\n",
    "        # training.matrix() >= threshold creates a mask with 'True' on relevant ratings and 'False' anywhere\n",
    "        # else. Thus 'pop' is an array with the counts of relevant ratings of each item.\n",
    "        pop = np.sum(training.matrix() >= threshold, axis=0)\n",
    "        # This product by a vector of ones (of user-row length) creates a matrix where the pop vector gets\n",
    "        # copied on all rows; the recommendation is not personalized and ranking is the same for all users \n",
    "        # -- except of course in the end different training items will be filtered out for different users.\n",
    "        self.scores = np.outer(np.ones(training.nusers()), pop)\n",
    "\n",
    "class AverageRecommender(Recommender):\n",
    "    def __init__(self, training, minr=0):\n",
    "        pass"
   ]
  },
  {
   "cell_type": "code",
   "execution_count": 89,
   "metadata": {},
   "outputs": [
    {
     "data": {
      "text/plain": [
       "array([[1, 4, 2],\n",
       "       [1, 4, 0],\n",
       "       [1, 4, 2],\n",
       "       [0, 4, 1]])"
      ]
     },
     "metadata": {},
     "output_type": "display_data"
    },
    {
     "data": {
      "text/plain": [
       "{'v': [('b', 0.9180919510072652),\n",
       "  ('e', 0.6423517493634607),\n",
       "  ('c', 0.5796808925609634)],\n",
       " 'x': [('b', 0.5510791485078967),\n",
       "  ('e', 0.5140544718305786),\n",
       "  ('a', 0.25402523104035724)],\n",
       " 'y': [('b', 0.8518536993666015),\n",
       "  ('e', 0.5854320747459787),\n",
       "  ('c', 0.39554382979754565)],\n",
       " 'z': [('a', 0.746836371748599),\n",
       "  ('e', 0.6863620495937504),\n",
       "  ('b', 0.6089886142207679)]}"
      ]
     },
     "metadata": {},
     "output_type": "display_data"
    },
    {
     "name": "stdout",
     "output_type": "stream",
     "text": [
      "    User v -> <b:0.9181 e:0.6424 c:0.5797>\n",
      "    User x -> <b:0.5511 e:0.5141 a:0.254>\n",
      "    User y -> <b:0.8519 e:0.5854 c:0.3955>\n"
     ]
    }
   ],
   "source": [
    "ratings = Ratings('recsys-data/toy1.csv', sep=',')\n",
    "\n",
    "rec = RandomRecommender(ratings)\n",
    "rec = rec.recommend(3)\n",
    "display(rec.ranked_iidx)\n",
    "display(rec._recommendation)\n",
    "print(rec.display(3))"
   ]
  },
  {
   "cell_type": "markdown",
   "metadata": {
    "id": "r3YGEGm7haop",
    "tags": []
   },
   "source": [
    "### Ejercicio 1 &ndash; Explicación/documentación\n",
    "\n",
    "(por hacer)"
   ]
  },
  {
   "cell_type": "markdown",
   "metadata": {
    "id": "r3ti8qGedgNB",
    "tags": []
   },
   "source": [
    "## Ejercicio 2: Filtrado colaborativo kNN (2pt)\n",
    "\n",
    "Implementar un algoritmo de filtrado colaborativo mediante vecinos próximos orientado a usuarios por *similitud coseno* (sin normalizar por la suma de similitudes). "
   ]
  },
  {
   "cell_type": "code",
   "execution_count": 90,
   "metadata": {
    "id": "wzZ-6OG0dvwX",
    "tags": []
   },
   "outputs": [
    {
     "ename": "IndentationError",
     "evalue": "expected an indented block (1650492685.py, line 5)",
     "output_type": "error",
     "traceback": [
      "\u001b[0;36m  Cell \u001b[0;32mIn [90], line 5\u001b[0;36m\u001b[0m\n\u001b[0;31m    class UserKNNRecommender(Recommender):\u001b[0m\n\u001b[0m                                          ^\u001b[0m\n\u001b[0;31mIndentationError\u001b[0m\u001b[0;31m:\u001b[0m expected an indented block\n"
     ]
    }
   ],
   "source": [
    "class CosineUserSimilarity:\n",
    "    def __init__(self, training):\n",
    "        # Código aquí...\n",
    "\n",
    "class UserKNNRecommender(Recommender):\n",
    "    def __init__(self, training, sim, k):\n",
    "        super().__init__(training)\n",
    "        # Código aquí..."
   ]
  },
  {
   "cell_type": "markdown",
   "metadata": {},
   "source": [
    "### Ejercicio 2 &ndash; Explicación/documentación\n",
    "\n",
    "(por hacer)"
   ]
  },
  {
   "cell_type": "markdown",
   "metadata": {
    "id": "fVzsIg0Zev7a",
    "tags": []
   },
   "source": [
    "## Ejercicio 3: Evaluación (1pt)\n",
    "\n",
    "Se desarrollarán clases que permitan calcular métricas para evaluar y comparar el acierto de los recomendadores: se implementarán **precisión** y **recall**. \n",
    "\n",
    "Como resumen de este bloque, se incluirá una *tabla con los valores de las métricas* (dos columnas) más el tiempo de ejecución (una columna más) sobre todos los algoritmos implementados (filas), al menos para el conjunto de datos de <ins>MovieLens 1M</ins>. En el caso de ser capaces de procesar un conjunto de datos más grande, se documentará el tamaño en RAM de la matriz de ratings.\n",
    "\n",
    "<!-- Opcionalmente, se podrán implementar otras métricas a elección del estudiante (nDCG, etc.), cuya prueba se incluirá en la función `student_test()` del ejercicio 4 (\"ampliaciones\"). -->"
   ]
  },
  {
   "cell_type": "code",
   "execution_count": null,
   "metadata": {
    "id": "VqSKneeSe2bN",
    "tags": []
   },
   "outputs": [],
   "source": [
    "class Metric():\n",
    "    def __init__(self, test, cutoff):\n",
    "        self.test = test\n",
    "        self.cutoff = cutoff\n",
    "\n",
    "    def __repr__(self):\n",
    "        return type(self).__name__ + ('@' + str(self.cutoff) if self.cutoff != np.inf else '')\n",
    "\n",
    "class Precision(Metric):\n",
    "    def __init__(self, test, cutoff=np.inf, threshold=1):\n",
    "        super().__init__(test, cutoff)\n",
    "        # Código aquí...\n",
    "\n",
    "    def compute(self, recommendation):\n",
    "        # Código aquí...\n",
    "        \n",
    "class Recall(Metric):\n",
    "    def __init__(self, test, cutoff=np.inf, threshold=1):\n",
    "        super().__init__(test, cutoff)\n",
    "        # Código aquí...\n",
    "\n",
    "    def compute(self, recommendation):\n",
    "        # Código aquí..."
   ]
  },
  {
   "cell_type": "markdown",
   "metadata": {
    "id": "HJDzjUp-hwNZ",
    "tags": []
   },
   "source": [
    "### Ejercicio 3 &ndash; Explicación/documentación\n",
    "\n",
    "(por hacer)\n",
    "\n",
    "Ejemplo de tabla de resumen:\n",
    "\n",
    "||Precision@K|Recall@K|Tiempo de ejecución\n",
    "|-|:-:|:-:|:-:\n",
    "|Algoritmo 1|...|...|...\n",
    "|Algoritmo 2|...|...|...\n",
    "|...|...|...|...\n",
    "|Algoritmo n|...|...|..."
   ]
  },
  {
   "cell_type": "markdown",
   "metadata": {
    "id": "hpXHr18Cdl2Q",
    "tags": []
   },
   "source": [
    "## Ejercicio 4: Ampliaciones (1pt)\n",
    "\n",
    "Elegir uno de los siguientes ejercicios:\n",
    "\n",
    "* Implementar dos variantes de kNN a elección del estudiante, por ejemplo: kNN normalizado, vecinos próximos orientado a item, similitud de Pearson, kNN centrado en la media. Indicación: para kNN normalizado el algoritmo exigirá un mínimo de ratings de vecinos para aceptar recomendar un item (con ello se mejora el acierto de la recomendación, de forma similar a la recomendación por rating promedio).\n",
    "* Implementar filtrado colaborativo mediante factorización de matrices.\n",
    "* Crear una implementación de las estructuras de ratings con matrices dispersas, de forma que sea posible generar recomendaciones sobre conjuntos de datos más grandes, tales como [MovieLens 10M](https://grouplens.org/datasets/movielens/10m) y [MovieLens 25M](https://grouplens.org/datasets/movielens/25m).\n",
    "\n",
    "Para probar las implementaciones deberá completarse la función `student_test()` para ilustrar la ejecución de las variantes adicionales, y se incluirán las filas que correspondan en la tabla del apartado anterior."
   ]
  },
  {
   "cell_type": "code",
   "execution_count": null,
   "metadata": {
    "id": "MOfT2yZGpMNi",
    "tags": []
   },
   "outputs": [],
   "source": [
    "# Código aquí: clases, funciones...\n",
    "\n",
    "def student_test():\n",
    "    # Código de prueba aquí..."
   ]
  },
  {
   "cell_type": "markdown",
   "metadata": {
    "id": "ucORmwfCh4Um",
    "tags": []
   },
   "source": [
    "### Ejercicio 4 &ndash; Explicación/documentación\n",
    "\n",
    "(por hacer)"
   ]
  },
  {
   "cell_type": "markdown",
   "metadata": {},
   "source": [
    "## Celda de prueba\n",
    "\n",
    "Descarga los ficheros de datos y coloca sus contenidos en una carpeta **recsys-data** en el mismo directorio que este *notebook*."
   ]
  },
  {
   "cell_type": "code",
   "execution_count": null,
   "metadata": {
    "tags": []
   },
   "outputs": [
    {
     "name": "stdout",
     "output_type": "stream",
     "text": [
      "=========================\n",
      "Testing toy 1 dataset\n",
      "\u001b[34mReading the data at 18:52:33...\u001b[0m\n",
      "Ratings matrix takes 0.0 MB in RAM\n",
      "\u001b[34m--> elapsed time: 0:00:00 <--\u001b[0m\n",
      "-------------------------\n",
      "Testing the ratings data structures\n",
      "11 ratings by 4 users on 5 items\n",
      "Ratings of user v: [0. 4. 5. 3. 0.]\n",
      "Ratings of item b: [4. 2. 4. 0.]\n"
     ]
    },
    {
     "ename": "NameError",
     "evalue": "name 'Precision' is not defined",
     "output_type": "error",
     "traceback": [
      "\u001b[0;31m---------------------------------------------------------------------------\u001b[0m",
      "\u001b[0;31mNameError\u001b[0m                                 Traceback (most recent call last)",
      "\u001b[1;32m/home/xu/Escritorio/Universidad/BMINF/Practicas/bminf/practica-3/P3-Recomendacion.ipynb Cell 20\u001b[0m in \u001b[0;36m7\n\u001b[1;32m     <a href='vscode-notebook-cell:/home/xu/Escritorio/Universidad/BMINF/Practicas/bminf/practica-3/P3-Recomendacion.ipynb#X24sZmlsZQ%3D%3D?line=74'>75</a>\u001b[0m np\u001b[39m.\u001b[39mrandom\u001b[39m.\u001b[39mseed(\u001b[39m0\u001b[39m)\n\u001b[1;32m     <a href='vscode-notebook-cell:/home/xu/Escritorio/Universidad/BMINF/Practicas/bminf/practica-3/P3-Recomendacion.ipynb#X24sZmlsZQ%3D%3D?line=75'>76</a>\u001b[0m \u001b[39mprint\u001b[39m(\u001b[39m'\u001b[39m\u001b[39m=========================\u001b[39m\u001b[39m\\n\u001b[39;00m\u001b[39mTesting toy 1 dataset\u001b[39m\u001b[39m'\u001b[39m)\n\u001b[0;32m---> <a href='vscode-notebook-cell:/home/xu/Escritorio/Universidad/BMINF/Practicas/bminf/practica-3/P3-Recomendacion.ipynb#X24sZmlsZQ%3D%3D?line=76'>77</a>\u001b[0m test(\u001b[39m'\u001b[39;49m\u001b[39mrecsys-data/toy1.csv\u001b[39;49m\u001b[39m'\u001b[39;49m, example_user\u001b[39m=\u001b[39;49m\u001b[39m'\u001b[39;49m\u001b[39mv\u001b[39;49m\u001b[39m'\u001b[39;49m, example_item\u001b[39m=\u001b[39;49m\u001b[39m'\u001b[39;49m\u001b[39mb\u001b[39;49m\u001b[39m'\u001b[39;49m, k\u001b[39m=\u001b[39;49m\u001b[39m4\u001b[39;49m, minr\u001b[39m=\u001b[39;49m\u001b[39m2\u001b[39;49m, topn\u001b[39m=\u001b[39;49m\u001b[39m4\u001b[39;49m, cutoff\u001b[39m=\u001b[39;49m\u001b[39m4\u001b[39;49m)\n\u001b[1;32m     <a href='vscode-notebook-cell:/home/xu/Escritorio/Universidad/BMINF/Practicas/bminf/practica-3/P3-Recomendacion.ipynb#X24sZmlsZQ%3D%3D?line=77'>78</a>\u001b[0m \u001b[39mprint\u001b[39m(\u001b[39m'\u001b[39m\u001b[39m=========================\u001b[39m\u001b[39m\\n\u001b[39;00m\u001b[39mTesting toy 2 dataset\u001b[39m\u001b[39m'\u001b[39m)\n\u001b[1;32m     <a href='vscode-notebook-cell:/home/xu/Escritorio/Universidad/BMINF/Practicas/bminf/practica-3/P3-Recomendacion.ipynb#X24sZmlsZQ%3D%3D?line=78'>79</a>\u001b[0m test(\u001b[39m'\u001b[39m\u001b[39mrecsys-data/toy2.csv\u001b[39m\u001b[39m'\u001b[39m, example_user\u001b[39m=\u001b[39m\u001b[39m1\u001b[39m, example_item\u001b[39m=\u001b[39m\u001b[39m2\u001b[39m, k\u001b[39m=\u001b[39m\u001b[39m4\u001b[39m, minr\u001b[39m=\u001b[39m\u001b[39m2\u001b[39m, topn\u001b[39m=\u001b[39m\u001b[39m4\u001b[39m, cutoff\u001b[39m=\u001b[39m\u001b[39m4\u001b[39m)\n",
      "\u001b[1;32m/home/xu/Escritorio/Universidad/BMINF/Practicas/bminf/practica-3/P3-Recomendacion.ipynb Cell 20\u001b[0m in \u001b[0;36m1\n\u001b[1;32m     <a href='vscode-notebook-cell:/home/xu/Escritorio/Universidad/BMINF/Practicas/bminf/practica-3/P3-Recomendacion.ipynb#X24sZmlsZQ%3D%3D?line=14'>15</a>\u001b[0m \u001b[39m# Produce a rating split and test a set of recommenders. \u001b[39;00m\n\u001b[1;32m     <a href='vscode-notebook-cell:/home/xu/Escritorio/Universidad/BMINF/Practicas/bminf/practica-3/P3-Recomendacion.ipynb#X24sZmlsZQ%3D%3D?line=15'>16</a>\u001b[0m train, test \u001b[39m=\u001b[39m ratings\u001b[39m.\u001b[39mrandom_split(\u001b[39m0.8\u001b[39m)\n\u001b[0;32m---> <a href='vscode-notebook-cell:/home/xu/Escritorio/Universidad/BMINF/Practicas/bminf/practica-3/P3-Recomendacion.ipynb#X24sZmlsZQ%3D%3D?line=16'>17</a>\u001b[0m metrics \u001b[39m=\u001b[39m [Precision(test, cutoff\u001b[39m=\u001b[39mcutoff, threshold\u001b[39m=\u001b[39mthreshold), Recall(test, cutoff\u001b[39m=\u001b[39mcutoff, threshold\u001b[39m=\u001b[39mthreshold)]\n\u001b[1;32m     <a href='vscode-notebook-cell:/home/xu/Escritorio/Universidad/BMINF/Practicas/bminf/practica-3/P3-Recomendacion.ipynb#X24sZmlsZQ%3D%3D?line=17'>18</a>\u001b[0m run_recommenders(train, metrics, k, minr, topn)\n",
      "\u001b[0;31mNameError\u001b[0m: name 'Precision' is not defined"
     ]
    }
   ],
   "source": [
    "import datetime\n",
    "import time\n",
    "\n",
    "# Test data structures and algorithms on a dataset.\n",
    "def test(ratings_file, example_user, example_item, k, minr, topn=np.inf, cutoff=np.inf, threshold=1, sep=','):\n",
    "    print(colored(f'Reading the data at ' + time.strftime('%X...'), 'blue'))\n",
    "    start = time.time()\n",
    "    ratings = Ratings(ratings_file, sep)\n",
    "    print(f'Ratings matrix takes {round(10 * ratings.matrix().nbytes / 1024 / 1024) / 10:,} MB in RAM')\n",
    "    timer(start)\n",
    "\n",
    "    # Test Ratings class on the dataset.\n",
    "    test_data(ratings, example_user, example_item)\n",
    "    \n",
    "    # Produce a rating split and test a set of recommenders. \n",
    "    train, test = ratings.random_split(0.8)\n",
    "    metrics = [Precision(test, cutoff=cutoff, threshold=threshold), Recall(test, cutoff=cutoff, threshold=threshold)]\n",
    "    run_recommenders(train, metrics, k, minr, topn)\n",
    "\n",
    "# Test the rating data handling code (Ratings class).\n",
    "def test_data(ratings, example_user, example_item):\n",
    "    print('-------------------------\\nTesting the ratings data structures')\n",
    "    print(f'{ratings.nratings():,} ratings by {ratings.nusers():,} users on {ratings.nitems():,} items')\n",
    "    print(f'Ratings of user {example_user}: {ratings.user_ratings(example_user)}')\n",
    "    print(f'Ratings of item {example_item}: {ratings.item_ratings(example_item)}')\n",
    "\n",
    "# Run some recommenders on the some rating data as input - no evaluation.\n",
    "def run_recommenders(train, metrics, k, minr, topn):\n",
    "    print('-------------------------')\n",
    "    start = time.time()\n",
    "    run_recommender(RandomRecommender(train), metrics, topn)\n",
    "    start = timer(start)\n",
    "    \n",
    "    print('-------------------------')\n",
    "    run_recommender(MajorityRecommender(train, threshold=4), metrics, topn)\n",
    "    start = timer(start)\n",
    "    \n",
    "    print('-------------------------')\n",
    "    run_recommender(AverageRecommender(train, minr), metrics, topn)\n",
    "    start = timer(start)\n",
    "    \n",
    "    print('-------------------------')\n",
    "    print('Creating user cosine similarity')\n",
    "    sim = CosineUserSimilarity(train)\n",
    "    start = timer(start)\n",
    "    # print('-------------------------')\n",
    "    print('Creating kNN recommender')\n",
    "    knn = UserKNNRecommender(train, sim, k)\n",
    "    start = timer(start)\n",
    "    run_recommender(knn, metrics, topn)\n",
    "    timer(start)\n",
    "    \n",
    "    # print('-------------------------')\n",
    "    # start = time.time()\n",
    "    # print('Creating MF recommender')\n",
    "    # mf = MF(train, dim=20, lrate=.0001, reg=.005, nepochs=50)\n",
    "    # timer(start)\n",
    "    # start = time.time()\n",
    "    # run_recommender(mf, metrics, topn)\n",
    "    # timer(start)\n",
    "\n",
    "# Run a recommender and evaluate a list of metrics on its output.\n",
    "def run_recommender(recommender, metrics, topn):\n",
    "    print(f'Testing {recommender} (top {topn})')\n",
    "    recommendation = recommender.recommend(topn)\n",
    "    print('Four example recommendations:\\n' + recommendation.display(4))\n",
    "    for metric in metrics:\n",
    "        print(metric, '=', metric.compute(recommendation))\n",
    "\n",
    "from termcolor import colored\n",
    "def timer(start):\n",
    "    print(colored(f'--> elapsed time: {datetime.timedelta(seconds=round(time.time() - start))} <--', 'blue'))\n",
    "    return time.time()\n",
    "    \n",
    "np.random.seed(0)\n",
    "print('=========================\\nTesting toy 1 dataset')\n",
    "test('recsys-data/toy1.csv', example_user='v', example_item='b', k=4, minr=2, topn=4, cutoff=4)\n",
    "print('=========================\\nTesting toy 2 dataset')\n",
    "test('recsys-data/toy2.csv', example_user=1, example_item=2, k=4, minr=2, topn=4, cutoff=4)\n",
    "print('=========================\\nTesting MovieLens \\'1 million\\' dataset')\n",
    "test('recsys-data/ratings-1m.dat', example_user=200, example_item=1000, k=10, minr=3, topn=10, cutoff=10, threshold=4, sep='::')\n",
    "print('=========================\\nDone.')\n",
    "\n",
    "# Additional testing?\n",
    "student_test()"
   ]
  },
  {
   "cell_type": "markdown",
   "metadata": {},
   "source": [
    "### Salida obtenida por el estudiante\n",
    "\n",
    "*(por hacer)*"
   ]
  }
 ],
 "metadata": {
  "colab": {
   "collapsed_sections": [],
   "name": "Enunciado P2",
   "provenance": [],
   "toc_visible": true
  },
  "kernelspec": {
   "display_name": "Python 3 (ipykernel)",
   "language": "python",
   "name": "python3"
  },
  "language_info": {
   "codemirror_mode": {
    "name": "ipython",
    "version": 3
   },
   "file_extension": ".py",
   "mimetype": "text/x-python",
   "name": "python",
   "nbconvert_exporter": "python",
   "pygments_lexer": "ipython3",
   "version": "3.8.10"
  }
 },
 "nbformat": 4,
 "nbformat_minor": 4
}
