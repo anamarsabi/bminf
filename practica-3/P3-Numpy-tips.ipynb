{
 "cells": [
  {
   "cell_type": "markdown",
   "id": "aac2f2ad-b7ca-4bd8-b066-fe179ddb23cf",
   "metadata": {},
   "source": [
    "### **Búsqueda y Minería de Información 2022-23**\n",
    "### Universidad Autónoma de Madrid, Escuela Politécnica Superior\n",
    "### Grado en Ingeniería Informática, 4º curso\n",
    "\n",
    "# Selección de funcionalidades NumPy\n",
    "\n",
    "Se proporciona aquí un resumen de funcionalidades NumPy que son útiles para la práctica 3, en forma de ejemplos."
   ]
  },
  {
   "cell_type": "markdown",
   "id": "1f9aebb6-6052-46c7-a041-239694bdf9a2",
   "metadata": {},
   "source": [
    "<hr>\n",
    "\n",
    "#### Array creation"
   ]
  },
  {
   "cell_type": "code",
   "execution_count": null,
   "id": "32e9d548-e877-4b55-b26d-1319c5f66aac",
   "metadata": {},
   "outputs": [],
   "source": [
    "import numpy as np\n",
    "\n",
    "a1 = np.array([1, 2, 3, 4])\n",
    "b1 = np.array([5, 6, 7, 8])\n",
    "c1 = np.array([9, 10, 11])\n",
    "x1 = np.arange(5)\n",
    "y1 = np.arange(5, 10)\n",
    "z1 = np.zeros(5)\n",
    "\n",
    "a2 = np.array([a1, b1, [9, 10, 11, 12]])\n",
    "b2 = np.array([[13, 14, 15, 16], [17, 18, 19, 20], [21, 22, 23, 24]])\n",
    "x2 = np.arange(20).reshape(4, 5)\n",
    "y2 = np.ones((2, 3))\n",
    "\n",
    "print('a1')\n",
    "display(a1, a1.shape)\n",
    "print('\\nb1')\n",
    "display(b1, b1.shape)\n",
    "print('\\nx1')\n",
    "display(x1, x1.shape)\n",
    "print('\\ny1')\n",
    "display(y1, y1.shape)\n",
    "print('\\nz1')\n",
    "display(z1, z1.shape)\n",
    "print('\\na2')\n",
    "display(a2, a2.shape)\n",
    "print('\\nb2')\n",
    "display(b2, b2.shape)\n",
    "print('\\nx2')\n",
    "display(x2, x2.shape)\n",
    "print('\\ny2')\n",
    "display(y2, y2.shape)"
   ]
  },
  {
   "cell_type": "markdown",
   "id": "432b05f7-7797-4b8d-80bf-b8615ba938d7",
   "metadata": {},
   "source": [
    "<hr>\n",
    "\n",
    "#### Slicing\n",
    "\n",
    "Array range syntax: \n",
    "* `array[begin:end:step]`\n",
    "* `array[list/array of indices]`\n",
    "* Muitidim `array[range, range, range]`"
   ]
  },
  {
   "cell_type": "code",
   "execution_count": null,
   "id": "0da0a00c-76f0-49be-8a34-6911ca9ea1ca",
   "metadata": {},
   "outputs": [],
   "source": [
    "print('Subranges in 1D array')\n",
    "print('a1')\n",
    "display(a1[0:2], a1[:2], a1[1:], a1[:-1], a1[:-2], a1[::], a1[::-1], a1[[1, 3]])\n",
    "print('\\nSubranges in 2D array')\n",
    "print('a2')\n",
    "display(a2[1], a2[1,:], a2[:,1], a2[1:3, [0, 2]])\n",
    "print('\\nCondition slicing (multidim arrays get flatten)')\n",
    "print('a2')\n",
    "display(a2[a2>6])"
   ]
  },
  {
   "cell_type": "markdown",
   "id": "771e29bd-6a1b-4a4b-9723-74661b438a8d",
   "metadata": {},
   "source": [
    "<hr>\n",
    "\n",
    "#### Array and matrix product"
   ]
  },
  {
   "cell_type": "code",
   "execution_count": null,
   "id": "30857644-7930-4930-93cb-b575f130f22f",
   "metadata": {},
   "outputs": [],
   "source": [
    "print('1D dot product vs. element-wise multiplication')\n",
    "display(a1 @ b1, a1 * b1)\n",
    "print('\\nMatrix transpose')\n",
    "display(b2, b2.T)\n",
    "print('\\n2D dot product vs. element-wise multiplication')\n",
    "display(a2 @ b2.T, a2 * b2)"
   ]
  },
  {
   "cell_type": "markdown",
   "id": "03d9a4b1-1dbc-4800-b9c5-23393dd43d91",
   "metadata": {},
   "source": [
    "<hr>\n",
    "\n",
    "#### Element-wise scalar operations"
   ]
  },
  {
   "cell_type": "code",
   "execution_count": null,
   "id": "46b90584-ce45-46d3-a42b-057430f628f6",
   "metadata": {},
   "outputs": [],
   "source": [
    "display(a2, np.sqrt(a2))"
   ]
  },
  {
   "cell_type": "markdown",
   "id": "51907fa7-f10f-4265-95cf-33ad1123532a",
   "metadata": {},
   "source": [
    "<hr>\n",
    "\n",
    "#### Broadcasting"
   ]
  },
  {
   "cell_type": "code",
   "execution_count": null,
   "id": "38f9920a-83eb-4b45-aa2f-05361aaa455a",
   "metadata": {},
   "outputs": [],
   "source": [
    "print('2D array and scalar')\n",
    "display(a2, a2 + 2, a2 * 2)\n",
    "print('\\n2D and 1D array')\n",
    "print('Row-wise')\n",
    "display(b1, a2 + b1, a2 / b1) \n",
    "print('Column-wise')\n",
    "display(c1, (a2.T + c1).T, (a2.T / c1).T)"
   ]
  },
  {
   "cell_type": "markdown",
   "id": "65e4e767-c16b-4d84-b721-5a89f3244bee",
   "metadata": {},
   "source": [
    "<hr>\n",
    "\n",
    "#### Masking"
   ]
  },
  {
   "cell_type": "code",
   "execution_count": null,
   "id": "cb62af73-b7e8-49f1-b783-207b149aac9a",
   "metadata": {
    "tags": []
   },
   "outputs": [],
   "source": [
    "print('Given mask')\n",
    "mask = np.array([[0, 1, 0, 0], [1, 0, 1, 0], [0, 1, 0, 1]])\n",
    "display(a2, mask, a2*mask)\n",
    "print('\\nCondition mask')\n",
    "mask = b2 > 18\n",
    "display(a2, mask, a2*mask, a2[mask])\n",
    "print('\\nRandom mask')\n",
    "mask = np.random.choice([0, 1], size=a2.shape, p=[0.3, 0.7])\n",
    "display(a2, mask, a2*mask)"
   ]
  },
  {
   "cell_type": "markdown",
   "id": "1511a345-f060-48df-a1cc-9ad783a0d84e",
   "metadata": {},
   "source": [
    "<hr>\n",
    "\n",
    "#### Useful functions"
   ]
  },
  {
   "cell_type": "code",
   "execution_count": null,
   "id": "6161ba9c-b384-48fb-9531-2026e900d284",
   "metadata": {},
   "outputs": [],
   "source": [
    "print('Sum, mean...')\n",
    "display(a2, a2.sum(), a2.sum(axis=0), a2.sum(axis=1), a2.mean())\n",
    "print('\\nDiagonals')\n",
    "display(a2, a2.diagonal())\n",
    "a2copy = a2.copy()\n",
    "np.fill_diagonal(a2copy, 0)\n",
    "display(a2copy)"
   ]
  }
 ],
 "metadata": {
  "kernelspec": {
   "display_name": "Python 3 (ipykernel)",
   "language": "python",
   "name": "python3"
  },
  "language_info": {
   "codemirror_mode": {
    "name": "ipython",
    "version": 3
   },
   "file_extension": ".py",
   "mimetype": "text/x-python",
   "name": "python",
   "nbconvert_exporter": "python",
   "pygments_lexer": "ipython3",
   "version": "3.9.7"
  }
 },
 "nbformat": 4,
 "nbformat_minor": 5
}
